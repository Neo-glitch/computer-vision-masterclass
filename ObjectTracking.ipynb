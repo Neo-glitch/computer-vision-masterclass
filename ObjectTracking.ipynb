{
 "cells": [
  {
   "cell_type": "markdown",
   "id": "b51124a3-f297-405b-9e51-b06b41be5a62",
   "metadata": {},
   "source": [
    "* On running cell, on the video....Draw a Bouding box on the image that you want to track\n",
    "\n",
    "* N.B: Find a way to run this in google colab"
   ]
  },
  {
   "cell_type": "code",
   "execution_count": 1,
   "id": "915de085-498e-419a-8bad-04f02c5796f2",
   "metadata": {},
   "outputs": [
    {
     "name": "stdout",
     "output_type": "stream",
     "text": [
      "(425, 261, 86, 183)\n"
     ]
    }
   ],
   "source": [
    "# testing object tracking using local pc, since working with a video\n",
    "\n",
    "# KCF(Kernel Covariate Filtering)\n",
    "import cv2\n",
    "\n",
    "\n",
    "tracker = cv2.TrackerKCF_create()\n",
    "video = cv2.VideoCapture(\"C:/Users/princ/Documents/JupyterNotes/Computer vision masterclass/files/race.mp4\")\n",
    "ret, frame = video.read()  # reads first frame of video\n",
    "bbox = cv2.selectROI(frame)  #  allows us to select bounding box for tracking object\n",
    "print(bbox) # initial bbox before object starts moving\n",
    "\n",
    "ret = tracker.init(frame, bbox)\n",
    "\n",
    "# track obj in video\n",
    "while True:\n",
    "    ret, frame = video.read()\n",
    "    \n",
    "    if not ret:\n",
    "        # at end of video\n",
    "        break\n",
    "    \n",
    "    ret, bbox = tracker.update(frame)\n",
    "    \n",
    "    if ret:\n",
    "        # for each bounding box point in each bbox\n",
    "        (x, y, w, h) = [int(v) for v in bbox]\n",
    "        cv2.rectangle(frame, (x, y), (x + w, y + h), (0, 0, 255), 2, 1)    \n",
    "    else:\n",
    "        cv2.putText(frame, \"Error\", (100, 80), cv2.FONT_HERSHEY_SIMPLEX, 1, (0, 0, 255), 2)\n",
    "        \n",
    "    cv2.imshow(\"Runner tracker KCF\", frame)\n",
    "    if(cv2.waitKey(1) == 13):\n",
    "        # Enter key pressed\n",
    "        break;\n",
    "        \n",
    "video.release()\n",
    "cv2.destroyAllWindows() "
   ]
  },
  {
   "cell_type": "code",
   "execution_count": 2,
   "id": "702f7204-f16a-463e-acea-394d19563b5e",
   "metadata": {},
   "outputs": [
    {
     "name": "stdout",
     "output_type": "stream",
     "text": [
      "(444, 259, 87, 184)\n"
     ]
    }
   ],
   "source": [
    "# Object tracking using CSRT(slower than kcf but more accurate)\n",
    "import cv2\n",
    "\n",
    "\n",
    "tracker = cv2.TrackerCSRT_create()\n",
    "video = cv2.VideoCapture(\"C:/Users/princ/Documents/JupyterNotes/Computer vision masterclass/files/race.mp4\")\n",
    "ret, frame = video.read()  # reads first frame of video\n",
    "bbox = cv2.selectROI(frame)  #  allows us to select bounding box for tracking object\n",
    "print(bbox)    # initial bbox before object starts moving\n",
    "\n",
    "\n",
    "ret = tracker.init(frame, bbox)\n",
    "\n",
    "# track obj in video\n",
    "while True:\n",
    "    ret, frame = video.read()\n",
    "    \n",
    "    if not ret:\n",
    "        # at end of video\n",
    "        break    \n",
    "    ret, bbox = tracker.update(frame)\n",
    "    \n",
    "    if ret:\n",
    "        # for each bounding box point in each bbox\n",
    "        (x, y, w, h) = [int(v) for v in bbox]\n",
    "        cv2.rectangle(frame, (x, y), (x + w, y + h), (0, 0, 255), 2, 1)\n",
    "    else:\n",
    "        cv2.putText(frame, \"Error\", (100, 80), cv2.FONT_HERSHEY_SIMPLEX, 1, (0, 0, 255), 2)\n",
    "        \n",
    "    cv2.imshow(\"Runner tracker CSRT\", frame)\n",
    "    \n",
    "    if(cv2.waitKey(1) == 13):\n",
    "        # Enter key pressed\n",
    "        break;\n",
    "        \n",
    "video.release()\n",
    "cv2.destroyAllWindows() "
   ]
  },
  {
   "cell_type": "markdown",
   "id": "d6788695-af5c-473e-8172-bf5d9a84013d",
   "metadata": {},
   "source": [
    "### HomeWork"
   ]
  },
  {
   "cell_type": "code",
   "execution_count": 8,
   "id": "664698e8-0427-421d-bba7-3af8bf75e4f0",
   "metadata": {},
   "outputs": [
    {
     "name": "stdout",
     "output_type": "stream",
     "text": [
      "(615, 111, 36, 74)\n"
     ]
    }
   ],
   "source": [
    "import cv2\n",
    "\n",
    "\n",
    "# tracker = cv2.TrackerCSRT_create()\n",
    "tracker = cv2.TrackerKCF_create()\n",
    "video = cv2.VideoCapture(\"C:/Users/princ/Documents/JupyterNotes/Computer vision masterclass/files/street.mp4\")\n",
    "ret, frame = video.read()  # reads first frame of video\n",
    "bbox = cv2.selectROI(frame)  #  allows us to select bounding box for tracking object\n",
    "print(bbox)    # initial bbox before object starts moving\n",
    "\n",
    "\n",
    "ret = tracker.init(frame, bbox)\n",
    "\n",
    "# track obj in video\n",
    "while True:\n",
    "    ret, frame = video.read()\n",
    "    \n",
    "    if not ret:\n",
    "        # at end of video\n",
    "        break    \n",
    "    ret, bbox = tracker.update(frame)\n",
    "    \n",
    "    if ret:\n",
    "        # for each bounding box point in each bbox\n",
    "        (x, y, w, h) = [int(v) for v in bbox]\n",
    "        cv2.rectangle(frame, (x, y), (x + w, y + h), (0, 0, 255), 2, 1)\n",
    "    else:\n",
    "        cv2.putText(frame, \"Error\", (100, 80), cv2.FONT_HERSHEY_SIMPLEX, 1, (0, 0, 255), 2)\n",
    "        \n",
    "    cv2.imshow(\"Runner tracker CSRT\", frame)\n",
    "    \n",
    "    if(cv2.waitKey(1) == 13):\n",
    "        # Enter key pressed\n",
    "        break;\n",
    "        \n",
    "video.release()\n",
    "cv2.destroyAllWindows() "
   ]
  },
  {
   "cell_type": "code",
   "execution_count": null,
   "id": "16c71dcf-73ef-4a2f-8d02-ac24bcfb4704",
   "metadata": {},
   "outputs": [],
   "source": []
  },
  {
   "cell_type": "code",
   "execution_count": null,
   "id": "575c4c14-bd49-40a9-ae4e-ce5198d075ef",
   "metadata": {},
   "outputs": [],
   "source": []
  },
  {
   "cell_type": "code",
   "execution_count": null,
   "id": "07dc36d3-c52c-41fe-b46e-74ac89ce0201",
   "metadata": {},
   "outputs": [],
   "source": []
  },
  {
   "cell_type": "code",
   "execution_count": null,
   "id": "0701b2b4-ade5-41db-893c-62d78932b6ff",
   "metadata": {},
   "outputs": [],
   "source": []
  },
  {
   "cell_type": "code",
   "execution_count": null,
   "id": "d13c3a85-158c-4f76-a1ef-b2686cc29e62",
   "metadata": {},
   "outputs": [],
   "source": []
  },
  {
   "cell_type": "code",
   "execution_count": null,
   "id": "91b59be9-82d0-4b67-aadf-ce58474de978",
   "metadata": {},
   "outputs": [],
   "source": []
  },
  {
   "cell_type": "code",
   "execution_count": null,
   "id": "452301b8-8958-4a19-9cba-1a73cef6bd63",
   "metadata": {},
   "outputs": [],
   "source": []
  },
  {
   "cell_type": "code",
   "execution_count": null,
   "id": "3c589611-2811-498b-accc-400a8f74d40b",
   "metadata": {},
   "outputs": [],
   "source": []
  },
  {
   "cell_type": "code",
   "execution_count": null,
   "id": "6c0f7b2d-6656-4880-80c2-7c9cd9a83740",
   "metadata": {},
   "outputs": [],
   "source": []
  },
  {
   "cell_type": "code",
   "execution_count": null,
   "id": "8b40e2ff-ad15-4100-acbe-c5ef6b5e2313",
   "metadata": {},
   "outputs": [],
   "source": []
  },
  {
   "cell_type": "code",
   "execution_count": null,
   "id": "4e4bda8f-98b8-4bb4-a5a2-67e61d2148b6",
   "metadata": {},
   "outputs": [],
   "source": []
  },
  {
   "cell_type": "code",
   "execution_count": null,
   "id": "7abca220-e7f1-41f2-af9b-faf311e6f7cb",
   "metadata": {},
   "outputs": [],
   "source": []
  },
  {
   "cell_type": "code",
   "execution_count": null,
   "id": "0406787e-2493-47f7-925f-44af880781e8",
   "metadata": {},
   "outputs": [],
   "source": []
  },
  {
   "cell_type": "code",
   "execution_count": null,
   "id": "4fdb1f92-318c-4201-bded-3afe6c91599a",
   "metadata": {},
   "outputs": [],
   "source": []
  },
  {
   "cell_type": "code",
   "execution_count": null,
   "id": "38e59948-6dba-4d18-a305-3e52451ed41c",
   "metadata": {},
   "outputs": [],
   "source": []
  },
  {
   "cell_type": "code",
   "execution_count": null,
   "id": "fc182e5a-066e-4270-918e-8019fa0ed8c8",
   "metadata": {},
   "outputs": [],
   "source": []
  },
  {
   "cell_type": "code",
   "execution_count": null,
   "id": "91ce6a03-5aa0-4e3b-9807-477c13837767",
   "metadata": {},
   "outputs": [],
   "source": []
  },
  {
   "cell_type": "code",
   "execution_count": null,
   "id": "d64b95a6-d39f-4cef-a574-2f5ff57e6c11",
   "metadata": {},
   "outputs": [],
   "source": []
  },
  {
   "cell_type": "code",
   "execution_count": null,
   "id": "3b025657-caab-43c8-9b44-c66be71fcafa",
   "metadata": {},
   "outputs": [],
   "source": []
  },
  {
   "cell_type": "code",
   "execution_count": null,
   "id": "9981c7ff-4a81-487c-8185-39569dabd881",
   "metadata": {},
   "outputs": [],
   "source": []
  },
  {
   "cell_type": "code",
   "execution_count": null,
   "id": "cefe987f-d62a-436c-98b9-e9d305f82247",
   "metadata": {},
   "outputs": [],
   "source": []
  },
  {
   "cell_type": "code",
   "execution_count": null,
   "id": "d2b897dc-45da-4542-974d-66aaafa108bb",
   "metadata": {},
   "outputs": [],
   "source": []
  },
  {
   "cell_type": "code",
   "execution_count": null,
   "id": "3dbf7f21-d419-4767-8619-dbffc292a4dd",
   "metadata": {},
   "outputs": [],
   "source": []
  },
  {
   "cell_type": "code",
   "execution_count": null,
   "id": "a1591116-9385-4a97-bc6d-cf75b307c032",
   "metadata": {},
   "outputs": [],
   "source": []
  },
  {
   "cell_type": "code",
   "execution_count": null,
   "id": "c072eaf2-ae12-40f6-97cd-7484f983475d",
   "metadata": {},
   "outputs": [],
   "source": []
  },
  {
   "cell_type": "code",
   "execution_count": null,
   "id": "858fa242-77eb-40cf-a0c8-0ebc52dfc5c1",
   "metadata": {},
   "outputs": [],
   "source": []
  },
  {
   "cell_type": "code",
   "execution_count": null,
   "id": "26311589-00d1-4bfe-aa57-cbaab0669c27",
   "metadata": {},
   "outputs": [],
   "source": []
  },
  {
   "cell_type": "code",
   "execution_count": null,
   "id": "e9851aa8-d256-45cd-b9ae-f8c5e2dbca3f",
   "metadata": {},
   "outputs": [],
   "source": []
  },
  {
   "cell_type": "code",
   "execution_count": null,
   "id": "ac8e5f72-1ed7-4b15-a721-1366e252319a",
   "metadata": {},
   "outputs": [],
   "source": []
  },
  {
   "cell_type": "code",
   "execution_count": null,
   "id": "e061ecf6-66e9-4f46-974c-2115d4a10a63",
   "metadata": {},
   "outputs": [],
   "source": []
  },
  {
   "cell_type": "code",
   "execution_count": null,
   "id": "fe25abb8-0c95-4113-b232-6e2205d0185f",
   "metadata": {},
   "outputs": [],
   "source": []
  },
  {
   "cell_type": "code",
   "execution_count": null,
   "id": "2fde1328-7907-400e-86c0-780f5adbbe46",
   "metadata": {},
   "outputs": [],
   "source": []
  },
  {
   "cell_type": "code",
   "execution_count": null,
   "id": "0e028a4c-2c2d-452f-b926-5c474ca8c113",
   "metadata": {},
   "outputs": [],
   "source": []
  },
  {
   "cell_type": "code",
   "execution_count": null,
   "id": "ba941389-b8fe-4920-88ba-c4080e35da3e",
   "metadata": {},
   "outputs": [],
   "source": []
  },
  {
   "cell_type": "code",
   "execution_count": null,
   "id": "70c5d7cf-2d1b-4cdf-9d0e-0e8c4100cc2e",
   "metadata": {},
   "outputs": [],
   "source": []
  },
  {
   "cell_type": "code",
   "execution_count": null,
   "id": "60b7138c-41ad-4b0a-8856-f69b6171db42",
   "metadata": {},
   "outputs": [],
   "source": []
  },
  {
   "cell_type": "code",
   "execution_count": null,
   "id": "187e936d-4ae9-44d6-926e-98c13ece4a07",
   "metadata": {},
   "outputs": [],
   "source": []
  },
  {
   "cell_type": "code",
   "execution_count": null,
   "id": "7df4a0c6-2435-4720-8bef-65f45c7a502e",
   "metadata": {},
   "outputs": [],
   "source": []
  },
  {
   "cell_type": "code",
   "execution_count": null,
   "id": "a16e4459-5f9e-43a2-b41d-a7ce2e157f5d",
   "metadata": {},
   "outputs": [],
   "source": []
  },
  {
   "cell_type": "code",
   "execution_count": null,
   "id": "fc4393ef-66f4-4969-8e57-fb8a7876d2d9",
   "metadata": {},
   "outputs": [],
   "source": []
  },
  {
   "cell_type": "code",
   "execution_count": null,
   "id": "5ad0bba6-bd7a-4ac0-aa1b-3b12d0a2a7ca",
   "metadata": {},
   "outputs": [],
   "source": []
  },
  {
   "cell_type": "code",
   "execution_count": null,
   "id": "3b1460d7-d13c-4054-872b-5c4a7dea50d6",
   "metadata": {},
   "outputs": [],
   "source": []
  },
  {
   "cell_type": "code",
   "execution_count": null,
   "id": "4e42e870-5855-48df-869c-0941984def48",
   "metadata": {},
   "outputs": [],
   "source": []
  },
  {
   "cell_type": "code",
   "execution_count": null,
   "id": "117be781-5345-4735-bee6-c919c412f97e",
   "metadata": {},
   "outputs": [],
   "source": []
  },
  {
   "cell_type": "code",
   "execution_count": null,
   "id": "93494423-79ff-4024-95c4-ba4c0e600f44",
   "metadata": {},
   "outputs": [],
   "source": []
  },
  {
   "cell_type": "code",
   "execution_count": null,
   "id": "19e3e0de-713d-4d14-a7b4-c70d95dc4918",
   "metadata": {},
   "outputs": [],
   "source": []
  },
  {
   "cell_type": "code",
   "execution_count": null,
   "id": "100606d5-571c-44dd-be82-fb8509ac4df5",
   "metadata": {},
   "outputs": [],
   "source": []
  },
  {
   "cell_type": "code",
   "execution_count": null,
   "id": "cd037870-f949-474d-bce4-4ece5eb2a7fe",
   "metadata": {},
   "outputs": [],
   "source": []
  },
  {
   "cell_type": "code",
   "execution_count": null,
   "id": "fffe9cc5-ded1-444e-95cb-2776bc0a52fc",
   "metadata": {},
   "outputs": [],
   "source": []
  },
  {
   "cell_type": "code",
   "execution_count": null,
   "id": "c98e3cdc-14a4-4354-b1be-af73f6b650ec",
   "metadata": {},
   "outputs": [],
   "source": []
  },
  {
   "cell_type": "code",
   "execution_count": null,
   "id": "b8f63b34-e50d-473d-a12a-e6c68b8182c1",
   "metadata": {},
   "outputs": [],
   "source": []
  },
  {
   "cell_type": "code",
   "execution_count": null,
   "id": "9184d4cd-14eb-45b8-8df9-3e0fcddcaca1",
   "metadata": {},
   "outputs": [],
   "source": []
  },
  {
   "cell_type": "code",
   "execution_count": null,
   "id": "36b15132-b41a-4ec8-b66f-b332830afdb5",
   "metadata": {},
   "outputs": [],
   "source": []
  },
  {
   "cell_type": "code",
   "execution_count": null,
   "id": "3cb56515-ef42-4bb6-839b-1bc70f4c63df",
   "metadata": {},
   "outputs": [],
   "source": []
  },
  {
   "cell_type": "code",
   "execution_count": null,
   "id": "41bbe783-4fb6-4c48-9697-cac8d3369476",
   "metadata": {},
   "outputs": [],
   "source": []
  },
  {
   "cell_type": "code",
   "execution_count": null,
   "id": "6bed577d-b4a6-4eac-a58f-1d40a91bbd1d",
   "metadata": {},
   "outputs": [],
   "source": []
  },
  {
   "cell_type": "code",
   "execution_count": null,
   "id": "15ab3819-f6b8-432b-b2ba-3a8c65901ae9",
   "metadata": {},
   "outputs": [],
   "source": []
  },
  {
   "cell_type": "code",
   "execution_count": null,
   "id": "6e39952c-8a60-4681-bbf7-eac301b688da",
   "metadata": {},
   "outputs": [],
   "source": []
  },
  {
   "cell_type": "code",
   "execution_count": null,
   "id": "906ade12-e5e1-46a4-b0bd-444d6a33fa11",
   "metadata": {},
   "outputs": [],
   "source": []
  },
  {
   "cell_type": "code",
   "execution_count": null,
   "id": "8f148796-7fc0-49eb-b4ab-758347aad994",
   "metadata": {},
   "outputs": [],
   "source": []
  },
  {
   "cell_type": "code",
   "execution_count": null,
   "id": "11f164f6-4636-401d-b747-bb7282b93519",
   "metadata": {},
   "outputs": [],
   "source": []
  },
  {
   "cell_type": "code",
   "execution_count": null,
   "id": "cbc18d97-8f3d-446e-9f0f-a33f7253e4e3",
   "metadata": {},
   "outputs": [],
   "source": []
  },
  {
   "cell_type": "code",
   "execution_count": null,
   "id": "e95a44a6-92dd-40eb-a6ce-45acabe543c8",
   "metadata": {},
   "outputs": [],
   "source": []
  },
  {
   "cell_type": "code",
   "execution_count": null,
   "id": "5b2126e5-a091-49bf-be1e-8c0da9dcf2d3",
   "metadata": {},
   "outputs": [],
   "source": []
  },
  {
   "cell_type": "code",
   "execution_count": null,
   "id": "e2bc2897-b3b6-4849-a37e-e69d447eae8a",
   "metadata": {},
   "outputs": [],
   "source": []
  },
  {
   "cell_type": "code",
   "execution_count": null,
   "id": "afcfb1bf-8135-4026-bb2d-8b0a4305b535",
   "metadata": {},
   "outputs": [],
   "source": []
  },
  {
   "cell_type": "code",
   "execution_count": null,
   "id": "e719453c-0b90-4a07-8de4-30fc2b3bc7f4",
   "metadata": {},
   "outputs": [],
   "source": []
  },
  {
   "cell_type": "code",
   "execution_count": null,
   "id": "fa5ea072-913d-47a9-87a9-8d66915e8563",
   "metadata": {},
   "outputs": [],
   "source": []
  },
  {
   "cell_type": "code",
   "execution_count": null,
   "id": "30faa8ab-f093-48d0-bb56-3c6c1068e8a4",
   "metadata": {},
   "outputs": [],
   "source": []
  },
  {
   "cell_type": "code",
   "execution_count": null,
   "id": "9070ece9-5d0e-4d08-ae08-9ce6bf72d31c",
   "metadata": {},
   "outputs": [],
   "source": []
  },
  {
   "cell_type": "code",
   "execution_count": null,
   "id": "c2f47dec-9e80-4a07-92d0-a6e49e695b5f",
   "metadata": {},
   "outputs": [],
   "source": []
  },
  {
   "cell_type": "code",
   "execution_count": null,
   "id": "83d9c638-f120-4d63-a3ca-37d51ab62507",
   "metadata": {},
   "outputs": [],
   "source": []
  }
 ],
 "metadata": {
  "kernelspec": {
   "display_name": "Python 3 (ipykernel)",
   "language": "python",
   "name": "python3"
  },
  "language_info": {
   "codemirror_mode": {
    "name": "ipython",
    "version": 3
   },
   "file_extension": ".py",
   "mimetype": "text/x-python",
   "name": "python",
   "nbconvert_exporter": "python",
   "pygments_lexer": "ipython3",
   "version": "3.9.12"
  }
 },
 "nbformat": 4,
 "nbformat_minor": 5
}
