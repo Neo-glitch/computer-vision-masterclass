{
  "nbformat": 4,
  "nbformat_minor": 0,
  "metadata": {
    "colab": {
      "name": "CNN for Image clf(Simpsons Homer or Bart clf).ipynb",
      "provenance": [],
      "collapsed_sections": [],
      "authorship_tag": "ABX9TyNKpGS4e/Mg+o0bXLelpjta",
      "include_colab_link": true
    },
    "kernelspec": {
      "name": "python3",
      "display_name": "Python 3"
    },
    "language_info": {
      "name": "python"
    },
    "accelerator": "GPU",
    "gpuClass": "standard"
  },
  "cells": [
    {
      "cell_type": "markdown",
      "metadata": {
        "id": "view-in-github",
        "colab_type": "text"
      },
      "source": [
        "<a href=\"https://colab.research.google.com/github/Neo-glitch/computer-vision-masterclass/blob/main/CNN_for_Image_clf(Simpsons_Homer_or_Bart_clf).ipynb\" target=\"_parent\"><img src=\"https://colab.research.google.com/assets/colab-badge.svg\" alt=\"Open In Colab\"/></a>"
      ]
    },
    {
      "cell_type": "code",
      "execution_count": null,
      "metadata": {
        "id": "YZVnGNADHZvU",
        "colab": {
          "base_uri": "https://localhost:8080/"
        },
        "outputId": "f8968b74-1725-488d-906e-0a2654d821bf"
      },
      "outputs": [
        {
          "output_type": "stream",
          "name": "stdout",
          "text": [
            "Mounted at /content/drive\n"
          ]
        }
      ],
      "source": [
        " # mount gDrive\n",
        "from google.colab import drive\n",
        "drive.mount('/content/drive')"
      ]
    },
    {
      "cell_type": "code",
      "source": [
        "import cv2\n",
        "import numpy as np\n",
        "import os\n",
        "import zipfile\n",
        "from google.colab.patches import cv2_imshow\n",
        "import tensorflow as tf\n",
        "import tensorflow.keras as keras\n",
        "from tensorflow.keras.models import Sequential\n",
        "from tensorflow.keras.layers import Conv2D, MaxPool2D, Dense, Flatten, Dropout\n",
        "from tensorflow.keras.preprocessing.image import ImageDataGenerator  # to work effectively with images, no need for using for loops to read image\n",
        "import pandas as pd\n",
        "import seaborn as sns\n",
        "import matplotlib.pyplot as plt\n",
        "%matplotlib inline"
      ],
      "metadata": {
        "id": "xS0sEAO-HipX"
      },
      "execution_count": null,
      "outputs": []
    },
    {
      "cell_type": "code",
      "source": [
        "# diff from image used for nn clf, images here are split into test and training set\n",
        "# and each set has each image grouped to diff folder based on the image class\n",
        "# file must be in this form to work well witb tf cnn.\n",
        "path = \"/content/drive/MyDrive/Computer Vision Masterclass Files/Datasets/homer_bart_2.zip\"\n",
        "\n",
        "zip_object = zipfile.ZipFile(file = path, mode = \"r\")\n",
        "zip_object.extractall(\"./\")\n",
        "zip_object.close()"
      ],
      "metadata": {
        "id": "zYzQdoOjHirb"
      },
      "execution_count": null,
      "outputs": []
    },
    {
      "cell_type": "code",
      "source": [
        "keras.preprocessing.image.load_img(\"/content/homer_bart_2/training_set/bart/bart115.bmp\", target_size = (220, 220))"
      ],
      "metadata": {
        "id": "KdkT1jrBHith",
        "colab": {
          "base_uri": "https://localhost:8080/",
          "height": 237
        },
        "outputId": "9632a295-3ec7-44b0-a706-b5ce16eb7388"
      },
      "execution_count": null,
      "outputs": [
        {
          "output_type": "execute_result",
          "data": {
            "text/plain": [
              "<PIL.Image.Image image mode=RGB size=220x220 at 0x7EFEED440850>"
            ],
            "image/png": "[encoded data removed]"
          },
          "metadata": {},
          "execution_count": 7
        }
      ]
    },
    {
      "cell_type": "markdown",
      "source": [
        "### Train and Test set"
      ],
      "metadata": {
        "id": "R3l_9wC7Hiv1"
      }
    },
    {
      "cell_type": "code",
      "source": [
        "# preprocess image and also generate more images using data augmentation\n",
        "training_generator = ImageDataGenerator(\n",
        "    rescale = 1./255, # normalize data \n",
        "    rotation_range = 7,\n",
        "    horizontal_flip = True,\n",
        "    zoom_range = 0.2\n",
        ")"
      ],
      "metadata": {
        "id": "lrv699cdW8IX"
      },
      "execution_count": null,
      "outputs": []
    },
    {
      "cell_type": "code",
      "source": [
        "train_dataset = training_generator.flow_from_directory(\"/content/homer_bart_2/training_set\",\n",
        "                                                       target_size = (64, 64),\n",
        "                                                       batch_size = 8,\n",
        "                                                       class_mode = \"categorical\",  # could be binary since we have just two classes\n",
        "                                                       shuffle =True\n",
        "                                                       )"
      ],
      "metadata": {
        "id": "NweLIEjQHix6",
        "colab": {
          "base_uri": "https://localhost:8080/"
        },
        "outputId": "c11ee487-d644-4d46-e89d-3440716610b6"
      },
      "execution_count": null,
      "outputs": [
        {
          "output_type": "stream",
          "name": "stdout",
          "text": [
            "Found 215 images belonging to 2 classes.\n"
          ]
        }
      ]
    },
    {
      "cell_type": "code",
      "source": [
        "train_dataset.classes"
      ],
      "metadata": {
        "id": "W-ZewJZzHi0N",
        "colab": {
          "base_uri": "https://localhost:8080/"
        },
        "outputId": "d6e3c572-f95a-4bf9-8e5a-8abfa631dc15"
      },
      "execution_count": null,
      "outputs": [
        {
          "output_type": "execute_result",
          "data": {
            "text/plain": [
              "array([0, 0, 0, 0, 0, 0, 0, 0, 0, 0, 0, 0, 0, 0, 0, 0, 0, 0, 0, 0, 0, 0,\n",
              "       0, 0, 0, 0, 0, 0, 0, 0, 0, 0, 0, 0, 0, 0, 0, 0, 0, 0, 0, 0, 0, 0,\n",
              "       0, 0, 0, 0, 0, 0, 0, 0, 0, 0, 0, 0, 0, 0, 0, 0, 0, 0, 0, 0, 0, 0,\n",
              "       0, 0, 0, 0, 0, 0, 0, 0, 0, 0, 0, 0, 0, 0, 0, 0, 0, 0, 0, 0, 0, 0,\n",
              "       0, 0, 0, 0, 0, 0, 0, 0, 0, 0, 0, 0, 0, 0, 0, 0, 0, 0, 0, 0, 0, 0,\n",
              "       0, 0, 0, 0, 0, 0, 0, 0, 0, 0, 0, 0, 0, 0, 0, 0, 0, 0, 0, 0, 0, 0,\n",
              "       1, 1, 1, 1, 1, 1, 1, 1, 1, 1, 1, 1, 1, 1, 1, 1, 1, 1, 1, 1, 1, 1,\n",
              "       1, 1, 1, 1, 1, 1, 1, 1, 1, 1, 1, 1, 1, 1, 1, 1, 1, 1, 1, 1, 1, 1,\n",
              "       1, 1, 1, 1, 1, 1, 1, 1, 1, 1, 1, 1, 1, 1, 1, 1, 1, 1, 1, 1, 1, 1,\n",
              "       1, 1, 1, 1, 1, 1, 1, 1, 1, 1, 1, 1, 1, 1, 1, 1, 1], dtype=int32)"
            ]
          },
          "metadata": {},
          "execution_count": 10
        }
      ]
    },
    {
      "cell_type": "code",
      "source": [
        "train_dataset.class_indices"
      ],
      "metadata": {
        "id": "jRtuxQ_-Hi2h",
        "colab": {
          "base_uri": "https://localhost:8080/"
        },
        "outputId": "8c718ce6-0804-4f5a-9131-d0f01dd3e00f"
      },
      "execution_count": null,
      "outputs": [
        {
          "output_type": "execute_result",
          "data": {
            "text/plain": [
              "{'bart': 0, 'homer': 1}"
            ]
          },
          "metadata": {},
          "execution_count": 11
        }
      ]
    },
    {
      "cell_type": "code",
      "source": [
        "# when creating test gen, no need to apply dataAug since we are testing the cnn on this\n",
        "test_generator = ImageDataGenerator(rescale = 1./255)  \n",
        "\n",
        "test_dataset = test_generator.flow_from_directory(\"/content/homer_bart_2/test_set\",\n",
        "                                                       target_size = (64, 64),\n",
        "                                                       batch_size = 1,              # batch size for test should be 1\n",
        "                                                       class_mode = \"categorical\",  # could be binary since we have just two classes\n",
        "                                                       shuffle = False              # needed for test, so we can compare with associated output(test_data)\n",
        "                                                       )"
      ],
      "metadata": {
        "id": "PYCZK4PKHi4Z",
        "colab": {
          "base_uri": "https://localhost:8080/"
        },
        "outputId": "7f90b158-a841-4fa3-9046-1b2f5347b18d"
      },
      "execution_count": null,
      "outputs": [
        {
          "output_type": "stream",
          "name": "stdout",
          "text": [
            "Found 54 images belonging to 2 classes.\n"
          ]
        }
      ]
    },
    {
      "cell_type": "markdown",
      "source": [
        "#### Build and Train the CNN"
      ],
      "metadata": {
        "id": "ce-T9PR8Hi5f"
      }
    },
    {
      "cell_type": "code",
      "source": [
        "network = Sequential([\n",
        "        # gen 32 feature maps\n",
        "        Conv2D(filters = 32, kernel_size=(3,3), activation =\"relu\", padding = \"same\", input_shape = (64, 64, 3)),\n",
        "        MaxPool2D(pool_size = (2,2)),\n",
        "\n",
        "        Conv2D(filters = 32, kernel_size=(3,3), activation =\"relu\", padding = \"valid\"),\n",
        "        MaxPool2D(pool_size = (2,2)),\n",
        "\n",
        "        Conv2D(filters = 32, kernel_size=(3,3), activation =\"relu\", padding = \"valid\"),\n",
        "        MaxPool2D(pool_size = (2,2)),\n",
        "\n",
        "        Flatten(),\n",
        "\n",
        "        # number of neurons in hidden layers = (no_of_inputs_from_flattenLayer + no_outputs) / 2\n",
        "        # (1152 + 2) / 2 = 577.0\n",
        "\n",
        "        Dense(units = 577, activation = \"relu\"),\n",
        "        Dense(units = 577, activation = \"relu\"),\n",
        "        Dense(units = 2, activation = \"softmax\"),  # since categorical\n",
        "])\n",
        "\n",
        "network.summary()"
      ],
      "metadata": {
        "id": "H8RPzUldHi-Q",
        "colab": {
          "base_uri": "https://localhost:8080/"
        },
        "outputId": "5600112f-aac1-4ca0-993a-7e3abfdd0680"
      },
      "execution_count": null,
      "outputs": [
        {
          "output_type": "stream",
          "name": "stdout",
          "text": [
            "Model: \"sequential_3\"\n",
            "_________________________________________________________________\n",
            " Layer (type)                Output Shape              Param #   \n",
            "=================================================================\n",
            " conv2d_9 (Conv2D)           (None, 64, 64, 32)        896       \n",
            "                                                                 \n",
            " max_pooling2d_9 (MaxPooling  (None, 32, 32, 32)       0         \n",
            " 2D)                                                             \n",
            "                                                                 \n",
            " conv2d_10 (Conv2D)          (None, 30, 30, 32)        9248      \n",
            "                                                                 \n",
            " max_pooling2d_10 (MaxPoolin  (None, 15, 15, 32)       0         \n",
            " g2D)                                                            \n",
            "                                                                 \n",
            " conv2d_11 (Conv2D)          (None, 13, 13, 32)        9248      \n",
            "                                                                 \n",
            " max_pooling2d_11 (MaxPoolin  (None, 6, 6, 32)         0         \n",
            " g2D)                                                            \n",
            "                                                                 \n",
            " flatten_3 (Flatten)         (None, 1152)              0         \n",
            "                                                                 \n",
            " dense_9 (Dense)             (None, 577)               665281    \n",
            "                                                                 \n",
            " dense_10 (Dense)            (None, 577)               333506    \n",
            "                                                                 \n",
            " dense_11 (Dense)            (None, 2)                 1156      \n",
            "                                                                 \n",
            "=================================================================\n",
            "Total params: 1,019,335\n",
            "Trainable params: 1,019,335\n",
            "Non-trainable params: 0\n",
            "_________________________________________________________________\n"
          ]
        }
      ]
    },
    {
      "cell_type": "code",
      "source": [
        "network.compile(optimizer =\"Adam\", loss = \"categorical_crossentropy\", metrics = [\"accuracy\"])"
      ],
      "metadata": {
        "id": "U22r10KXHjAk"
      },
      "execution_count": null,
      "outputs": []
    },
    {
      "cell_type": "code",
      "source": [
        "history = network.fit(train_dataset, epochs = 40, validation_data = test_dataset)"
      ],
      "metadata": {
        "id": "S4Mc0Q7XHjDA",
        "colab": {
          "base_uri": "https://localhost:8080/"
        },
        "outputId": "ce2112f1-d8fb-4415-e742-6d353f10155f"
      },
      "execution_count": null,
      "outputs": [
        {
          "output_type": "stream",
          "name": "stdout",
          "text": [
            "Epoch 1/40\n",
            "27/27 [==============================] - 2s 40ms/step - loss: 0.7225 - accuracy: 0.5767 - val_loss: 0.6748 - val_accuracy: 0.5185\n",
            "Epoch 2/40\n",
            "27/27 [==============================] - 1s 26ms/step - loss: 0.6461 - accuracy: 0.6000 - val_loss: 0.6836 - val_accuracy: 0.5370\n",
            "Epoch 3/40\n",
            "27/27 [==============================] - 1s 25ms/step - loss: 0.5225 - accuracy: 0.7442 - val_loss: 0.8331 - val_accuracy: 0.6667\n",
            "Epoch 4/40\n",
            "27/27 [==============================] - 1s 25ms/step - loss: 0.4719 - accuracy: 0.7674 - val_loss: 0.2811 - val_accuracy: 0.9074\n",
            "Epoch 5/40\n",
            "27/27 [==============================] - 1s 26ms/step - loss: 0.3669 - accuracy: 0.8093 - val_loss: 0.4788 - val_accuracy: 0.7963\n",
            "Epoch 6/40\n",
            "27/27 [==============================] - 1s 26ms/step - loss: 0.3637 - accuracy: 0.8186 - val_loss: 0.5860 - val_accuracy: 0.7407\n",
            "Epoch 7/40\n",
            "27/27 [==============================] - 1s 25ms/step - loss: 0.3167 - accuracy: 0.8558 - val_loss: 0.3309 - val_accuracy: 0.9074\n",
            "Epoch 8/40\n",
            "27/27 [==============================] - 1s 26ms/step - loss: 0.3135 - accuracy: 0.8605 - val_loss: 0.2228 - val_accuracy: 0.8519\n",
            "Epoch 9/40\n",
            "27/27 [==============================] - 1s 26ms/step - loss: 0.2159 - accuracy: 0.9349 - val_loss: 0.2685 - val_accuracy: 0.8519\n",
            "Epoch 10/40\n",
            "27/27 [==============================] - 1s 25ms/step - loss: 0.2460 - accuracy: 0.8977 - val_loss: 0.3291 - val_accuracy: 0.8889\n",
            "Epoch 11/40\n",
            "27/27 [==============================] - 1s 25ms/step - loss: 0.2320 - accuracy: 0.8884 - val_loss: 0.1950 - val_accuracy: 0.9074\n",
            "Epoch 12/40\n",
            "27/27 [==============================] - 1s 26ms/step - loss: 0.1840 - accuracy: 0.9349 - val_loss: 0.2130 - val_accuracy: 0.8889\n",
            "Epoch 13/40\n",
            "27/27 [==============================] - 1s 25ms/step - loss: 0.2686 - accuracy: 0.8791 - val_loss: 0.3054 - val_accuracy: 0.8333\n",
            "Epoch 14/40\n",
            "27/27 [==============================] - 1s 25ms/step - loss: 0.2022 - accuracy: 0.9023 - val_loss: 0.1907 - val_accuracy: 0.9259\n",
            "Epoch 15/40\n",
            "27/27 [==============================] - 1s 26ms/step - loss: 0.2178 - accuracy: 0.9023 - val_loss: 0.2465 - val_accuracy: 0.9074\n",
            "Epoch 16/40\n",
            "27/27 [==============================] - 1s 26ms/step - loss: 0.1597 - accuracy: 0.9209 - val_loss: 0.3235 - val_accuracy: 0.9074\n",
            "Epoch 17/40\n",
            "27/27 [==============================] - 1s 25ms/step - loss: 0.1226 - accuracy: 0.9395 - val_loss: 0.1855 - val_accuracy: 0.9444\n",
            "Epoch 18/40\n",
            "27/27 [==============================] - 1s 26ms/step - loss: 0.1598 - accuracy: 0.9349 - val_loss: 0.4797 - val_accuracy: 0.7963\n",
            "Epoch 19/40\n",
            "27/27 [==============================] - 1s 26ms/step - loss: 0.0781 - accuracy: 0.9721 - val_loss: 0.2108 - val_accuracy: 0.9444\n",
            "Epoch 20/40\n",
            "27/27 [==============================] - 1s 25ms/step - loss: 0.1782 - accuracy: 0.9256 - val_loss: 0.1638 - val_accuracy: 0.9074\n",
            "Epoch 21/40\n",
            "27/27 [==============================] - 1s 26ms/step - loss: 0.1229 - accuracy: 0.9442 - val_loss: 0.3538 - val_accuracy: 0.9444\n",
            "Epoch 22/40\n",
            "27/27 [==============================] - 1s 26ms/step - loss: 0.0722 - accuracy: 0.9674 - val_loss: 0.0966 - val_accuracy: 0.9444\n",
            "Epoch 23/40\n",
            "27/27 [==============================] - 1s 25ms/step - loss: 0.1484 - accuracy: 0.9395 - val_loss: 0.1216 - val_accuracy: 0.9630\n",
            "Epoch 24/40\n",
            "27/27 [==============================] - 1s 25ms/step - loss: 0.1654 - accuracy: 0.9535 - val_loss: 0.1414 - val_accuracy: 0.9444\n",
            "Epoch 25/40\n",
            "27/27 [==============================] - 1s 25ms/step - loss: 0.1575 - accuracy: 0.9442 - val_loss: 0.1912 - val_accuracy: 0.9074\n",
            "Epoch 26/40\n",
            "27/27 [==============================] - 1s 24ms/step - loss: 0.0934 - accuracy: 0.9721 - val_loss: 0.0643 - val_accuracy: 0.9815\n",
            "Epoch 27/40\n",
            "27/27 [==============================] - 1s 25ms/step - loss: 0.0313 - accuracy: 0.9814 - val_loss: 0.1681 - val_accuracy: 0.9630\n",
            "Epoch 28/40\n",
            "27/27 [==============================] - 1s 26ms/step - loss: 0.1093 - accuracy: 0.9721 - val_loss: 0.1356 - val_accuracy: 0.9630\n",
            "Epoch 29/40\n",
            "27/27 [==============================] - 1s 26ms/step - loss: 0.0741 - accuracy: 0.9860 - val_loss: 0.3916 - val_accuracy: 0.9259\n",
            "Epoch 30/40\n",
            "27/27 [==============================] - 1s 24ms/step - loss: 0.0592 - accuracy: 0.9721 - val_loss: 0.2576 - val_accuracy: 0.9074\n",
            "Epoch 31/40\n",
            "27/27 [==============================] - 1s 26ms/step - loss: 0.0393 - accuracy: 0.9860 - val_loss: 0.7739 - val_accuracy: 0.7963\n",
            "Epoch 32/40\n",
            "27/27 [==============================] - 1s 26ms/step - loss: 0.0396 - accuracy: 0.9860 - val_loss: 0.4991 - val_accuracy: 0.8889\n",
            "Epoch 33/40\n",
            "27/27 [==============================] - 1s 26ms/step - loss: 0.0941 - accuracy: 0.9814 - val_loss: 0.1274 - val_accuracy: 0.9630\n",
            "Epoch 34/40\n",
            "27/27 [==============================] - 1s 33ms/step - loss: 0.0710 - accuracy: 0.9674 - val_loss: 0.1165 - val_accuracy: 0.9444\n",
            "Epoch 35/40\n",
            "27/27 [==============================] - 1s 26ms/step - loss: 0.0384 - accuracy: 0.9860 - val_loss: 0.2983 - val_accuracy: 0.8889\n",
            "Epoch 36/40\n",
            "27/27 [==============================] - 1s 26ms/step - loss: 0.0929 - accuracy: 0.9721 - val_loss: 0.0482 - val_accuracy: 0.9815\n",
            "Epoch 37/40\n",
            "27/27 [==============================] - 1s 26ms/step - loss: 0.0463 - accuracy: 0.9814 - val_loss: 0.2681 - val_accuracy: 0.9259\n",
            "Epoch 38/40\n",
            "27/27 [==============================] - 1s 26ms/step - loss: 0.0434 - accuracy: 0.9767 - val_loss: 0.1129 - val_accuracy: 0.9259\n",
            "Epoch 39/40\n",
            "27/27 [==============================] - 1s 26ms/step - loss: 0.0120 - accuracy: 1.0000 - val_loss: 0.1438 - val_accuracy: 0.9630\n",
            "Epoch 40/40\n",
            "27/27 [==============================] - 1s 26ms/step - loss: 0.0115 - accuracy: 0.9953 - val_loss: 0.1392 - val_accuracy: 0.9444\n"
          ]
        }
      ]
    },
    {
      "cell_type": "code",
      "source": [
        "plt.plot(history.history[\"loss\"])\n",
        "plt.plot(history.history[\"val_loss\"])\n",
        "plt.show();"
      ],
      "metadata": {
        "id": "u1h-yWugHjFU",
        "colab": {
          "base_uri": "https://localhost:8080/",
          "height": 265
        },
        "outputId": "22ab657e-cef2-46d6-864e-1a2c3102820e"
      },
      "execution_count": null,
      "outputs": [
        {
          "output_type": "display_data",
          "data": {
            "text/plain": [
              "<Figure size 432x288 with 1 Axes>"
            ],
            "image/png": "[encoded data removed]"
          },
          "metadata": {
            "needs_background": "light"
          }
        }
      ]
    },
    {
      "cell_type": "markdown",
      "source": [
        "### Model evaluation"
      ],
      "metadata": {
        "id": "jUpf5NsGHjHy"
      }
    },
    {
      "cell_type": "code",
      "source": [
        "test_dataset.class_indices"
      ],
      "metadata": {
        "id": "4dz6_zF3HjKG",
        "colab": {
          "base_uri": "https://localhost:8080/"
        },
        "outputId": "b8d18faf-198d-4ff4-a31c-61b1670fb078"
      },
      "execution_count": null,
      "outputs": [
        {
          "output_type": "execute_result",
          "data": {
            "text/plain": [
              "{'bart': 0, 'homer': 1}"
            ]
          },
          "metadata": {},
          "execution_count": 26
        }
      ]
    },
    {
      "cell_type": "code",
      "source": [
        "predictions = np.argmax(network.predict(test_dataset), axis = 1)\n",
        "\n",
        "predictions"
      ],
      "metadata": {
        "id": "KfZvvfMSHjMy",
        "colab": {
          "base_uri": "https://localhost:8080/"
        },
        "outputId": "3fca33ec-6d7e-4331-a4af-b088d86fdf9f"
      },
      "execution_count": null,
      "outputs": [
        {
          "output_type": "execute_result",
          "data": {
            "text/plain": [
              "array([0, 0, 0, 0, 0, 0, 0, 1, 0, 0, 0, 0, 0, 0, 0, 0, 1, 0, 0, 0, 0, 0,\n",
              "       0, 0, 0, 0, 0, 0, 1, 1, 1, 1, 1, 1, 1, 1, 1, 1, 1, 1, 1, 1, 1, 1,\n",
              "       1, 1, 0, 1, 1, 1, 1, 1, 1, 1])"
            ]
          },
          "metadata": {},
          "execution_count": 28
        }
      ]
    },
    {
      "cell_type": "code",
      "source": [
        "test_dataset.classes"
      ],
      "metadata": {
        "id": "n45zafiMHjPQ",
        "colab": {
          "base_uri": "https://localhost:8080/"
        },
        "outputId": "83bc2f1d-479e-4ef5-8244-2f805cf88844"
      },
      "execution_count": null,
      "outputs": [
        {
          "output_type": "execute_result",
          "data": {
            "text/plain": [
              "array([0, 0, 0, 0, 0, 0, 0, 0, 0, 0, 0, 0, 0, 0, 0, 0, 0, 0, 0, 0, 0, 0,\n",
              "       0, 0, 0, 0, 0, 0, 1, 1, 1, 1, 1, 1, 1, 1, 1, 1, 1, 1, 1, 1, 1, 1,\n",
              "       1, 1, 1, 1, 1, 1, 1, 1, 1, 1], dtype=int32)"
            ]
          },
          "metadata": {},
          "execution_count": 29
        }
      ]
    },
    {
      "cell_type": "code",
      "source": [
        "from sklearn.metrics import accuracy_score, f1_score, precision_score, recall_score, \\\n",
        "                            confusion_matrix, classification_report\n",
        "\n",
        "y_test = test_dataset.classes\n",
        "\n",
        "print(f\"Model accuracy: {accuracy_score(y_test, predictions)}\")\n",
        "print(f\"Model precision: {precision_score(y_test, predictions)}\")\n",
        "print(f\"Model recall: {recall_score(y_test, predictions)}\")\n",
        "print(f\"Model f1_score: {f1_score(y_test, predictions)}\")\n",
        "\n",
        "\n",
        "sns.heatmap(confusion_matrix(y_test, predictions), annot =True)\n"
      ],
      "metadata": {
        "id": "ve2c9QN7HjRs",
        "colab": {
          "base_uri": "https://localhost:8080/",
          "height": 352
        },
        "outputId": "ec7ad2c9-8c61-418e-8587-dde090231c79"
      },
      "execution_count": null,
      "outputs": [
        {
          "output_type": "stream",
          "name": "stdout",
          "text": [
            "Model accuracy: 0.9444444444444444\n",
            "Model accuracy: 0.9259259259259259\n",
            "Model accuracy: 0.9615384615384616\n",
            "Model accuracy: 0.9433962264150944\n"
          ]
        },
        {
          "output_type": "execute_result",
          "data": {
            "text/plain": [
              "<matplotlib.axes._subplots.AxesSubplot at 0x7efdb6fe9090>"
            ]
          },
          "metadata": {},
          "execution_count": 31
        },
        {
          "output_type": "display_data",
          "data": {
            "text/plain": [
              "<Figure size 432x288 with 2 Axes>"
            ],
            "image/png": "[encoded data removed]"
          },
          "metadata": {
            "needs_background": "light"
          }
        }
      ]
    },
    {
      "cell_type": "code",
      "source": [
        "print(classification_report(y_test, predictions, target_names = [\"bart\", \"homer\"]))"
      ],
      "metadata": {
        "id": "eazLLAV_HjUB",
        "colab": {
          "base_uri": "https://localhost:8080/"
        },
        "outputId": "a40c7416-62f7-490a-db51-f386f4a521a9"
      },
      "execution_count": null,
      "outputs": [
        {
          "output_type": "stream",
          "name": "stdout",
          "text": [
            "              precision    recall  f1-score   support\n",
            "\n",
            "        bart       0.96      0.93      0.95        28\n",
            "       homer       0.93      0.96      0.94        26\n",
            "\n",
            "    accuracy                           0.94        54\n",
            "   macro avg       0.94      0.95      0.94        54\n",
            "weighted avg       0.95      0.94      0.94        54\n",
            "\n"
          ]
        }
      ]
    },
    {
      "cell_type": "markdown",
      "source": [
        "### Saving and Loading Model"
      ],
      "metadata": {
        "id": "Wz_TYJgYHjWH"
      }
    },
    {
      "cell_type": "code",
      "source": [
        "model_json = network.to_json()\n",
        "with open(\"model.json\", \"w\") as json_file:\n",
        "  json_file.write(model_json)\n"
      ],
      "metadata": {
        "id": "EKmjDoVoHjYy"
      },
      "execution_count": null,
      "outputs": []
    },
    {
      "cell_type": "code",
      "source": [
        "from keras.models import save_model\n",
        "model_saved = save_model(network, \"/content/weights.hdf5\")"
      ],
      "metadata": {
        "id": "1svq2FiyHjbo"
      },
      "execution_count": null,
      "outputs": []
    },
    {
      "cell_type": "code",
      "source": [
        "# Load the model\n",
        "with open(\"model.json\", \"r\") as json_file:\n",
        "  json_saved_model = json_file.read()\n",
        "\n",
        "json_saved_model\n",
        "\n",
        "\n",
        "network_loaded = keras.models.model_from_json(json_saved_model)\n",
        "network_loaded.load_weights(\"weights.hdf5\")\n",
        "network_loaded.compile(loss = \"categorical_crossentropy\", optimizer = \"Adam\", metrics = [\"accuracy\"])\n",
        "\n",
        "network.summary()"
      ],
      "metadata": {
        "id": "X4gbBoIzHjeQ",
        "colab": {
          "base_uri": "https://localhost:8080/"
        },
        "outputId": "a70b367d-7ca1-44c9-f3ad-625c23adebc5"
      },
      "execution_count": null,
      "outputs": [
        {
          "output_type": "stream",
          "name": "stdout",
          "text": [
            "Model: \"sequential_3\"\n",
            "_________________________________________________________________\n",
            " Layer (type)                Output Shape              Param #   \n",
            "=================================================================\n",
            " conv2d_9 (Conv2D)           (None, 64, 64, 32)        896       \n",
            "                                                                 \n",
            " max_pooling2d_9 (MaxPooling  (None, 32, 32, 32)       0         \n",
            " 2D)                                                             \n",
            "                                                                 \n",
            " conv2d_10 (Conv2D)          (None, 30, 30, 32)        9248      \n",
            "                                                                 \n",
            " max_pooling2d_10 (MaxPoolin  (None, 15, 15, 32)       0         \n",
            " g2D)                                                            \n",
            "                                                                 \n",
            " conv2d_11 (Conv2D)          (None, 13, 13, 32)        9248      \n",
            "                                                                 \n",
            " max_pooling2d_11 (MaxPoolin  (None, 6, 6, 32)         0         \n",
            " g2D)                                                            \n",
            "                                                                 \n",
            " flatten_3 (Flatten)         (None, 1152)              0         \n",
            "                                                                 \n",
            " dense_9 (Dense)             (None, 577)               665281    \n",
            "                                                                 \n",
            " dense_10 (Dense)            (None, 577)               333506    \n",
            "                                                                 \n",
            " dense_11 (Dense)            (None, 2)                 1156      \n",
            "                                                                 \n",
            "=================================================================\n",
            "Total params: 1,019,335\n",
            "Trainable params: 1,019,335\n",
            "Non-trainable params: 0\n",
            "_________________________________________________________________\n"
          ]
        }
      ]
    },
    {
      "cell_type": "markdown",
      "source": [
        "#### clf a single image"
      ],
      "metadata": {
        "id": "QRXV90-GHjgx"
      }
    },
    {
      "cell_type": "code",
      "source": [
        "image = cv2.imread(\"/content/homer_bart_2/test_set/homer/homer15.bmp\")\n",
        "cv2_imshow(image)"
      ],
      "metadata": {
        "id": "YX4I2tTbHjjU",
        "colab": {
          "base_uri": "https://localhost:8080/",
          "height": 553
        },
        "outputId": "7d095587-c65d-4bc2-bf1c-7d003d5a9f8b"
      },
      "execution_count": null,
      "outputs": [
        {
          "output_type": "display_data",
          "data": {
            "text/plain": [
              "<PIL.Image.Image image mode=RGB size=514x536 at 0x7EFDB6B91C10>"
            ],
            "image/png": "[encoded data removed]"
          },
          "metadata": {}
        }
      ]
    },
    {
      "cell_type": "code",
      "source": [
        "image.shape"
      ],
      "metadata": {
        "id": "dWvJoCGnHjmG",
        "colab": {
          "base_uri": "https://localhost:8080/"
        },
        "outputId": "ea251b1c-650c-44eb-a0d8-97ee99221616"
      },
      "execution_count": null,
      "outputs": [
        {
          "output_type": "execute_result",
          "data": {
            "text/plain": [
              "(536, 514, 3)"
            ]
          },
          "metadata": {},
          "execution_count": 119
        }
      ]
    },
    {
      "cell_type": "code",
      "source": [
        "# reshape image to input shape of CNN\n",
        "image = cv2.resize(image, (64, 64))\n",
        "\n",
        "print(image.shape)\n",
        "\n",
        "print(f\"image max number an min are: {image.max()}, {image.min()}\")"
      ],
      "metadata": {
        "id": "ROPooiBuHjo1",
        "colab": {
          "base_uri": "https://localhost:8080/"
        },
        "outputId": "8fece6fc-7aaf-4c44-e79b-1b4cd320bb89"
      },
      "execution_count": null,
      "outputs": [
        {
          "output_type": "stream",
          "name": "stdout",
          "text": [
            "(64, 64, 3)\n",
            "image max number an min are: 255, 0\n"
          ]
        }
      ]
    },
    {
      "cell_type": "code",
      "source": [
        "# scale the image\n",
        "image = image / 255.\n",
        "print(f\"image max number an min are: {image.max()}, {image.min()}\")"
      ],
      "metadata": {
        "id": "bO6b85MWHjrO",
        "colab": {
          "base_uri": "https://localhost:8080/"
        },
        "outputId": "d631d37f-75ad-4634-8e6b-9eed5c390f28"
      },
      "execution_count": null,
      "outputs": [
        {
          "output_type": "stream",
          "name": "stdout",
          "text": [
            "image max number an min are: 1.0, 0.0\n"
          ]
        }
      ]
    },
    {
      "cell_type": "code",
      "source": [
        "# add new dim to denote batch size for image training\n",
        "image = image.reshape(-1, 64, 64, 3)\n",
        "image.shape"
      ],
      "metadata": {
        "id": "uDATJbKyHjty",
        "colab": {
          "base_uri": "https://localhost:8080/"
        },
        "outputId": "20aa617b-2bf3-4ab9-8fca-e14bd3f2d13c"
      },
      "execution_count": null,
      "outputs": [
        {
          "output_type": "execute_result",
          "data": {
            "text/plain": [
              "(1, 64, 64, 3)"
            ]
          },
          "metadata": {},
          "execution_count": 122
        }
      ]
    },
    {
      "cell_type": "code",
      "source": [
        "result = np.argmax(network_loaded.predict(image))\n",
        "\n",
        "if(result == 0):\n",
        "  print(\"bart\")\n",
        "else:\n",
        "  print(\"Homer\")"
      ],
      "metadata": {
        "id": "KhOazrnjHjwa",
        "colab": {
          "base_uri": "https://localhost:8080/"
        },
        "outputId": "6ee54d45-cf1a-437a-aae6-36a1231c2aa4"
      },
      "execution_count": null,
      "outputs": [
        {
          "output_type": "stream",
          "name": "stdout",
          "text": [
            "Homer\n"
          ]
        }
      ]
    },
    {
      "cell_type": "code",
      "source": [
        ""
      ],
      "metadata": {
        "id": "Ii9hIfAIHjzO"
      },
      "execution_count": null,
      "outputs": []
    },
    {
      "cell_type": "code",
      "source": [
        ""
      ],
      "metadata": {
        "id": "6_vN03gwHj11"
      },
      "execution_count": null,
      "outputs": []
    },
    {
      "cell_type": "code",
      "source": [
        ""
      ],
      "metadata": {
        "id": "PuJBdGClHj4g"
      },
      "execution_count": null,
      "outputs": []
    },
    {
      "cell_type": "code",
      "source": [
        ""
      ],
      "metadata": {
        "id": "g9p5hd4ZHj7a"
      },
      "execution_count": null,
      "outputs": []
    },
    {
      "cell_type": "code",
      "source": [
        ""
      ],
      "metadata": {
        "id": "VAhsgbooHj-J"
      },
      "execution_count": null,
      "outputs": []
    },
    {
      "cell_type": "code",
      "source": [
        ""
      ],
      "metadata": {
        "id": "FVWycMinHkAl"
      },
      "execution_count": null,
      "outputs": []
    },
    {
      "cell_type": "code",
      "source": [
        ""
      ],
      "metadata": {
        "id": "q795G3R-HkDW"
      },
      "execution_count": null,
      "outputs": []
    },
    {
      "cell_type": "code",
      "source": [
        ""
      ],
      "metadata": {
        "id": "bH4OhpfhHkGF"
      },
      "execution_count": null,
      "outputs": []
    },
    {
      "cell_type": "code",
      "source": [
        ""
      ],
      "metadata": {
        "id": "SXWGHFRGHkI1"
      },
      "execution_count": null,
      "outputs": []
    },
    {
      "cell_type": "code",
      "source": [
        ""
      ],
      "metadata": {
        "id": "u8XcjN9WHkLu"
      },
      "execution_count": null,
      "outputs": []
    },
    {
      "cell_type": "code",
      "source": [
        ""
      ],
      "metadata": {
        "id": "R9LZFnfHHkOS"
      },
      "execution_count": null,
      "outputs": []
    },
    {
      "cell_type": "code",
      "source": [
        ""
      ],
      "metadata": {
        "id": "vEf-ZluXHkQ_"
      },
      "execution_count": null,
      "outputs": []
    },
    {
      "cell_type": "code",
      "source": [
        ""
      ],
      "metadata": {
        "id": "CfS9fEnPHkTn"
      },
      "execution_count": null,
      "outputs": []
    },
    {
      "cell_type": "code",
      "source": [
        ""
      ],
      "metadata": {
        "id": "joI0w14JHkWe"
      },
      "execution_count": null,
      "outputs": []
    },
    {
      "cell_type": "code",
      "source": [
        ""
      ],
      "metadata": {
        "id": "c75JflqBHkZA"
      },
      "execution_count": null,
      "outputs": []
    },
    {
      "cell_type": "code",
      "source": [
        ""
      ],
      "metadata": {
        "id": "cHZ6aHx3Hkbp"
      },
      "execution_count": null,
      "outputs": []
    },
    {
      "cell_type": "code",
      "source": [
        ""
      ],
      "metadata": {
        "id": "gRKXztaDHkeb"
      },
      "execution_count": null,
      "outputs": []
    },
    {
      "cell_type": "code",
      "source": [
        ""
      ],
      "metadata": {
        "id": "V9-N2MWhHkh5"
      },
      "execution_count": null,
      "outputs": []
    },
    {
      "cell_type": "code",
      "source": [
        ""
      ],
      "metadata": {
        "id": "nksBHPv2Hkoe"
      },
      "execution_count": null,
      "outputs": []
    },
    {
      "cell_type": "code",
      "source": [
        ""
      ],
      "metadata": {
        "id": "uWDFfXSIHkqv"
      },
      "execution_count": null,
      "outputs": []
    },
    {
      "cell_type": "code",
      "source": [
        ""
      ],
      "metadata": {
        "id": "Mqys9WmNHktM"
      },
      "execution_count": null,
      "outputs": []
    },
    {
      "cell_type": "code",
      "source": [
        ""
      ],
      "metadata": {
        "id": "v9nHEnKiHkv7"
      },
      "execution_count": null,
      "outputs": []
    },
    {
      "cell_type": "code",
      "source": [
        ""
      ],
      "metadata": {
        "id": "N5Wgk9MBHkyU"
      },
      "execution_count": null,
      "outputs": []
    },
    {
      "cell_type": "code",
      "source": [
        ""
      ],
      "metadata": {
        "id": "vmu29HpkHk0w"
      },
      "execution_count": null,
      "outputs": []
    },
    {
      "cell_type": "code",
      "source": [
        ""
      ],
      "metadata": {
        "id": "S1bE5DxcHk3m"
      },
      "execution_count": null,
      "outputs": []
    },
    {
      "cell_type": "code",
      "source": [
        ""
      ],
      "metadata": {
        "id": "41IEYs4dHk6Y"
      },
      "execution_count": null,
      "outputs": []
    },
    {
      "cell_type": "code",
      "source": [
        ""
      ],
      "metadata": {
        "id": "XPFoRDfdHk97"
      },
      "execution_count": null,
      "outputs": []
    }
  ]
}