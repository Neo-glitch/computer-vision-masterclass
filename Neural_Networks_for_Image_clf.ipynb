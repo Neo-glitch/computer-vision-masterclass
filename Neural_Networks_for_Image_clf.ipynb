{
  "nbformat": 4,
  "nbformat_minor": 0,
  "metadata": {
    "colab": {
      "name": "Neural Networks for Image clf.ipynb",
      "provenance": [],
      "authorship_tag": "ABX9TyP9y9RDHeAIecc9Hu6fAKfq",
      "include_colab_link": true
    },
    "kernelspec": {
      "name": "python3",
      "display_name": "Python 3"
    },
    "language_info": {
      "name": "python"
    },
    "accelerator": "GPU",
    "gpuClass": "standard"
  },
  "cells": [
    {
      "cell_type": "markdown",
      "metadata": {
        "id": "view-in-github",
        "colab_type": "text"
      },
      "source": [
        "<a href=\"https://colab.research.google.com/github/Neo-glitch/computer-vision-masterclass/blob/main/Neural_Networks_for_Image_clf.ipynb\" target=\"_parent\"><img src=\"https://colab.research.google.com/assets/colab-badge.svg\" alt=\"Open In Colab\"/></a>"
      ]
    },
    {
      "cell_type": "markdown",
      "source": [
        "* N.B: This isn't optimal since normally working with ImageData requires CNN and not just NN\n",
        "\n",
        "* Aim is to classify uf image is Homer or Bart"
      ],
      "metadata": {
        "id": "Wpl_VlKNm5K2"
      }
    },
    {
      "cell_type": "markdown",
      "source": [
        "### Approach 1: Using all image pixels without feature extraction and using it to train the NN"
      ],
      "metadata": {
        "id": "POLo9qPuJlQH"
      }
    },
    {
      "cell_type": "code",
      "source": [
        " # mount gDrive\n",
        "from google.colab import drive\n",
        "drive.mount('/content/drive')"
      ],
      "metadata": {
        "colab": {
          "base_uri": "https://localhost:8080/"
        },
        "id": "wEqDppO1m99O",
        "outputId": "9a6bc511-4579-425b-fc3b-d7e41a13d6ce"
      },
      "execution_count": 1,
      "outputs": [
        {
          "output_type": "stream",
          "name": "stdout",
          "text": [
            "Drive already mounted at /content/drive; to attempt to forcibly remount, call drive.mount(\"/content/drive\", force_remount=True).\n"
          ]
        }
      ]
    },
    {
      "cell_type": "code",
      "source": [
        "import cv2\n",
        "import numpy as np\n",
        "import os\n",
        "import zipfile\n",
        "from google.colab.patches import cv2_imshow\n",
        "import tensorflow as tf\n",
        "import tensorflow.keras as keras\n",
        "import pandas as pd\n",
        "import seaborn as sns\n",
        "import matplotlib.pyplot as plt\n",
        "%matplotlib inline"
      ],
      "metadata": {
        "id": "vqq5YSvom-BH"
      },
      "execution_count": 2,
      "outputs": []
    },
    {
      "cell_type": "markdown",
      "source": [
        "#### Extracting Features"
      ],
      "metadata": {
        "id": "csQWNTy25Zsj"
      }
    },
    {
      "cell_type": "code",
      "source": [
        "# extract file\n",
        "path = \"/content/drive/MyDrive/Computer Vision Masterclass Files/Datasets/homer_bart_1.zip\"\n",
        "\n",
        "zip_object = zipfile.ZipFile(path, \"r\")\n",
        "zip_object.extractall('./')   # extract this file in current dir\n",
        "zip_object.close()"
      ],
      "metadata": {
        "id": "FsVeIrhRm-Dm"
      },
      "execution_count": 3,
      "outputs": []
    },
    {
      "cell_type": "code",
      "source": [
        "directory = \"/content/homer_bart_1\"\n",
        "files = [os.path.join(directory, f) for f in sorted(os.listdir(directory))]  # gets full name of files\n",
        "\n",
        "# print(files)"
      ],
      "metadata": {
        "id": "pJbZIGU4m-GY"
      },
      "execution_count": 4,
      "outputs": []
    },
    {
      "cell_type": "code",
      "source": [
        "height, width = 128, 128"
      ],
      "metadata": {
        "id": "qkVlluN3m-Iy"
      },
      "execution_count": 5,
      "outputs": []
    },
    {
      "cell_type": "code",
      "source": [
        "images = []  # stores flatten image to be used as input\n",
        "classes = [] # to store classes"
      ],
      "metadata": {
        "id": "IIaaMst4m-LU"
      },
      "execution_count": 6,
      "outputs": []
    },
    {
      "cell_type": "code",
      "source": [
        "for image_path in files:\n",
        "\n",
        "  try:\n",
        "    image = cv2.imread(image_path)\n",
        "    (H, W) = image.shape[:2]\n",
        "\n",
        "  except:\n",
        "    print(\"Not an image File\")\n",
        "    continue\n",
        "\n",
        "\n",
        "  image = cv2.resize(image, (width, height))\n",
        "  image = cv2.cvtColor(image, cv2.COLOR_BGR2GRAY)\n",
        "  image = image.ravel()  # returns flatten view of original array, could have used .flatten\n",
        "\n",
        "  images.append(image)\n",
        "\n",
        "  image_name = os.path.basename(os.path.normpath(image_path))  # gets the image file name and extension attached\n",
        "  if image_name.startswith(\"b\"):\n",
        "    class_name = 0  # BART\n",
        "  else:\n",
        "    class_name = 1  # HOMER\n",
        "\n",
        "  classes.append(class_name)\n",
        "\n",
        "\n"
      ],
      "metadata": {
        "colab": {
          "base_uri": "https://localhost:8080/"
        },
        "id": "B1TnysQDm-Nw",
        "outputId": "8919c632-78d2-4d2d-febc-926420e1fc6d"
      },
      "execution_count": 7,
      "outputs": [
        {
          "output_type": "stream",
          "name": "stdout",
          "text": [
            "Not an image File\n"
          ]
        }
      ]
    },
    {
      "cell_type": "code",
      "source": [
        "type(images), type(classes)"
      ],
      "metadata": {
        "colab": {
          "base_uri": "https://localhost:8080/"
        },
        "id": "DYCZ6w9pm-QT",
        "outputId": "d2b91add-aa42-4cf0-b93c-2f00a31cdf32"
      },
      "execution_count": 8,
      "outputs": [
        {
          "output_type": "execute_result",
          "data": {
            "text/plain": [
              "(list, list)"
            ]
          },
          "metadata": {},
          "execution_count": 8
        }
      ]
    },
    {
      "cell_type": "code",
      "source": [
        "# transform list to np arrays\n",
        "x = np.asarray(images)\n",
        "y = np.asarray(classes)\n",
        "\n",
        "type(x), type(y)"
      ],
      "metadata": {
        "colab": {
          "base_uri": "https://localhost:8080/"
        },
        "id": "3713FBi5m-S7",
        "outputId": "baf15c3e-a065-4c42-e791-8c197b1afca9"
      },
      "execution_count": 9,
      "outputs": [
        {
          "output_type": "execute_result",
          "data": {
            "text/plain": [
              "(numpy.ndarray, numpy.ndarray)"
            ]
          },
          "metadata": {},
          "execution_count": 9
        }
      ]
    },
    {
      "cell_type": "code",
      "source": [
        "x.shape, y.shape"
      ],
      "metadata": {
        "colab": {
          "base_uri": "https://localhost:8080/"
        },
        "id": "n-8R97Oym-Vd",
        "outputId": "aa103a4c-5741-4d7c-f03b-0bab4ec80818"
      },
      "execution_count": 10,
      "outputs": [
        {
          "output_type": "execute_result",
          "data": {
            "text/plain": [
              "((269, 16384), (269,))"
            ]
          },
          "metadata": {},
          "execution_count": 10
        }
      ]
    },
    {
      "cell_type": "code",
      "source": [
        "cv2_imshow(x[0].reshape(width, height))"
      ],
      "metadata": {
        "colab": {
          "base_uri": "https://localhost:8080/",
          "height": 145
        },
        "id": "nJzk_KbHm-X0",
        "outputId": "cb351bd4-23c5-4590-c7b4-9c8780a024e0"
      },
      "execution_count": 11,
      "outputs": [
        {
          "output_type": "display_data",
          "data": {
            "text/plain": [
              "<PIL.Image.Image image mode=L size=128x128 at 0x7F43C2E38850>"
            ],
            "image/png": "[encoded data removed]"
          },
          "metadata": {}
        }
      ]
    },
    {
      "cell_type": "code",
      "source": [
        "# to get info about occurence of classes\n",
        "sns.countplot(y);\n",
        "\n",
        "# number of class instances\n",
        "np.unique(y, return_counts=True)"
      ],
      "metadata": {
        "colab": {
          "base_uri": "https://localhost:8080/",
          "height": 337
        },
        "id": "NGdoPgf6m-au",
        "outputId": "00ce2526-05c2-4e2c-8983-99fbb2303e9e"
      },
      "execution_count": 12,
      "outputs": [
        {
          "output_type": "stream",
          "name": "stderr",
          "text": [
            "/usr/local/lib/python3.7/dist-packages/seaborn/_decorators.py:43: FutureWarning: Pass the following variable as a keyword arg: x. From version 0.12, the only valid positional argument will be `data`, and passing other arguments without an explicit keyword will result in an error or misinterpretation.\n",
            "  FutureWarning\n"
          ]
        },
        {
          "output_type": "execute_result",
          "data": {
            "text/plain": [
              "(array([0, 1]), array([160, 109]))"
            ]
          },
          "metadata": {},
          "execution_count": 12
        },
        {
          "output_type": "display_data",
          "data": {
            "text/plain": [
              "<Figure size 432x288 with 1 Axes>"
            ],
            "image/png": "[encoded data removed]"
          },
          "metadata": {
            "needs_background": "light"
          }
        }
      ]
    },
    {
      "cell_type": "code",
      "source": [
        "# Normalizing\n",
        "\n",
        "from sklearn.preprocessing import MinMaxScaler\n",
        "scaler = MinMaxScaler()\n",
        "\n",
        "x = scaler.fit_transform(x)   # could have just done x/255.0\n",
        "\n",
        "x.max(), x.min()"
      ],
      "metadata": {
        "colab": {
          "base_uri": "https://localhost:8080/"
        },
        "id": "GflV3Lt1m-dh",
        "outputId": "3c041fa1-57f8-4479-b587-4066a83bc684"
      },
      "execution_count": 13,
      "outputs": [
        {
          "output_type": "execute_result",
          "data": {
            "text/plain": [
              "(1.0000000000000002, 0.0)"
            ]
          },
          "metadata": {},
          "execution_count": 13
        }
      ]
    },
    {
      "cell_type": "markdown",
      "source": [
        "#### Training and Test set"
      ],
      "metadata": {
        "id": "-tltly9Hm-gc"
      }
    },
    {
      "cell_type": "code",
      "source": [
        "from sklearn.model_selection import train_test_split\n",
        "\n",
        "\n",
        "x_train, x_test, y_train, y_test = train_test_split(x, y, test_size=0.2, random_state=1)\n",
        "\n",
        "x_train.shape, y_train.shape, x_test.shape, y_test.shape"
      ],
      "metadata": {
        "colab": {
          "base_uri": "https://localhost:8080/"
        },
        "id": "phawUVixm-jI",
        "outputId": "4891eb14-8490-4f2e-fb8d-a994f5007b9c"
      },
      "execution_count": 14,
      "outputs": [
        {
          "output_type": "execute_result",
          "data": {
            "text/plain": [
              "((215, 16384), (215,), (54, 16384), (54,))"
            ]
          },
          "metadata": {},
          "execution_count": 14
        }
      ]
    },
    {
      "cell_type": "markdown",
      "source": [
        "#### Building Model and Evaluation"
      ],
      "metadata": {
        "id": "rMn9ZiJJm-mD"
      }
    },
    {
      "cell_type": "code",
      "source": [
        "# using rule of thumb for neurons in hidden layer i.e input neurons + output neurons / 2 = number of neurons in hidden layer\n",
        "# (16384 + 2) / 2 = 8193 neurons\n",
        "\n",
        "model = keras.models.Sequential([\n",
        "              keras.layers.Dense(input_shape = (16384,), units = 8193, activation =\"relu\"),\n",
        "              keras.layers.Dense(units = 4097, activation =\"relu\"),\n",
        "              keras.layers.Dense(units = 8193, activation =\"relu\"),\n",
        "              keras.layers.Dense(units = 1, activation =\"sigmoid\")\n",
        "])\n",
        "\n",
        "model.summary()"
      ],
      "metadata": {
        "colab": {
          "base_uri": "https://localhost:8080/"
        },
        "id": "azJsl8g6m-ow",
        "outputId": "cdf75560-e4ba-4352-cc58-114b493ed241"
      },
      "execution_count": 64,
      "outputs": [
        {
          "output_type": "stream",
          "name": "stdout",
          "text": [
            "Model: \"sequential_2\"\n",
            "_________________________________________________________________\n",
            " Layer (type)                Output Shape              Param #   \n",
            "=================================================================\n",
            " dense_7 (Dense)             (None, 8193)              134242305 \n",
            "                                                                 \n",
            " dense_8 (Dense)             (None, 4097)              33570818  \n",
            "                                                                 \n",
            " dense_9 (Dense)             (None, 8193)              33574914  \n",
            "                                                                 \n",
            " dense_10 (Dense)            (None, 1)                 8194      \n",
            "                                                                 \n",
            "=================================================================\n",
            "Total params: 201,396,231\n",
            "Trainable params: 201,396,231\n",
            "Non-trainable params: 0\n",
            "_________________________________________________________________\n"
          ]
        }
      ]
    },
    {
      "cell_type": "code",
      "source": [
        "model.compile(optimizer = \"Adam\", loss = \"binary_crossentropy\", metrics = [\"accuracy\"])"
      ],
      "metadata": {
        "id": "eJX-ErPNm-r3"
      },
      "execution_count": 65,
      "outputs": []
    },
    {
      "cell_type": "code",
      "source": [
        "history = model.fit(x_train, y_train, epochs = 55, validation_data = (x_test, y_test))"
      ],
      "metadata": {
        "colab": {
          "base_uri": "https://localhost:8080/"
        },
        "id": "jL5MxJlum-uf",
        "outputId": "b95397fe-9a14-40f0-851d-425a2ef05a0b"
      },
      "execution_count": 66,
      "outputs": [
        {
          "output_type": "stream",
          "name": "stdout",
          "text": [
            "Epoch 1/55\n",
            "7/7 [==============================] - 1s 90ms/step - loss: 173.6515 - accuracy: 0.4558 - val_loss: 2.9521 - val_accuracy: 0.4815\n",
            "Epoch 2/55\n",
            "7/7 [==============================] - 0s 58ms/step - loss: 4.4964 - accuracy: 0.5209 - val_loss: 8.8457 - val_accuracy: 0.5185\n",
            "Epoch 3/55\n",
            "7/7 [==============================] - 0s 56ms/step - loss: 3.4962 - accuracy: 0.5395 - val_loss: 2.3853 - val_accuracy: 0.5185\n",
            "Epoch 4/55\n",
            "7/7 [==============================] - 0s 53ms/step - loss: 1.0620 - accuracy: 0.5395 - val_loss: 0.7406 - val_accuracy: 0.5185\n",
            "Epoch 5/55\n",
            "7/7 [==============================] - 0s 53ms/step - loss: 0.7745 - accuracy: 0.5442 - val_loss: 0.7522 - val_accuracy: 0.4815\n",
            "Epoch 6/55\n",
            "7/7 [==============================] - 0s 55ms/step - loss: 0.7351 - accuracy: 0.5581 - val_loss: 0.7026 - val_accuracy: 0.5185\n",
            "Epoch 7/55\n",
            "7/7 [==============================] - 0s 55ms/step - loss: 0.6985 - accuracy: 0.4744 - val_loss: 0.7813 - val_accuracy: 0.5185\n",
            "Epoch 8/55\n",
            "7/7 [==============================] - 0s 53ms/step - loss: 0.6813 - accuracy: 0.6140 - val_loss: 0.7160 - val_accuracy: 0.5185\n",
            "Epoch 9/55\n",
            "7/7 [==============================] - 0s 53ms/step - loss: 0.6761 - accuracy: 0.5814 - val_loss: 0.6922 - val_accuracy: 0.5185\n",
            "Epoch 10/55\n",
            "7/7 [==============================] - 0s 54ms/step - loss: 0.6738 - accuracy: 0.6140 - val_loss: 0.7168 - val_accuracy: 0.5185\n",
            "Epoch 11/55\n",
            "7/7 [==============================] - 0s 53ms/step - loss: 0.6685 - accuracy: 0.6140 - val_loss: 0.7036 - val_accuracy: 0.5185\n",
            "Epoch 12/55\n",
            "7/7 [==============================] - 0s 55ms/step - loss: 0.6627 - accuracy: 0.6140 - val_loss: 0.7341 - val_accuracy: 0.5185\n",
            "Epoch 13/55\n",
            "7/7 [==============================] - 0s 53ms/step - loss: 0.6688 - accuracy: 0.6140 - val_loss: 0.7134 - val_accuracy: 0.5185\n",
            "Epoch 14/55\n",
            "7/7 [==============================] - 0s 54ms/step - loss: 0.6659 - accuracy: 0.6140 - val_loss: 0.7132 - val_accuracy: 0.5185\n",
            "Epoch 15/55\n",
            "7/7 [==============================] - 0s 55ms/step - loss: 0.6681 - accuracy: 0.6140 - val_loss: 0.7131 - val_accuracy: 0.5185\n",
            "Epoch 16/55\n",
            "7/7 [==============================] - 0s 53ms/step - loss: 0.6626 - accuracy: 0.6140 - val_loss: 0.7150 - val_accuracy: 0.5185\n",
            "Epoch 17/55\n",
            "7/7 [==============================] - 0s 54ms/step - loss: 0.6612 - accuracy: 0.6140 - val_loss: 0.7008 - val_accuracy: 0.5185\n",
            "Epoch 18/55\n",
            "7/7 [==============================] - 0s 54ms/step - loss: 0.6619 - accuracy: 0.6140 - val_loss: 0.6936 - val_accuracy: 0.5185\n",
            "Epoch 19/55\n",
            "7/7 [==============================] - 0s 56ms/step - loss: 0.6686 - accuracy: 0.6140 - val_loss: 0.7071 - val_accuracy: 0.5185\n",
            "Epoch 20/55\n",
            "7/7 [==============================] - 0s 55ms/step - loss: 0.6462 - accuracy: 0.6140 - val_loss: 0.6844 - val_accuracy: 0.5185\n",
            "Epoch 21/55\n",
            "7/7 [==============================] - 0s 54ms/step - loss: 0.6454 - accuracy: 0.6186 - val_loss: 1.0333 - val_accuracy: 0.5185\n",
            "Epoch 22/55\n",
            "7/7 [==============================] - 0s 54ms/step - loss: 0.7518 - accuracy: 0.5628 - val_loss: 0.6889 - val_accuracy: 0.5556\n",
            "Epoch 23/55\n",
            "7/7 [==============================] - 0s 53ms/step - loss: 0.6650 - accuracy: 0.6326 - val_loss: 0.6734 - val_accuracy: 0.5926\n",
            "Epoch 24/55\n",
            "7/7 [==============================] - 0s 53ms/step - loss: 0.6401 - accuracy: 0.6372 - val_loss: 0.6852 - val_accuracy: 0.5741\n",
            "Epoch 25/55\n",
            "7/7 [==============================] - 0s 54ms/step - loss: 0.6713 - accuracy: 0.6140 - val_loss: 0.7025 - val_accuracy: 0.4815\n",
            "Epoch 26/55\n",
            "7/7 [==============================] - 0s 54ms/step - loss: 0.6864 - accuracy: 0.5349 - val_loss: 0.6762 - val_accuracy: 0.5185\n",
            "Epoch 27/55\n",
            "7/7 [==============================] - 0s 54ms/step - loss: 0.5843 - accuracy: 0.6698 - val_loss: 1.2364 - val_accuracy: 0.4815\n",
            "Epoch 28/55\n",
            "7/7 [==============================] - 0s 53ms/step - loss: 0.7790 - accuracy: 0.6326 - val_loss: 0.6555 - val_accuracy: 0.7037\n",
            "Epoch 29/55\n",
            "7/7 [==============================] - 0s 54ms/step - loss: 0.6266 - accuracy: 0.6140 - val_loss: 0.6423 - val_accuracy: 0.6481\n",
            "Epoch 30/55\n",
            "7/7 [==============================] - 0s 54ms/step - loss: 0.5484 - accuracy: 0.7488 - val_loss: 0.6405 - val_accuracy: 0.6296\n",
            "Epoch 31/55\n",
            "7/7 [==============================] - 0s 55ms/step - loss: 0.5725 - accuracy: 0.6744 - val_loss: 0.6925 - val_accuracy: 0.5741\n",
            "Epoch 32/55\n",
            "7/7 [==============================] - 0s 56ms/step - loss: 0.4628 - accuracy: 0.7860 - val_loss: 0.6144 - val_accuracy: 0.5741\n",
            "Epoch 33/55\n",
            "7/7 [==============================] - 0s 54ms/step - loss: 0.4251 - accuracy: 0.7674 - val_loss: 0.6283 - val_accuracy: 0.5926\n",
            "Epoch 34/55\n",
            "7/7 [==============================] - 0s 54ms/step - loss: 0.7705 - accuracy: 0.6651 - val_loss: 1.4437 - val_accuracy: 0.4815\n",
            "Epoch 35/55\n",
            "7/7 [==============================] - 0s 53ms/step - loss: 0.6661 - accuracy: 0.6326 - val_loss: 0.6260 - val_accuracy: 0.5741\n",
            "Epoch 36/55\n",
            "7/7 [==============================] - 0s 54ms/step - loss: 0.4968 - accuracy: 0.7116 - val_loss: 0.8156 - val_accuracy: 0.5000\n",
            "Epoch 37/55\n",
            "7/7 [==============================] - 0s 54ms/step - loss: 0.4561 - accuracy: 0.7721 - val_loss: 0.8450 - val_accuracy: 0.6111\n",
            "Epoch 38/55\n",
            "7/7 [==============================] - 0s 55ms/step - loss: 0.4927 - accuracy: 0.7488 - val_loss: 0.5928 - val_accuracy: 0.7593\n",
            "Epoch 39/55\n",
            "7/7 [==============================] - 0s 53ms/step - loss: 0.3957 - accuracy: 0.7953 - val_loss: 0.6820 - val_accuracy: 0.5741\n",
            "Epoch 40/55\n",
            "7/7 [==============================] - 0s 54ms/step - loss: 0.2995 - accuracy: 0.8558 - val_loss: 0.5813 - val_accuracy: 0.7778\n",
            "Epoch 41/55\n",
            "7/7 [==============================] - 0s 54ms/step - loss: 0.6706 - accuracy: 0.6884 - val_loss: 1.2568 - val_accuracy: 0.4815\n",
            "Epoch 42/55\n",
            "7/7 [==============================] - 0s 54ms/step - loss: 0.6113 - accuracy: 0.7116 - val_loss: 0.7743 - val_accuracy: 0.4815\n",
            "Epoch 43/55\n",
            "7/7 [==============================] - 0s 53ms/step - loss: 0.4554 - accuracy: 0.7814 - val_loss: 0.5786 - val_accuracy: 0.7963\n",
            "Epoch 44/55\n",
            "7/7 [==============================] - 0s 54ms/step - loss: 0.3640 - accuracy: 0.8884 - val_loss: 0.7496 - val_accuracy: 0.6111\n",
            "Epoch 45/55\n",
            "7/7 [==============================] - 0s 54ms/step - loss: 0.3097 - accuracy: 0.8837 - val_loss: 0.5877 - val_accuracy: 0.7593\n",
            "Epoch 46/55\n",
            "7/7 [==============================] - 0s 54ms/step - loss: 0.1934 - accuracy: 0.9349 - val_loss: 1.0894 - val_accuracy: 0.6111\n",
            "Epoch 47/55\n",
            "7/7 [==============================] - 0s 54ms/step - loss: 1.1224 - accuracy: 0.6093 - val_loss: 0.8129 - val_accuracy: 0.4815\n",
            "Epoch 48/55\n",
            "7/7 [==============================] - 0s 55ms/step - loss: 0.4642 - accuracy: 0.7907 - val_loss: 0.5924 - val_accuracy: 0.7222\n",
            "Epoch 49/55\n",
            "7/7 [==============================] - 0s 54ms/step - loss: 0.2032 - accuracy: 0.9349 - val_loss: 0.7180 - val_accuracy: 0.7407\n",
            "Epoch 50/55\n",
            "7/7 [==============================] - 0s 54ms/step - loss: 0.3834 - accuracy: 0.8512 - val_loss: 1.3094 - val_accuracy: 0.5185\n",
            "Epoch 51/55\n",
            "7/7 [==============================] - 0s 53ms/step - loss: 0.3232 - accuracy: 0.8419 - val_loss: 0.7996 - val_accuracy: 0.6111\n",
            "Epoch 52/55\n",
            "7/7 [==============================] - 0s 54ms/step - loss: 0.1404 - accuracy: 0.9488 - val_loss: 0.8062 - val_accuracy: 0.7407\n",
            "Epoch 53/55\n",
            "7/7 [==============================] - 0s 55ms/step - loss: 0.1754 - accuracy: 0.9209 - val_loss: 0.7673 - val_accuracy: 0.7222\n",
            "Epoch 54/55\n",
            "7/7 [==============================] - 0s 54ms/step - loss: 0.2476 - accuracy: 0.8884 - val_loss: 0.9537 - val_accuracy: 0.6111\n",
            "Epoch 55/55\n",
            "7/7 [==============================] - 0s 53ms/step - loss: 0.1579 - accuracy: 0.9395 - val_loss: 0.6684 - val_accuracy: 0.8148\n"
          ]
        }
      ]
    },
    {
      "cell_type": "code",
      "source": [
        "plt.plot(history.history[\"val_loss\"])\n",
        "plt.plot(history.history[\"loss\"])\n"
      ],
      "metadata": {
        "colab": {
          "base_uri": "https://localhost:8080/",
          "height": 282
        },
        "id": "6MhvvmQpm-xZ",
        "outputId": "35f3e6f6-c4b7-4f12-9fe7-c715dfb95f3a"
      },
      "execution_count": 67,
      "outputs": [
        {
          "output_type": "execute_result",
          "data": {
            "text/plain": [
              "[<matplotlib.lines.Line2D at 0x7f422db75710>]"
            ]
          },
          "metadata": {},
          "execution_count": 67
        },
        {
          "output_type": "display_data",
          "data": {
            "text/plain": [
              "<Figure size 432x288 with 1 Axes>"
            ],
            "image/png": "[encoded data removed]"
          },
          "metadata": {
            "needs_background": "light"
          }
        }
      ]
    },
    {
      "cell_type": "code",
      "source": [
        "# predictions\n",
        "\n",
        "predictions = model.predict(x_test)\n",
        "\n",
        "predictions.shape"
      ],
      "metadata": {
        "colab": {
          "base_uri": "https://localhost:8080/"
        },
        "id": "-oHkXbIWm-0f",
        "outputId": "72fd2b6e-88b8-4e58-f99d-d17b5b6c8f53"
      },
      "execution_count": 72,
      "outputs": [
        {
          "output_type": "execute_result",
          "data": {
            "text/plain": [
              "(54, 1)"
            ]
          },
          "metadata": {},
          "execution_count": 72
        }
      ]
    },
    {
      "cell_type": "code",
      "source": [
        "# threshold = 0.5 \n",
        "# 0 - False i.e Bart\n",
        "# 1 - True i.e Homer\n",
        "\n",
        "predictions = [predictions > 0.5]\n",
        "\n",
        "y_test.shape"
      ],
      "metadata": {
        "colab": {
          "base_uri": "https://localhost:8080/"
        },
        "id": "NB_53HYlm-3V",
        "outputId": "7ccbdc92-7a1b-4f10-f548-e4c39c30d074"
      },
      "execution_count": 73,
      "outputs": [
        {
          "output_type": "execute_result",
          "data": {
            "text/plain": [
              "(54,)"
            ]
          },
          "metadata": {},
          "execution_count": 73
        }
      ]
    },
    {
      "cell_type": "code",
      "source": [
        "from sklearn.metrics import f1_score, recall_score, precision_score, accuracy_score\n",
        "\n",
        "y_pred = np.array(predictions).flatten()\n",
        "\n",
        "print(f\"accuracy: {accuracy_score(y_test, y_pred)}\")\n",
        "print(f\"f1_score: {f1_score(y_test, y_pred)}\")\n",
        "print(f\"recall_score: {recall_score(y_test, y_pred)}\")\n",
        "print(f\"precision_score: {precision_score(y_test, y_pred)}\")\n",
        "\n"
      ],
      "metadata": {
        "colab": {
          "base_uri": "https://localhost:8080/"
        },
        "id": "jD55B4ipm-6S",
        "outputId": "22c07cd6-641f-40e5-c3d8-071671eb99f3"
      },
      "execution_count": 74,
      "outputs": [
        {
          "output_type": "stream",
          "name": "stdout",
          "text": [
            "accuracy: 0.8148148148148148\n",
            "f1_score: 0.8\n",
            "recall_score: 0.7692307692307693\n",
            "precision_score: 0.8333333333333334\n"
          ]
        }
      ]
    },
    {
      "cell_type": "code",
      "source": [
        "from sklearn.metrics import confusion_matrix\n",
        "\n",
        "# row is actual, while column is predicted.\n",
        "cm = confusion_matrix(y_test, y_pred)\n",
        "\n",
        "\n",
        "sns.heatmap(cm, annot=True)"
      ],
      "metadata": {
        "colab": {
          "base_uri": "https://localhost:8080/",
          "height": 282
        },
        "id": "wsK-7wkHm-9L",
        "outputId": "8b547c7b-df70-4087-8f3f-1ce64ce6654b"
      },
      "execution_count": 75,
      "outputs": [
        {
          "output_type": "execute_result",
          "data": {
            "text/plain": [
              "<matplotlib.axes._subplots.AxesSubplot at 0x7f422dac31d0>"
            ]
          },
          "metadata": {},
          "execution_count": 75
        },
        {
          "output_type": "display_data",
          "data": {
            "text/plain": [
              "<Figure size 432x288 with 2 Axes>"
            ],
            "image/png": "[encoded data removed]"
          },
          "metadata": {
            "needs_background": "light"
          }
        }
      ]
    },
    {
      "cell_type": "markdown",
      "source": [
        "#### Saving and Loading Model"
      ],
      "metadata": {
        "id": "UPjwsONFm_AD"
      }
    },
    {
      "cell_type": "code",
      "source": [
        "model_json = model.to_json()\n",
        "\n",
        "# save just model structure alone\n",
        "with open(\"model1.json\", \"w\") as json_file:\n",
        "  json_file.write(model_json)\n",
        "\n",
        "# save model weights\n",
        "from keras.models import save_model\n",
        "\n",
        "model_saved = save_model(model, \"weights.hdf5\")\n",
        "\n",
        "\n",
        "\n",
        "# n.b: This doesn't save the model optimizer(best to save the model structure and weights in one go on keras to get these)"
      ],
      "metadata": {
        "id": "mIpeUBt9m_Cy"
      },
      "execution_count": 76,
      "outputs": []
    },
    {
      "cell_type": "code",
      "source": [
        "# Load model structure and weights\n",
        "\n",
        "\n",
        "with open(\"model1.json\", \"r\") as json_file:\n",
        "  json_saved_model = json_file.read()\n",
        "\n",
        "model1_loaded = keras.models.model_from_json(json_saved_model)   # load the structure\n",
        "model1_loaded.load_weights(\"/content/weights.hdf5\")\n",
        "\n",
        "# optimizer must be same as saved model\n",
        "model1_loaded.compile(loss = \"binary_crossentropy\", optimizer = \"Adam\", metrics = [\"accuracy\"])\n",
        "\n",
        "model1_loaded.summary()"
      ],
      "metadata": {
        "colab": {
          "base_uri": "https://localhost:8080/"
        },
        "id": "v3nkq6eFm_GY",
        "outputId": "21e628db-513d-42b6-9087-ab565c3fca4a"
      },
      "execution_count": 77,
      "outputs": [
        {
          "output_type": "stream",
          "name": "stdout",
          "text": [
            "Model: \"sequential_2\"\n",
            "_________________________________________________________________\n",
            " Layer (type)                Output Shape              Param #   \n",
            "=================================================================\n",
            " dense_7 (Dense)             (None, 8193)              134242305 \n",
            "                                                                 \n",
            " dense_8 (Dense)             (None, 4097)              33570818  \n",
            "                                                                 \n",
            " dense_9 (Dense)             (None, 8193)              33574914  \n",
            "                                                                 \n",
            " dense_10 (Dense)            (None, 1)                 8194      \n",
            "                                                                 \n",
            "=================================================================\n",
            "Total params: 201,396,231\n",
            "Trainable params: 201,396,231\n",
            "Non-trainable params: 0\n",
            "_________________________________________________________________\n"
          ]
        }
      ]
    },
    {
      "cell_type": "markdown",
      "source": [
        "### Classify a single image"
      ],
      "metadata": {
        "id": "45sG4jwJHQgz"
      }
    },
    {
      "cell_type": "code",
      "source": [
        "# get test image first in format before flattening and pixel normalization\n",
        "# for displaying\n",
        "test_image = x_test[44]\n",
        "test_image = scaler.inverse_transform(test_image.reshape(1, -1))\n",
        "\n",
        "cv2_imshow(test_image.reshape(128, 128))"
      ],
      "metadata": {
        "colab": {
          "base_uri": "https://localhost:8080/",
          "height": 145
        },
        "id": "Em_Kc4dsm_LT",
        "outputId": "b02e76a5-3696-4b78-f2d5-fb5304aeedfc"
      },
      "execution_count": 82,
      "outputs": [
        {
          "output_type": "display_data",
          "data": {
            "text/plain": [
              "<PIL.Image.Image image mode=L size=128x128 at 0x7F422D8FCE50>"
            ],
            "image/png": "[encoded data removed]"
          },
          "metadata": {}
        }
      ]
    },
    {
      "cell_type": "code",
      "source": [
        "# classfification\n",
        "if (model1_loaded.predict(x_test[44].reshape(1,-1))[0][0] < 0.5):\n",
        "  print(\"Predictions: Bart with class 0\")\n",
        "else:\n",
        "  print(\"Predictions: Homer with class 1\")"
      ],
      "metadata": {
        "colab": {
          "base_uri": "https://localhost:8080/"
        },
        "id": "b6bB7drBm_OA",
        "outputId": "a60147c2-715e-4995-b81a-8602a187dcd2"
      },
      "execution_count": 83,
      "outputs": [
        {
          "output_type": "stream",
          "name": "stdout",
          "text": [
            "Predictions: Bart with class 0\n"
          ]
        }
      ]
    },
    {
      "cell_type": "code",
      "source": [
        ""
      ],
      "metadata": {
        "id": "MaAQeY4mm_Qn"
      },
      "execution_count": 79,
      "outputs": []
    },
    {
      "cell_type": "markdown",
      "source": [
        "### Approach 2: Using Extracted Features(Using OpenCV) to train NN\n",
        "\n",
        "* N.B: When using CNN this feature extraction isn't that important, since CNN handles extracting features"
      ],
      "metadata": {
        "id": "pQebevanm_UA"
      }
    },
    {
      "cell_type": "code",
      "source": [
        ""
      ],
      "metadata": {
        "id": "mbLEfLNWm_8r"
      },
      "execution_count": 45,
      "outputs": []
    },
    {
      "cell_type": "code",
      "source": [
        ""
      ],
      "metadata": {
        "id": "C3Yl5AkIm__9"
      },
      "execution_count": null,
      "outputs": []
    },
    {
      "cell_type": "code",
      "source": [
        ""
      ],
      "metadata": {
        "id": "c6Mq8UTrnABf"
      },
      "execution_count": null,
      "outputs": []
    },
    {
      "cell_type": "code",
      "source": [
        ""
      ],
      "metadata": {
        "id": "e2N6libKnAD-"
      },
      "execution_count": null,
      "outputs": []
    },
    {
      "cell_type": "code",
      "source": [
        ""
      ],
      "metadata": {
        "id": "ph_8XpANnAGi"
      },
      "execution_count": null,
      "outputs": []
    },
    {
      "cell_type": "code",
      "source": [
        ""
      ],
      "metadata": {
        "id": "ptmzeH5unAI8"
      },
      "execution_count": null,
      "outputs": []
    },
    {
      "cell_type": "code",
      "source": [
        ""
      ],
      "metadata": {
        "id": "oOeHzol9nALx"
      },
      "execution_count": null,
      "outputs": []
    },
    {
      "cell_type": "code",
      "source": [
        ""
      ],
      "metadata": {
        "id": "sZjSDuzInAOi"
      },
      "execution_count": null,
      "outputs": []
    },
    {
      "cell_type": "code",
      "source": [
        ""
      ],
      "metadata": {
        "id": "VgzJUuUEnICf"
      },
      "execution_count": null,
      "outputs": []
    },
    {
      "cell_type": "code",
      "source": [
        ""
      ],
      "metadata": {
        "id": "HFnW5n5-nAQ-"
      },
      "execution_count": null,
      "outputs": []
    },
    {
      "cell_type": "code",
      "source": [
        ""
      ],
      "metadata": {
        "id": "uGgN49_anATn"
      },
      "execution_count": null,
      "outputs": []
    },
    {
      "cell_type": "code",
      "source": [
        ""
      ],
      "metadata": {
        "id": "Ec37L9YSnAWD"
      },
      "execution_count": null,
      "outputs": []
    },
    {
      "cell_type": "code",
      "source": [
        ""
      ],
      "metadata": {
        "id": "gWcIqemUnAY-"
      },
      "execution_count": null,
      "outputs": []
    },
    {
      "cell_type": "code",
      "source": [
        ""
      ],
      "metadata": {
        "id": "LiaKtA5jnAbm"
      },
      "execution_count": null,
      "outputs": []
    },
    {
      "cell_type": "code",
      "source": [
        ""
      ],
      "metadata": {
        "id": "91vy_mPPnAeF"
      },
      "execution_count": null,
      "outputs": []
    },
    {
      "cell_type": "code",
      "source": [
        ""
      ],
      "metadata": {
        "id": "Q5qvyb2HnAgo"
      },
      "execution_count": null,
      "outputs": []
    },
    {
      "cell_type": "code",
      "source": [
        ""
      ],
      "metadata": {
        "id": "KRESuEHYnAjY"
      },
      "execution_count": null,
      "outputs": []
    },
    {
      "cell_type": "code",
      "source": [
        ""
      ],
      "metadata": {
        "id": "-jQ8JgcAnAmB"
      },
      "execution_count": null,
      "outputs": []
    },
    {
      "cell_type": "code",
      "source": [
        ""
      ],
      "metadata": {
        "id": "Vt81lH94nAo2"
      },
      "execution_count": null,
      "outputs": []
    },
    {
      "cell_type": "code",
      "source": [
        ""
      ],
      "metadata": {
        "id": "1MibIjzcnAsO"
      },
      "execution_count": null,
      "outputs": []
    }
  ]
}