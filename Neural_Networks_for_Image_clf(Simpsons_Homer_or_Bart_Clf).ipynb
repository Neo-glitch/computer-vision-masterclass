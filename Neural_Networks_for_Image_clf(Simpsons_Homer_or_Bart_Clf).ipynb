{
  "nbformat": 4,
  "nbformat_minor": 0,
  "metadata": {
    "colab": {
      "name": "Neural Networks for Image clf(Simpsons Homer or Bart Clf).ipynb",
      "provenance": [],
      "collapsed_sections": [],
      "authorship_tag": "ABX9TyP8SCSYMI+0qiqk/cPGoRdM",
      "include_colab_link": true
    },
    "kernelspec": {
      "name": "python3",
      "display_name": "Python 3"
    },
    "language_info": {
      "name": "python"
    },
    "accelerator": "GPU",
    "gpuClass": "standard"
  },
  "cells": [
    {
      "cell_type": "markdown",
      "metadata": {
        "id": "view-in-github",
        "colab_type": "text"
      },
      "source": [
        "<a href=\"https://colab.research.google.com/github/Neo-glitch/computer-vision-masterclass/blob/main/Neural_Networks_for_Image_clf(Simpsons_Homer_or_Bart_Clf).ipynb\" target=\"_parent\"><img src=\"https://colab.research.google.com/assets/colab-badge.svg\" alt=\"Open In Colab\"/></a>"
      ]
    },
    {
      "cell_type": "markdown",
      "source": [
        "* N.B: This isn't optimal since normally working with ImageData requires CNN and not just NN\n",
        "\n",
        "* Aim is to classify uf image is Homer or Bart"
      ],
      "metadata": {
        "id": "Wpl_VlKNm5K2"
      }
    },
    {
      "cell_type": "markdown",
      "source": [
        "### Approach 1: Using all image pixels without feature extraction and using it to train the NN"
      ],
      "metadata": {
        "id": "POLo9qPuJlQH"
      }
    },
    {
      "cell_type": "code",
      "source": [
        " # mount gDrive\n",
        "from google.colab import drive\n",
        "drive.mount('/content/drive')"
      ],
      "metadata": {
        "colab": {
          "base_uri": "https://localhost:8080/"
        },
        "id": "wEqDppO1m99O",
        "outputId": "db02e10e-8d07-4f8e-9f5d-06dcd45a5ad0"
      },
      "execution_count": 1,
      "outputs": [
        {
          "output_type": "stream",
          "name": "stdout",
          "text": [
            "Drive already mounted at /content/drive; to attempt to forcibly remount, call drive.mount(\"/content/drive\", force_remount=True).\n"
          ]
        }
      ]
    },
    {
      "cell_type": "code",
      "source": [
        "import cv2\n",
        "import numpy as np\n",
        "import os\n",
        "import zipfile\n",
        "from google.colab.patches import cv2_imshow\n",
        "import tensorflow as tf\n",
        "import tensorflow.keras as keras\n",
        "import pandas as pd\n",
        "import seaborn as sns\n",
        "import matplotlib.pyplot as plt\n",
        "%matplotlib inline"
      ],
      "metadata": {
        "id": "vqq5YSvom-BH"
      },
      "execution_count": 2,
      "outputs": []
    },
    {
      "cell_type": "markdown",
      "source": [
        "#### Extracting Features"
      ],
      "metadata": {
        "id": "csQWNTy25Zsj"
      }
    },
    {
      "cell_type": "code",
      "source": [
        "# extract file\n",
        "path = \"/content/drive/MyDrive/Computer Vision Masterclass Files/Datasets/homer_bart_1.zip\"\n",
        "\n",
        "zip_object = zipfile.ZipFile(path, \"r\")\n",
        "zip_object.extractall('./')   # extract this file in current dir\n",
        "zip_object.close()"
      ],
      "metadata": {
        "id": "FsVeIrhRm-Dm"
      },
      "execution_count": 3,
      "outputs": []
    },
    {
      "cell_type": "code",
      "source": [
        "directory = \"/content/homer_bart_1\"\n",
        "files = [os.path.join(directory, f) for f in sorted(os.listdir(directory))]  # gets full name of files\n",
        "\n",
        "# print(files)"
      ],
      "metadata": {
        "id": "pJbZIGU4m-GY"
      },
      "execution_count": 4,
      "outputs": []
    },
    {
      "cell_type": "code",
      "source": [
        "height, width = 128, 128"
      ],
      "metadata": {
        "id": "qkVlluN3m-Iy"
      },
      "execution_count": 5,
      "outputs": []
    },
    {
      "cell_type": "code",
      "source": [
        "images = []  # stores flatten image to be used as input\n",
        "classes = [] # to store classes"
      ],
      "metadata": {
        "id": "IIaaMst4m-LU"
      },
      "execution_count": 6,
      "outputs": []
    },
    {
      "cell_type": "code",
      "source": [
        "for image_path in files:\n",
        "\n",
        "  try:\n",
        "    image = cv2.imread(image_path)\n",
        "    (H, W) = image.shape[:2]\n",
        "\n",
        "  except:\n",
        "    print(\"Not an image File\")\n",
        "    continue\n",
        "\n",
        "\n",
        "  image = cv2.resize(image, (width, height))\n",
        "  image = cv2.cvtColor(image, cv2.COLOR_BGR2GRAY)\n",
        "  image = image.ravel()  # returns flatten view of original array, could have used .flatten\n",
        "\n",
        "  images.append(image)\n",
        "\n",
        "  image_name = os.path.basename(os.path.normpath(image_path))  # gets the image file name and extension attached\n",
        "  if image_name.startswith(\"b\"):\n",
        "    class_name = 0  # BART\n",
        "  else:\n",
        "    class_name = 1  # HOMER\n",
        "\n",
        "  classes.append(class_name)\n",
        "\n",
        "\n"
      ],
      "metadata": {
        "colab": {
          "base_uri": "https://localhost:8080/"
        },
        "id": "B1TnysQDm-Nw",
        "outputId": "3c84c168-2bad-4fb0-ecea-ce5840fc645f"
      },
      "execution_count": 7,
      "outputs": [
        {
          "output_type": "stream",
          "name": "stdout",
          "text": [
            "Not an image File\n"
          ]
        }
      ]
    },
    {
      "cell_type": "code",
      "source": [
        "type(images), type(classes)"
      ],
      "metadata": {
        "colab": {
          "base_uri": "https://localhost:8080/"
        },
        "id": "DYCZ6w9pm-QT",
        "outputId": "d68553d3-8728-483b-f9d2-b7860dc0ffd5"
      },
      "execution_count": 8,
      "outputs": [
        {
          "output_type": "execute_result",
          "data": {
            "text/plain": [
              "(list, list)"
            ]
          },
          "metadata": {},
          "execution_count": 8
        }
      ]
    },
    {
      "cell_type": "code",
      "source": [
        "# transform list to np arrays\n",
        "x = np.asarray(images)\n",
        "y = np.asarray(classes)\n",
        "\n",
        "type(x), type(y)"
      ],
      "metadata": {
        "colab": {
          "base_uri": "https://localhost:8080/"
        },
        "id": "3713FBi5m-S7",
        "outputId": "8580642f-d50c-4251-ac9a-0852662e96ee"
      },
      "execution_count": 9,
      "outputs": [
        {
          "output_type": "execute_result",
          "data": {
            "text/plain": [
              "(numpy.ndarray, numpy.ndarray)"
            ]
          },
          "metadata": {},
          "execution_count": 9
        }
      ]
    },
    {
      "cell_type": "code",
      "source": [
        "x.shape, y.shape"
      ],
      "metadata": {
        "colab": {
          "base_uri": "https://localhost:8080/"
        },
        "id": "n-8R97Oym-Vd",
        "outputId": "53ff3184-f8e9-44c1-eb63-9e1c0fd637c9"
      },
      "execution_count": 10,
      "outputs": [
        {
          "output_type": "execute_result",
          "data": {
            "text/plain": [
              "((269, 16384), (269,))"
            ]
          },
          "metadata": {},
          "execution_count": 10
        }
      ]
    },
    {
      "cell_type": "code",
      "source": [
        "cv2_imshow(x[0].reshape(width, height))"
      ],
      "metadata": {
        "colab": {
          "base_uri": "https://localhost:8080/",
          "height": 145
        },
        "id": "nJzk_KbHm-X0",
        "outputId": "8a1241e4-7656-421a-9124-f451bfad3bd3"
      },
      "execution_count": 11,
      "outputs": [
        {
          "output_type": "display_data",
          "data": {
            "text/plain": [
              "<PIL.Image.Image image mode=L size=128x128 at 0x7F1D54D30CD0>"
            ],
            "image/png": "[encoded data removed]"
          },
          "metadata": {}
        }
      ]
    },
    {
      "cell_type": "code",
      "source": [
        "# to get info about occurence of classes\n",
        "sns.countplot(y);\n",
        "\n",
        "# number of class instances\n",
        "np.unique(y, return_counts=True)"
      ],
      "metadata": {
        "colab": {
          "base_uri": "https://localhost:8080/",
          "height": 337
        },
        "id": "NGdoPgf6m-au",
        "outputId": "a781713d-740b-4f28-ce89-75c8fc4ca0c0"
      },
      "execution_count": 12,
      "outputs": [
        {
          "output_type": "stream",
          "name": "stderr",
          "text": [
            "/usr/local/lib/python3.7/dist-packages/seaborn/_decorators.py:43: FutureWarning: Pass the following variable as a keyword arg: x. From version 0.12, the only valid positional argument will be `data`, and passing other arguments without an explicit keyword will result in an error or misinterpretation.\n",
            "  FutureWarning\n"
          ]
        },
        {
          "output_type": "execute_result",
          "data": {
            "text/plain": [
              "(array([0, 1]), array([160, 109]))"
            ]
          },
          "metadata": {},
          "execution_count": 12
        },
        {
          "output_type": "display_data",
          "data": {
            "text/plain": [
              "<Figure size 432x288 with 1 Axes>"
            ],
            "image/png": "[encoded data removed]"
          },
          "metadata": {
            "needs_background": "light"
          }
        }
      ]
    },
    {
      "cell_type": "code",
      "source": [
        "# Normalizing\n",
        "\n",
        "from sklearn.preprocessing import MinMaxScaler\n",
        "scaler = MinMaxScaler()\n",
        "\n",
        "x = scaler.fit_transform(x)   # could have just done x/255.0\n",
        "\n",
        "x.max(), x.min()"
      ],
      "metadata": {
        "colab": {
          "base_uri": "https://localhost:8080/"
        },
        "id": "GflV3Lt1m-dh",
        "outputId": "0dbbea98-a3f5-4b01-d25c-70c2d47cab7f"
      },
      "execution_count": 13,
      "outputs": [
        {
          "output_type": "execute_result",
          "data": {
            "text/plain": [
              "(1.0000000000000002, 0.0)"
            ]
          },
          "metadata": {},
          "execution_count": 13
        }
      ]
    },
    {
      "cell_type": "markdown",
      "source": [
        "#### Training and Test set"
      ],
      "metadata": {
        "id": "-tltly9Hm-gc"
      }
    },
    {
      "cell_type": "code",
      "source": [
        "from sklearn.model_selection import train_test_split\n",
        "\n",
        "\n",
        "x_train, x_test, y_train, y_test = train_test_split(x, y, test_size=0.2, random_state=1)\n",
        "\n",
        "x_train.shape, y_train.shape, x_test.shape, y_test.shape"
      ],
      "metadata": {
        "colab": {
          "base_uri": "https://localhost:8080/"
        },
        "id": "phawUVixm-jI",
        "outputId": "607b4bcb-6874-465e-86c7-774600eddb6f"
      },
      "execution_count": 14,
      "outputs": [
        {
          "output_type": "execute_result",
          "data": {
            "text/plain": [
              "((215, 16384), (215,), (54, 16384), (54,))"
            ]
          },
          "metadata": {},
          "execution_count": 14
        }
      ]
    },
    {
      "cell_type": "markdown",
      "source": [
        "#### Building Model and Evaluation"
      ],
      "metadata": {
        "id": "rMn9ZiJJm-mD"
      }
    },
    {
      "cell_type": "code",
      "source": [
        "# using rule of thumb for neurons in hidden layer i.e input neurons + output neurons / 2 = number of neurons in hidden layer\n",
        "# (16384 + 2) / 2 = 8193 neurons\n",
        "\n",
        "model = keras.models.Sequential([\n",
        "              keras.layers.Dense(input_shape = (16384,), units = 8193, activation =\"relu\"),\n",
        "              keras.layers.Dense(units = 4097, activation =\"relu\"),\n",
        "              keras.layers.Dense(units = 8193, activation =\"relu\"),\n",
        "              keras.layers.Dense(units = 1, activation =\"sigmoid\")\n",
        "])\n",
        "\n",
        "model.summary()"
      ],
      "metadata": {
        "colab": {
          "base_uri": "https://localhost:8080/"
        },
        "id": "azJsl8g6m-ow",
        "outputId": "1427e368-1463-4d52-e7ac-4012fc62a667"
      },
      "execution_count": 15,
      "outputs": [
        {
          "output_type": "stream",
          "name": "stdout",
          "text": [
            "Model: \"sequential\"\n",
            "_________________________________________________________________\n",
            " Layer (type)                Output Shape              Param #   \n",
            "=================================================================\n",
            " dense (Dense)               (None, 8193)              134242305 \n",
            "                                                                 \n",
            " dense_1 (Dense)             (None, 4097)              33570818  \n",
            "                                                                 \n",
            " dense_2 (Dense)             (None, 8193)              33574914  \n",
            "                                                                 \n",
            " dense_3 (Dense)             (None, 1)                 8194      \n",
            "                                                                 \n",
            "=================================================================\n",
            "Total params: 201,396,231\n",
            "Trainable params: 201,396,231\n",
            "Non-trainable params: 0\n",
            "_________________________________________________________________\n"
          ]
        }
      ]
    },
    {
      "cell_type": "code",
      "source": [
        "model.compile(optimizer = \"Adam\", loss = \"binary_crossentropy\", metrics = [\"accuracy\"])"
      ],
      "metadata": {
        "id": "eJX-ErPNm-r3"
      },
      "execution_count": 16,
      "outputs": []
    },
    {
      "cell_type": "code",
      "source": [
        "history = model.fit(x_train, y_train, epochs = 55, validation_data = (x_test, y_test))"
      ],
      "metadata": {
        "colab": {
          "base_uri": "https://localhost:8080/"
        },
        "id": "jL5MxJlum-uf",
        "outputId": "8c12ae23-b237-4166-d1dd-02cb60dc7091"
      },
      "execution_count": 17,
      "outputs": [
        {
          "output_type": "stream",
          "name": "stdout",
          "text": [
            "Epoch 1/55\n",
            "7/7 [==============================] - 2s 84ms/step - loss: 124.7388 - accuracy: 0.5070 - val_loss: 27.3993 - val_accuracy: 0.5185\n",
            "Epoch 2/55\n",
            "7/7 [==============================] - 0s 51ms/step - loss: 10.7436 - accuracy: 0.5023 - val_loss: 3.5080 - val_accuracy: 0.5185\n",
            "Epoch 3/55\n",
            "7/7 [==============================] - 0s 51ms/step - loss: 1.2374 - accuracy: 0.5395 - val_loss: 0.8373 - val_accuracy: 0.4815\n",
            "Epoch 4/55\n",
            "7/7 [==============================] - 0s 50ms/step - loss: 0.7256 - accuracy: 0.5628 - val_loss: 0.8723 - val_accuracy: 0.5185\n",
            "Epoch 5/55\n",
            "7/7 [==============================] - 0s 51ms/step - loss: 0.6989 - accuracy: 0.5721 - val_loss: 0.6946 - val_accuracy: 0.5185\n",
            "Epoch 6/55\n",
            "7/7 [==============================] - 0s 51ms/step - loss: 0.7016 - accuracy: 0.6140 - val_loss: 0.6918 - val_accuracy: 0.5185\n",
            "Epoch 7/55\n",
            "7/7 [==============================] - 0s 51ms/step - loss: 0.6866 - accuracy: 0.5395 - val_loss: 0.7577 - val_accuracy: 0.5185\n",
            "Epoch 8/55\n",
            "7/7 [==============================] - 0s 51ms/step - loss: 0.6853 - accuracy: 0.6140 - val_loss: 0.7129 - val_accuracy: 0.5185\n",
            "Epoch 9/55\n",
            "7/7 [==============================] - 0s 50ms/step - loss: 0.6970 - accuracy: 0.6140 - val_loss: 0.6894 - val_accuracy: 0.5000\n",
            "Epoch 10/55\n",
            "7/7 [==============================] - 0s 52ms/step - loss: 0.6745 - accuracy: 0.6093 - val_loss: 0.7260 - val_accuracy: 0.5185\n",
            "Epoch 11/55\n",
            "7/7 [==============================] - 0s 52ms/step - loss: 0.6581 - accuracy: 0.6140 - val_loss: 0.6953 - val_accuracy: 0.5185\n",
            "Epoch 12/55\n",
            "7/7 [==============================] - 0s 51ms/step - loss: 0.6425 - accuracy: 0.6465 - val_loss: 0.6815 - val_accuracy: 0.5185\n",
            "Epoch 13/55\n",
            "7/7 [==============================] - 0s 51ms/step - loss: 0.6280 - accuracy: 0.6140 - val_loss: 0.6551 - val_accuracy: 0.7222\n",
            "Epoch 14/55\n",
            "7/7 [==============================] - 0s 52ms/step - loss: 0.5973 - accuracy: 0.7023 - val_loss: 0.8639 - val_accuracy: 0.5185\n",
            "Epoch 15/55\n",
            "7/7 [==============================] - 0s 51ms/step - loss: 0.5740 - accuracy: 0.7116 - val_loss: 0.6112 - val_accuracy: 0.6296\n",
            "Epoch 16/55\n",
            "7/7 [==============================] - 0s 51ms/step - loss: 0.5992 - accuracy: 0.7070 - val_loss: 0.6034 - val_accuracy: 0.7222\n",
            "Epoch 17/55\n",
            "7/7 [==============================] - 0s 51ms/step - loss: 0.5227 - accuracy: 0.7581 - val_loss: 0.9157 - val_accuracy: 0.5741\n",
            "Epoch 18/55\n",
            "7/7 [==============================] - 0s 51ms/step - loss: 0.5125 - accuracy: 0.7535 - val_loss: 0.6350 - val_accuracy: 0.5926\n",
            "Epoch 19/55\n",
            "7/7 [==============================] - 0s 51ms/step - loss: 0.4866 - accuracy: 0.7628 - val_loss: 0.5768 - val_accuracy: 0.7963\n",
            "Epoch 20/55\n",
            "7/7 [==============================] - 0s 50ms/step - loss: 0.6377 - accuracy: 0.7209 - val_loss: 0.9422 - val_accuracy: 0.5741\n",
            "Epoch 21/55\n",
            "7/7 [==============================] - 0s 50ms/step - loss: 0.7114 - accuracy: 0.6605 - val_loss: 0.7640 - val_accuracy: 0.5370\n",
            "Epoch 22/55\n",
            "7/7 [==============================] - 0s 51ms/step - loss: 0.4450 - accuracy: 0.7953 - val_loss: 0.7179 - val_accuracy: 0.6481\n",
            "Epoch 23/55\n",
            "7/7 [==============================] - 0s 50ms/step - loss: 0.8377 - accuracy: 0.6233 - val_loss: 0.5906 - val_accuracy: 0.7963\n",
            "Epoch 24/55\n",
            "7/7 [==============================] - 0s 50ms/step - loss: 1.0603 - accuracy: 0.7349 - val_loss: 0.8502 - val_accuracy: 0.5370\n",
            "Epoch 25/55\n",
            "7/7 [==============================] - 0s 51ms/step - loss: 0.7643 - accuracy: 0.6558 - val_loss: 0.7104 - val_accuracy: 0.5000\n",
            "Epoch 26/55\n",
            "7/7 [==============================] - 0s 51ms/step - loss: 0.5398 - accuracy: 0.6791 - val_loss: 0.6048 - val_accuracy: 0.7593\n",
            "Epoch 27/55\n",
            "7/7 [==============================] - 0s 51ms/step - loss: 0.3737 - accuracy: 0.8558 - val_loss: 0.8236 - val_accuracy: 0.6111\n",
            "Epoch 28/55\n",
            "7/7 [==============================] - 0s 50ms/step - loss: 0.3145 - accuracy: 0.8372 - val_loss: 0.6723 - val_accuracy: 0.7778\n",
            "Epoch 29/55\n",
            "7/7 [==============================] - 0s 50ms/step - loss: 0.2149 - accuracy: 0.9209 - val_loss: 0.9089 - val_accuracy: 0.6481\n",
            "Epoch 30/55\n",
            "7/7 [==============================] - 0s 51ms/step - loss: 0.4905 - accuracy: 0.7628 - val_loss: 1.5225 - val_accuracy: 0.5370\n",
            "Epoch 31/55\n",
            "7/7 [==============================] - 0s 50ms/step - loss: 0.3719 - accuracy: 0.8372 - val_loss: 0.7287 - val_accuracy: 0.6481\n",
            "Epoch 32/55\n",
            "7/7 [==============================] - 0s 50ms/step - loss: 0.2193 - accuracy: 0.9116 - val_loss: 1.2495 - val_accuracy: 0.5741\n",
            "Epoch 33/55\n",
            "7/7 [==============================] - 0s 51ms/step - loss: 0.4103 - accuracy: 0.8233 - val_loss: 0.9264 - val_accuracy: 0.5926\n",
            "Epoch 34/55\n",
            "7/7 [==============================] - 0s 50ms/step - loss: 0.2164 - accuracy: 0.9209 - val_loss: 0.7704 - val_accuracy: 0.6481\n",
            "Epoch 35/55\n",
            "7/7 [==============================] - 0s 51ms/step - loss: 0.1432 - accuracy: 0.9535 - val_loss: 0.8030 - val_accuracy: 0.7778\n",
            "Epoch 36/55\n",
            "7/7 [==============================] - 0s 53ms/step - loss: 0.0865 - accuracy: 0.9581 - val_loss: 1.0238 - val_accuracy: 0.7222\n",
            "Epoch 37/55\n",
            "7/7 [==============================] - 0s 51ms/step - loss: 0.1440 - accuracy: 0.9395 - val_loss: 2.9446 - val_accuracy: 0.5741\n",
            "Epoch 38/55\n",
            "7/7 [==============================] - 0s 51ms/step - loss: 0.3631 - accuracy: 0.8884 - val_loss: 0.6266 - val_accuracy: 0.7407\n",
            "Epoch 39/55\n",
            "7/7 [==============================] - 0s 51ms/step - loss: 0.0763 - accuracy: 0.9860 - val_loss: 0.7686 - val_accuracy: 0.7037\n",
            "Epoch 40/55\n",
            "7/7 [==============================] - 0s 50ms/step - loss: 0.0569 - accuracy: 0.9814 - val_loss: 1.4564 - val_accuracy: 0.6111\n",
            "Epoch 41/55\n",
            "7/7 [==============================] - 0s 51ms/step - loss: 0.5266 - accuracy: 0.8419 - val_loss: 1.7538 - val_accuracy: 0.5741\n",
            "Epoch 42/55\n",
            "7/7 [==============================] - 0s 51ms/step - loss: 0.8997 - accuracy: 0.6791 - val_loss: 0.6651 - val_accuracy: 0.7407\n",
            "Epoch 43/55\n",
            "7/7 [==============================] - 0s 55ms/step - loss: 0.6546 - accuracy: 0.6744 - val_loss: 0.6691 - val_accuracy: 0.5741\n",
            "Epoch 44/55\n",
            "7/7 [==============================] - 0s 51ms/step - loss: 0.5720 - accuracy: 0.7395 - val_loss: 0.7043 - val_accuracy: 0.5556\n",
            "Epoch 45/55\n",
            "7/7 [==============================] - 0s 51ms/step - loss: 0.5086 - accuracy: 0.7116 - val_loss: 0.6979 - val_accuracy: 0.5185\n",
            "Epoch 46/55\n",
            "7/7 [==============================] - 0s 52ms/step - loss: 0.4679 - accuracy: 0.8465 - val_loss: 1.0350 - val_accuracy: 0.5370\n",
            "Epoch 47/55\n",
            "7/7 [==============================] - 0s 51ms/step - loss: 0.3472 - accuracy: 0.8744 - val_loss: 0.6761 - val_accuracy: 0.5741\n",
            "Epoch 48/55\n",
            "7/7 [==============================] - 0s 51ms/step - loss: 0.5004 - accuracy: 0.7674 - val_loss: 2.1075 - val_accuracy: 0.5556\n",
            "Epoch 49/55\n",
            "7/7 [==============================] - 0s 50ms/step - loss: 0.8377 - accuracy: 0.5860 - val_loss: 0.8271 - val_accuracy: 0.4815\n",
            "Epoch 50/55\n",
            "7/7 [==============================] - 0s 50ms/step - loss: 0.8168 - accuracy: 0.3953 - val_loss: 0.7144 - val_accuracy: 0.4815\n",
            "Epoch 51/55\n",
            "7/7 [==============================] - 0s 51ms/step - loss: 0.7184 - accuracy: 0.3953 - val_loss: 0.6948 - val_accuracy: 0.4815\n",
            "Epoch 52/55\n",
            "7/7 [==============================] - 0s 51ms/step - loss: 0.6853 - accuracy: 0.5628 - val_loss: 0.6928 - val_accuracy: 0.5185\n",
            "Epoch 53/55\n",
            "7/7 [==============================] - 0s 52ms/step - loss: 0.6623 - accuracy: 0.6140 - val_loss: 0.6789 - val_accuracy: 0.5185\n",
            "Epoch 54/55\n",
            "7/7 [==============================] - 0s 50ms/step - loss: 0.4926 - accuracy: 0.6140 - val_loss: 0.6775 - val_accuracy: 0.5185\n",
            "Epoch 55/55\n",
            "7/7 [==============================] - 0s 52ms/step - loss: 0.6212 - accuracy: 0.6140 - val_loss: 0.6838 - val_accuracy: 0.5185\n"
          ]
        }
      ]
    },
    {
      "cell_type": "code",
      "source": [
        "plt.plot(history.history[\"val_loss\"])\n",
        "plt.plot(history.history[\"loss\"])\n"
      ],
      "metadata": {
        "colab": {
          "base_uri": "https://localhost:8080/",
          "height": 282
        },
        "id": "6MhvvmQpm-xZ",
        "outputId": "24e919b3-ced7-40d8-a1b7-51d4f0a78a16"
      },
      "execution_count": 18,
      "outputs": [
        {
          "output_type": "execute_result",
          "data": {
            "text/plain": [
              "[<matplotlib.lines.Line2D at 0x7f1d403b7850>]"
            ]
          },
          "metadata": {},
          "execution_count": 18
        },
        {
          "output_type": "display_data",
          "data": {
            "text/plain": [
              "<Figure size 432x288 with 1 Axes>"
            ],
            "image/png": "[encoded data removed]"
          },
          "metadata": {
            "needs_background": "light"
          }
        }
      ]
    },
    {
      "cell_type": "code",
      "source": [
        "# predictions\n",
        "\n",
        "predictions = model.predict(x_test)\n",
        "\n",
        "predictions.shape"
      ],
      "metadata": {
        "colab": {
          "base_uri": "https://localhost:8080/"
        },
        "id": "-oHkXbIWm-0f",
        "outputId": "39b7282c-0ec4-459d-f3ff-92ad4f45305b"
      },
      "execution_count": 19,
      "outputs": [
        {
          "output_type": "execute_result",
          "data": {
            "text/plain": [
              "(54, 1)"
            ]
          },
          "metadata": {},
          "execution_count": 19
        }
      ]
    },
    {
      "cell_type": "code",
      "source": [
        "# threshold = 0.5 \n",
        "# 0 - False i.e Bart\n",
        "# 1 - True i.e Homer\n",
        "\n",
        "predictions = [predictions > 0.5]\n",
        "\n",
        "y_test.shape"
      ],
      "metadata": {
        "colab": {
          "base_uri": "https://localhost:8080/"
        },
        "id": "NB_53HYlm-3V",
        "outputId": "f3881e26-d90b-41d4-a8d4-02020c8c4140"
      },
      "execution_count": 20,
      "outputs": [
        {
          "output_type": "execute_result",
          "data": {
            "text/plain": [
              "(54,)"
            ]
          },
          "metadata": {},
          "execution_count": 20
        }
      ]
    },
    {
      "cell_type": "code",
      "source": [
        "from sklearn.metrics import f1_score, recall_score, precision_score, accuracy_score\n",
        "\n",
        "y_pred = np.array(predictions).flatten()\n",
        "\n",
        "print(f\"accuracy: {accuracy_score(y_test, y_pred)}\")\n",
        "print(f\"f1_score: {f1_score(y_test, y_pred)}\")\n",
        "print(f\"recall_score: {recall_score(y_test, y_pred)}\")\n",
        "print(f\"precision_score: {precision_score(y_test, y_pred)}\")\n",
        "\n"
      ],
      "metadata": {
        "colab": {
          "base_uri": "https://localhost:8080/"
        },
        "id": "jD55B4ipm-6S",
        "outputId": "867eb5ec-bad5-40f0-b727-0931e3a6f530"
      },
      "execution_count": 21,
      "outputs": [
        {
          "output_type": "stream",
          "name": "stdout",
          "text": [
            "accuracy: 0.5185185185185185\n",
            "f1_score: 0.0\n",
            "recall_score: 0.0\n",
            "precision_score: 0.0\n"
          ]
        },
        {
          "output_type": "stream",
          "name": "stderr",
          "text": [
            "/usr/local/lib/python3.7/dist-packages/sklearn/metrics/_classification.py:1318: UndefinedMetricWarning: Precision is ill-defined and being set to 0.0 due to no predicted samples. Use `zero_division` parameter to control this behavior.\n",
            "  _warn_prf(average, modifier, msg_start, len(result))\n"
          ]
        }
      ]
    },
    {
      "cell_type": "code",
      "source": [
        "from sklearn.metrics import confusion_matrix\n",
        "\n",
        "# row is actual, while column is predicted.\n",
        "cm = confusion_matrix(y_test, y_pred)\n",
        "\n",
        "\n",
        "sns.heatmap(cm, annot=True)"
      ],
      "metadata": {
        "colab": {
          "base_uri": "https://localhost:8080/",
          "height": 282
        },
        "id": "wsK-7wkHm-9L",
        "outputId": "27655b9a-7d78-4334-ef4c-e7744eec961e"
      },
      "execution_count": 22,
      "outputs": [
        {
          "output_type": "execute_result",
          "data": {
            "text/plain": [
              "<matplotlib.axes._subplots.AxesSubplot at 0x7f1d404bccd0>"
            ]
          },
          "metadata": {},
          "execution_count": 22
        },
        {
          "output_type": "display_data",
          "data": {
            "text/plain": [
              "<Figure size 432x288 with 2 Axes>"
            ],
            "image/png": "[encoded data removed]"
          },
          "metadata": {
            "needs_background": "light"
          }
        }
      ]
    },
    {
      "cell_type": "markdown",
      "source": [
        "#### Saving and Loading Model"
      ],
      "metadata": {
        "id": "UPjwsONFm_AD"
      }
    },
    {
      "cell_type": "code",
      "source": [
        "model_json = model.to_json()\n",
        "\n",
        "# save just model structure alone\n",
        "with open(\"model1.json\", \"w\") as json_file:\n",
        "  json_file.write(model_json)\n",
        "\n",
        "# save model weights\n",
        "from keras.models import save_model\n",
        "\n",
        "model_saved = save_model(model, \"model_weights.hdf5\")\n",
        "\n",
        "\n",
        "\n",
        "# n.b: This doesn't save the model optimizer(best to save the model structure and weights in one go on keras to get these)"
      ],
      "metadata": {
        "id": "mIpeUBt9m_Cy"
      },
      "execution_count": 23,
      "outputs": []
    },
    {
      "cell_type": "code",
      "source": [
        "# Load model structure and weights\n",
        "\n",
        "\n",
        "with open(\"model1.json\", \"r\") as json_file:\n",
        "  json_saved_model = json_file.read()\n",
        "\n",
        "model1_loaded = keras.models.model_from_json(json_saved_model)   # load the structure\n",
        "model1_loaded.load_weights(\"/content/weights.hdf5\")\n",
        "\n",
        "# optimizer must be same as saved model\n",
        "model1_loaded.compile(loss = \"binary_crossentropy\", optimizer = \"Adam\", metrics = [\"accuracy\"])\n",
        "\n",
        "model1_loaded.summary()"
      ],
      "metadata": {
        "colab": {
          "base_uri": "https://localhost:8080/"
        },
        "id": "v3nkq6eFm_GY",
        "outputId": "9eb71186-7f7f-48b6-b84a-94dbe1a80e36"
      },
      "execution_count": 24,
      "outputs": [
        {
          "output_type": "stream",
          "name": "stdout",
          "text": [
            "Model: \"sequential\"\n",
            "_________________________________________________________________\n",
            " Layer (type)                Output Shape              Param #   \n",
            "=================================================================\n",
            " dense (Dense)               (None, 8193)              134242305 \n",
            "                                                                 \n",
            " dense_1 (Dense)             (None, 4097)              33570818  \n",
            "                                                                 \n",
            " dense_2 (Dense)             (None, 8193)              33574914  \n",
            "                                                                 \n",
            " dense_3 (Dense)             (None, 1)                 8194      \n",
            "                                                                 \n",
            "=================================================================\n",
            "Total params: 201,396,231\n",
            "Trainable params: 201,396,231\n",
            "Non-trainable params: 0\n",
            "_________________________________________________________________\n"
          ]
        }
      ]
    },
    {
      "cell_type": "markdown",
      "source": [
        "### Classify a single image"
      ],
      "metadata": {
        "id": "45sG4jwJHQgz"
      }
    },
    {
      "cell_type": "code",
      "source": [
        "# get test image first in format before flattening and pixel normalization\n",
        "# for displaying\n",
        "test_image = x_test[44]\n",
        "test_image = scaler.inverse_transform(test_image.reshape(1, -1))\n",
        "\n",
        "cv2_imshow(test_image.reshape(128, 128))"
      ],
      "metadata": {
        "colab": {
          "base_uri": "https://localhost:8080/",
          "height": 145
        },
        "id": "Em_Kc4dsm_LT",
        "outputId": "a23a8a5f-bfaa-4b56-a84e-f6088dd865fa"
      },
      "execution_count": 25,
      "outputs": [
        {
          "output_type": "display_data",
          "data": {
            "text/plain": [
              "<PIL.Image.Image image mode=L size=128x128 at 0x7F1D4014C550>"
            ],
            "image/png": "[encoded data removed]"
          },
          "metadata": {}
        }
      ]
    },
    {
      "cell_type": "code",
      "source": [
        "# classfification\n",
        "if (model1_loaded.predict(x_test[44].reshape(1,-1))[0][0] < 0.5):\n",
        "  print(\"Predictions: Bart with class 0\")\n",
        "else:\n",
        "  print(\"Predictions: Homer with class 1\")"
      ],
      "metadata": {
        "colab": {
          "base_uri": "https://localhost:8080/"
        },
        "id": "b6bB7drBm_OA",
        "outputId": "4f1fc974-ed3b-4218-dd52-14cb2388a07c"
      },
      "execution_count": 26,
      "outputs": [
        {
          "output_type": "stream",
          "name": "stdout",
          "text": [
            "Predictions: Bart with class 0\n"
          ]
        }
      ]
    },
    {
      "cell_type": "code",
      "source": [
        ""
      ],
      "metadata": {
        "id": "MaAQeY4mm_Qn"
      },
      "execution_count": 26,
      "outputs": []
    },
    {
      "cell_type": "markdown",
      "source": [
        "### Approach 2: Using Extracted Features(Using OpenCV) to train NN\n",
        "\n",
        "* N.B: When using CNN this feature extraction isn't that important, since CNN handles extracting features"
      ],
      "metadata": {
        "id": "pQebevanm_UA"
      }
    },
    {
      "cell_type": "markdown",
      "source": [
        "### Feature Extractor"
      ],
      "metadata": {
        "id": "A59tBZ-0pyGb"
      }
    },
    {
      "cell_type": "code",
      "source": [
        "files = [os.path.join(directory, f) for f in sorted(os.listdir(directory))]  # gets full name of files\n",
        "print(files)"
      ],
      "metadata": {
        "colab": {
          "base_uri": "https://localhost:8080/"
        },
        "id": "mbLEfLNWm_8r",
        "outputId": "0ead9862-dcaa-45c5-fe2d-848f71797f3f"
      },
      "execution_count": 27,
      "outputs": [
        {
          "output_type": "stream",
          "name": "stdout",
          "text": [
            "['/content/homer_bart_1/.DS_Store', '/content/homer_bart_1/bart1.bmp', '/content/homer_bart_1/bart10.bmp', '/content/homer_bart_1/bart100.bmp', '/content/homer_bart_1/bart101.bmp', '/content/homer_bart_1/bart102.bmp', '/content/homer_bart_1/bart103.bmp', '/content/homer_bart_1/bart104.bmp', '/content/homer_bart_1/bart105.bmp', '/content/homer_bart_1/bart106.bmp', '/content/homer_bart_1/bart108.bmp', '/content/homer_bart_1/bart109.bmp', '/content/homer_bart_1/bart11.bmp', '/content/homer_bart_1/bart110.bmp', '/content/homer_bart_1/bart111.bmp', '/content/homer_bart_1/bart112.bmp', '/content/homer_bart_1/bart113.bmp', '/content/homer_bart_1/bart114.bmp', '/content/homer_bart_1/bart115.bmp', '/content/homer_bart_1/bart116.bmp', '/content/homer_bart_1/bart117.bmp', '/content/homer_bart_1/bart118.bmp', '/content/homer_bart_1/bart119.bmp', '/content/homer_bart_1/bart12.bmp', '/content/homer_bart_1/bart120.bmp', '/content/homer_bart_1/bart121.bmp', '/content/homer_bart_1/bart122.bmp', '/content/homer_bart_1/bart123.bmp', '/content/homer_bart_1/bart124.bmp', '/content/homer_bart_1/bart125.bmp', '/content/homer_bart_1/bart126.bmp', '/content/homer_bart_1/bart127.bmp', '/content/homer_bart_1/bart128.bmp', '/content/homer_bart_1/bart13.bmp', '/content/homer_bart_1/bart130.bmp', '/content/homer_bart_1/bart131.bmp', '/content/homer_bart_1/bart132.bmp', '/content/homer_bart_1/bart133.bmp', '/content/homer_bart_1/bart134.bmp', '/content/homer_bart_1/bart135.bmp', '/content/homer_bart_1/bart136.bmp', '/content/homer_bart_1/bart137.bmp', '/content/homer_bart_1/bart138.bmp', '/content/homer_bart_1/bart139.bmp', '/content/homer_bart_1/bart14.bmp', '/content/homer_bart_1/bart141.bmp', '/content/homer_bart_1/bart142.bmp', '/content/homer_bart_1/bart143.bmp', '/content/homer_bart_1/bart144.bmp', '/content/homer_bart_1/bart145.bmp', '/content/homer_bart_1/bart146.bmp', '/content/homer_bart_1/bart147.bmp', '/content/homer_bart_1/bart148.bmp', '/content/homer_bart_1/bart149.bmp', '/content/homer_bart_1/bart15.bmp', '/content/homer_bart_1/bart150.bmp', '/content/homer_bart_1/bart151.bmp', '/content/homer_bart_1/bart153.bmp', '/content/homer_bart_1/bart154.bmp', '/content/homer_bart_1/bart155.bmp', '/content/homer_bart_1/bart156.bmp', '/content/homer_bart_1/bart157.bmp', '/content/homer_bart_1/bart158.bmp', '/content/homer_bart_1/bart159.bmp', '/content/homer_bart_1/bart16.bmp', '/content/homer_bart_1/bart160.bmp', '/content/homer_bart_1/bart161.bmp', '/content/homer_bart_1/bart162.bmp', '/content/homer_bart_1/bart164.bmp', '/content/homer_bart_1/bart165.bmp', '/content/homer_bart_1/bart166.bmp', '/content/homer_bart_1/bart167.bmp', '/content/homer_bart_1/bart168.bmp', '/content/homer_bart_1/bart169.bmp', '/content/homer_bart_1/bart17.bmp', '/content/homer_bart_1/bart18.bmp', '/content/homer_bart_1/bart19.bmp', '/content/homer_bart_1/bart2.bmp', '/content/homer_bart_1/bart20.bmp', '/content/homer_bart_1/bart21.bmp', '/content/homer_bart_1/bart22.bmp', '/content/homer_bart_1/bart23.bmp', '/content/homer_bart_1/bart24.bmp', '/content/homer_bart_1/bart25.bmp', '/content/homer_bart_1/bart26.bmp', '/content/homer_bart_1/bart27.bmp', '/content/homer_bart_1/bart28.bmp', '/content/homer_bart_1/bart29.bmp', '/content/homer_bart_1/bart3.bmp', '/content/homer_bart_1/bart30.bmp', '/content/homer_bart_1/bart31.bmp', '/content/homer_bart_1/bart32.bmp', '/content/homer_bart_1/bart34.bmp', '/content/homer_bart_1/bart35.bmp', '/content/homer_bart_1/bart36.bmp', '/content/homer_bart_1/bart37.bmp', '/content/homer_bart_1/bart38.bmp', '/content/homer_bart_1/bart39.bmp', '/content/homer_bart_1/bart4.bmp', '/content/homer_bart_1/bart40.bmp', '/content/homer_bart_1/bart42.bmp', '/content/homer_bart_1/bart43.bmp', '/content/homer_bart_1/bart44.bmp', '/content/homer_bart_1/bart45.bmp', '/content/homer_bart_1/bart46.bmp', '/content/homer_bart_1/bart47.bmp', '/content/homer_bart_1/bart48.bmp', '/content/homer_bart_1/bart49.bmp', '/content/homer_bart_1/bart5.bmp', '/content/homer_bart_1/bart50.bmp', '/content/homer_bart_1/bart51.bmp', '/content/homer_bart_1/bart52.bmp', '/content/homer_bart_1/bart53.bmp', '/content/homer_bart_1/bart54.bmp', '/content/homer_bart_1/bart55.bmp', '/content/homer_bart_1/bart56.bmp', '/content/homer_bart_1/bart57.bmp', '/content/homer_bart_1/bart58.bmp', '/content/homer_bart_1/bart59.bmp', '/content/homer_bart_1/bart6.bmp', '/content/homer_bart_1/bart60.bmp', '/content/homer_bart_1/bart61.bmp', '/content/homer_bart_1/bart62.bmp', '/content/homer_bart_1/bart63.bmp', '/content/homer_bart_1/bart64.bmp', '/content/homer_bart_1/bart65.bmp', '/content/homer_bart_1/bart66.bmp', '/content/homer_bart_1/bart67.bmp', '/content/homer_bart_1/bart68.bmp', '/content/homer_bart_1/bart69.bmp', '/content/homer_bart_1/bart7.bmp', '/content/homer_bart_1/bart70.bmp', '/content/homer_bart_1/bart71.bmp', '/content/homer_bart_1/bart72.bmp', '/content/homer_bart_1/bart73.bmp', '/content/homer_bart_1/bart74.bmp', '/content/homer_bart_1/bart75.bmp', '/content/homer_bart_1/bart76.bmp', '/content/homer_bart_1/bart77.bmp', '/content/homer_bart_1/bart79.bmp', '/content/homer_bart_1/bart8.bmp', '/content/homer_bart_1/bart80.bmp', '/content/homer_bart_1/bart81.bmp', '/content/homer_bart_1/bart82.bmp', '/content/homer_bart_1/bart83.bmp', '/content/homer_bart_1/bart84.bmp', '/content/homer_bart_1/bart85.bmp', '/content/homer_bart_1/bart86.bmp', '/content/homer_bart_1/bart87.bmp', '/content/homer_bart_1/bart89.bmp', '/content/homer_bart_1/bart9.bmp', '/content/homer_bart_1/bart90.bmp', '/content/homer_bart_1/bart91.bmp', '/content/homer_bart_1/bart92.bmp', '/content/homer_bart_1/bart93.bmp', '/content/homer_bart_1/bart94.bmp', '/content/homer_bart_1/bart95.bmp', '/content/homer_bart_1/bart96.bmp', '/content/homer_bart_1/bart97.bmp', '/content/homer_bart_1/bart98.bmp', '/content/homer_bart_1/bart99.bmp', '/content/homer_bart_1/homer1.bmp', '/content/homer_bart_1/homer10.bmp', '/content/homer_bart_1/homer100.bmp', '/content/homer_bart_1/homer101.bmp', '/content/homer_bart_1/homer102.bmp', '/content/homer_bart_1/homer103.bmp', '/content/homer_bart_1/homer104.bmp', '/content/homer_bart_1/homer105.bmp', '/content/homer_bart_1/homer106.bmp', '/content/homer_bart_1/homer107.bmp', '/content/homer_bart_1/homer109.bmp', '/content/homer_bart_1/homer110.bmp', '/content/homer_bart_1/homer112.bmp', '/content/homer_bart_1/homer113.bmp', '/content/homer_bart_1/homer115.bmp', '/content/homer_bart_1/homer116.bmp', '/content/homer_bart_1/homer117.bmp', '/content/homer_bart_1/homer119.bmp', '/content/homer_bart_1/homer120.bmp', '/content/homer_bart_1/homer121.bmp', '/content/homer_bart_1/homer122.bmp', '/content/homer_bart_1/homer123.bmp', '/content/homer_bart_1/homer124.bmp', '/content/homer_bart_1/homer13.bmp', '/content/homer_bart_1/homer14.bmp', '/content/homer_bart_1/homer15.bmp', '/content/homer_bart_1/homer16.bmp', '/content/homer_bart_1/homer17.bmp', '/content/homer_bart_1/homer18.bmp', '/content/homer_bart_1/homer2.bmp', '/content/homer_bart_1/homer20.bmp', '/content/homer_bart_1/homer21.bmp', '/content/homer_bart_1/homer22.bmp', '/content/homer_bart_1/homer23.bmp', '/content/homer_bart_1/homer24.bmp', '/content/homer_bart_1/homer26.bmp', '/content/homer_bart_1/homer27.bmp', '/content/homer_bart_1/homer28.bmp', '/content/homer_bart_1/homer29.bmp', '/content/homer_bart_1/homer3.bmp', '/content/homer_bart_1/homer30.bmp', '/content/homer_bart_1/homer31.bmp', '/content/homer_bart_1/homer32.bmp', '/content/homer_bart_1/homer33.bmp', '/content/homer_bart_1/homer34.bmp', '/content/homer_bart_1/homer35.bmp', '/content/homer_bart_1/homer36.bmp', '/content/homer_bart_1/homer37.bmp', '/content/homer_bart_1/homer38.bmp', '/content/homer_bart_1/homer4.bmp', '/content/homer_bart_1/homer40.bmp', '/content/homer_bart_1/homer41.bmp', '/content/homer_bart_1/homer43.bmp', '/content/homer_bart_1/homer44.bmp', '/content/homer_bart_1/homer45.bmp', '/content/homer_bart_1/homer46.bmp', '/content/homer_bart_1/homer47.bmp', '/content/homer_bart_1/homer48.bmp', '/content/homer_bart_1/homer49.bmp', '/content/homer_bart_1/homer5.bmp', '/content/homer_bart_1/homer50.bmp', '/content/homer_bart_1/homer51.bmp', '/content/homer_bart_1/homer52.bmp', '/content/homer_bart_1/homer54.bmp', '/content/homer_bart_1/homer55.bmp', '/content/homer_bart_1/homer56.bmp', '/content/homer_bart_1/homer57.bmp', '/content/homer_bart_1/homer58.bmp', '/content/homer_bart_1/homer59.bmp', '/content/homer_bart_1/homer6.bmp', '/content/homer_bart_1/homer60.bmp', '/content/homer_bart_1/homer61.bmp', '/content/homer_bart_1/homer62.bmp', '/content/homer_bart_1/homer63.bmp', '/content/homer_bart_1/homer65.bmp', '/content/homer_bart_1/homer66.bmp', '/content/homer_bart_1/homer68.bmp', '/content/homer_bart_1/homer69.bmp', '/content/homer_bart_1/homer7.bmp', '/content/homer_bart_1/homer70.bmp', '/content/homer_bart_1/homer71.bmp', '/content/homer_bart_1/homer72.bmp', '/content/homer_bart_1/homer73.bmp', '/content/homer_bart_1/homer74.bmp', '/content/homer_bart_1/homer75.bmp', '/content/homer_bart_1/homer76.bmp', '/content/homer_bart_1/homer77.bmp', '/content/homer_bart_1/homer78.bmp', '/content/homer_bart_1/homer79.bmp', '/content/homer_bart_1/homer8.bmp', '/content/homer_bart_1/homer80.bmp', '/content/homer_bart_1/homer81.bmp', '/content/homer_bart_1/homer82.bmp', '/content/homer_bart_1/homer83.bmp', '/content/homer_bart_1/homer84.bmp', '/content/homer_bart_1/homer85.bmp', '/content/homer_bart_1/homer86.bmp', '/content/homer_bart_1/homer87.bmp', '/content/homer_bart_1/homer9.bmp', '/content/homer_bart_1/homer90.bmp', '/content/homer_bart_1/homer91.bmp', '/content/homer_bart_1/homer92.bmp', '/content/homer_bart_1/homer93.bmp', '/content/homer_bart_1/homer94.bmp', '/content/homer_bart_1/homer95.bmp', '/content/homer_bart_1/homer96.bmp', '/content/homer_bart_1/homer97.bmp', '/content/homer_bart_1/homer98.bmp', '/content/homer_bart_1/homer99.bmp']\n"
          ]
        }
      ]
    },
    {
      "cell_type": "code",
      "source": [
        "# name of each features for homer and bart i.e first three for Homer and next three for bart and last is class(0 or 1)\n",
        "# This are the headers for our features dataset\n",
        "export = \"mouth,pants,shoes,tshirt,shorts,sneakers,class\\n\""
      ],
      "metadata": {
        "id": "C3Yl5AkIm__9"
      },
      "execution_count": 57,
      "outputs": []
    },
    {
      "cell_type": "code",
      "source": [
        "show_images = False\n",
        "features = []"
      ],
      "metadata": {
        "id": "c6Mq8UTrnABf"
      },
      "execution_count": 58,
      "outputs": []
    },
    {
      "cell_type": "code",
      "source": [
        "for image_path in files:\n",
        "  try:\n",
        "    original_image = cv2.imread(image_path)\n",
        "    (H, W) = original_image.shape[:2]\n",
        "\n",
        "  except:\n",
        "    print(\"not an image\")\n",
        "    continue\n",
        "\n",
        "  image = original_image.copy()\n",
        "  image_features = []  # features of just this image\n",
        "\n",
        "  mouth = pants = shoes = 0  # init homer features as 0\n",
        "  tshirt = shorts = sneakers = 0  # init bart features as 0\n",
        "\n",
        "  image_name = os.path.basename(os.path.normpath(image_path))\n",
        "\n",
        "  if image_name.startswith(\"b\"):\n",
        "    class_name = 0\n",
        "  else:\n",
        "    class_name = 1\n",
        "\n",
        "  # iterate through each one of the pixels in image to get needed features\n",
        "  for height in range(0, H):\n",
        "    # iterate through each pixel row in image\n",
        "    for width in range(0, W):\n",
        "      # iterate through each pixel col of pixel row in focus\n",
        "      blue = image.item(height, width, 0)\n",
        "      green = image.item(height, width, 1)\n",
        "      red = image.item(height, width, 2)\n",
        "\n",
        "      # Homer Features - brown mouth\n",
        "      if(blue >= 95 and blue <= 140 and green >= 160 and green <= 185 and red >= 175 and red <= 200):\n",
        "        image[height, width] = [0, 255, 255]  # after finding brown color, paint that pixel to yellow by setting B = 0 and G&R channels to 255\n",
        "        mouth += 1\n",
        "      \n",
        "      # Homer - blue pants\n",
        "      if(blue >= 150 and blue <= 180 and green >= 98 and green <= 120 and red >= 0 and red <= 90):\n",
        "        image[height, width] = [0, 255, 255]\n",
        "        pants += 1\n",
        "\n",
        "      # Homer - gray shoes\n",
        "      if height > (H / 2):  # to access just bottom half of the image\n",
        "        if(blue >= 35 and blue <= 45 and green >= 25 and green <= 45 and red >= 25 and red <= 45):\n",
        "          image[height, width] = [0, 255, 255]\n",
        "          shoes += 1\n",
        "\n",
        "      # Bart - Orange t-shirt\n",
        "      if(blue >= 11 and blue <= 22 and green >= 85 and green <= 105 and red >= 240 and red <= 255):\n",
        "        image[height, width] = [0, 255, 128]\n",
        "        tshirt += 1\n",
        "\n",
        "      # Bart - Blue shorts\n",
        "      if(blue >= 125 and blue <= 170 and green >= 0 and green <= 12 and red >= 0 and red <= 20):\n",
        "        image[height, width] = [0, 255, 128]\n",
        "        shorts += 1\n",
        "\n",
        "      # Bart - Blue sneakers\n",
        "      if height > (H / 2):  # to access just bottom half of the image\n",
        "        if(blue >= 125 and blue <= 170 and green >= 0 and green <= 12 and red >= 0 and red <= 20):\n",
        "          image[height, width] = [0, 255, 128]\n",
        "          sneakers += 1\n",
        "\n",
        "\n",
        "  # scale the feature and get percentage, since all images aren't same size\n",
        "  mouth = round((mouth / (H * W)) * 100, 9)\n",
        "  pants = round((pants / (H * W)) * 100, 9)\n",
        "  shoes = round((shoes / (H * W)) * 100, 9)\n",
        "  tshirt = round((tshirt / (H * W)) * 100, 9)\n",
        "  shorts = round((shorts / (H * W)) * 100, 9)\n",
        "  sneakers = round((sneakers / (H * W)) * 100, 9)\n",
        "\n",
        "\n",
        "  image_features.append(mouth)\n",
        "  image_features.append(pants)\n",
        "  image_features.append(shoes)\n",
        "  image_features.append(tshirt)\n",
        "  image_features.append(shorts)\n",
        "  image_features.append(sneakers)\n",
        "  image_features.append(class_name)\n",
        "\n",
        "\n",
        "  features.append(image_features)\n",
        "\n",
        "  # print(\"Homer mouth : %s - Homer pants: %s - Homer shoes: %s\" % (image_features[0], image_features[1], image_features[2]))\n",
        "  # print(\"Bart t-shirt: %s - Bart Shorts: %s - Bart Shoes: %s\" % (image_features[3], image_features[4], image_features[5]))\n",
        "\n",
        "  # conv a features list into strings\n",
        "  f = (\",\".join([str(item) for item in image_features]))\n",
        "  export += f + \"\\n\"\n",
        "  \n",
        "\n",
        "  if(show_images):\n",
        "    # convert to needed color channel for showing using plt\n",
        "    image = cv2.cvtColor(image, cv2.COLOR_BGR2RGB)\n",
        "    original_image = cv2.cvtColor(original_image, cv2.COLOR_BGR2RGB)\n",
        "\n",
        "    fig, im = plt.subplots(1, 2)\n",
        "    im[0].axis(\"Off\")\n",
        "    im[0].imshow(original_image)\n",
        "    im[1].axis(\"off\")\n",
        "    im[1].imshow(image)\n",
        "    plt.show();\n",
        "\n",
        "      \n",
        "\n",
        "\n",
        "\n"
      ],
      "metadata": {
        "colab": {
          "base_uri": "https://localhost:8080/"
        },
        "id": "e2N6libKnAD-",
        "outputId": "46dc509f-2754-4225-e89e-85a263a3a4a8"
      },
      "execution_count": 59,
      "outputs": [
        {
          "output_type": "stream",
          "name": "stdout",
          "text": [
            "not an image\n"
          ]
        }
      ]
    },
    {
      "cell_type": "code",
      "source": [
        "export"
      ],
      "metadata": {
        "colab": {
          "base_uri": "https://localhost:8080/",
          "height": 123
        },
        "id": "ph_8XpANnAGi",
        "outputId": "5443a8aa-5340-48d0-c58f-9fb06193657d"
      },
      "execution_count": 60,
      "outputs": [
        {
          "output_type": "execute_result",
          "data": {
            "text/plain": [
              "'mouth,pants,shoes,tshirt,shorts,sneakers,class\\n0.0,0.0,0.043821209,6.886101887,3.495204355,3.495204355,0\\n0.0,0.0,0.053466686,5.004901113,3.183888705,3.183888705,0\\n0.0,0.0,0.0,5.264620437,5.029682961,5.029682961,0\\n0.0,0.480168257,0.023148607,0.0,0.0,0.0,0\\n0.0,0.0,0.029707562,8.978929368,3.459119497,3.459119497,0\\n0.0,0.0,0.035536603,6.75432362,0.948827292,0.948827292,0\\n0.249585206,0.0,0.0,9.693407263,4.104683977,4.104683977,0\\n0.0,0.0,0.088590604,0.0,0.0,0.0,0\\n0.0,0.0,0.077375566,0.0,0.0,0.0,0\\n0.0,0.0,0.069489045,9.594752524,7.522715548,7.522715548,0\\n0.0,0.0,0.067226891,0.0,0.0,0.0,0\\n0.0,0.0,0.012842275,19.545383481,0.0,0.0,0\\n0.00307645,0.0,0.0,6.495154592,5.599138594,5.599138594,0\\n0.001317263,0.0,0.026784342,0.0,0.0,0.0,0\\n0.0,0.0,0.009407804,8.395721925,0.0,0.0,0\\n0.02105732,0.0,0.0,8.915750471,0.0,0.0,0\\n0.0,0.0,0.024106909,11.095816228,4.525111363,4.525111363,0\\n0.0,0.0,0.011268875,10.443349754,3.183296307,3.183296307,0\\n0.0,0.0,0.012320666,9.497408097,0.0,0.0,0\\n0.0,0.0,0.025925264,4.750581083,3.600482746,3.600482746,0\\n0.0,0.010463297,0.263857044,7.430305346,0.0,0.0,0\\n0.0,0.0,0.07272088,12.530766526,2.373417722,2.373417722,0\\n0.0,0.0,0.191199747,11.88730611,6.866729978,6.866729978,0\\n0.0,0.0,0.110318564,2.206749078,3.37340567,0.0,0\\n0.0,0.0,0.083622139,0.0,0.0,0.0,0\\n0.0,0.0,0.033521673,9.781371226,6.301652893,6.301652893,0\\n0.0,0.0,0.028719287,4.322113293,5.937642899,5.937642899,0\\n0.0,0.0,0.043208314,0.0,0.0,0.0,0\\n0.07,0.0,0.14,0.0,0.0,0.0,0\\n0.0,0.0,0.037522335,11.305241215,7.723942823,7.723942823,0\\n0.0,0.0,0.16802168,0.0,0.0,0.0,0\\n0.0,0.0,0.040793542,11.35992786,0.0,0.0,0\\n0.0,0.0,0.084393721,5.738773012,3.398924308,3.398924308,0\\n0.0,0.0,0.130954995,5.02834647,0.0,0.0,0\\n0.0,0.0,0.0,0.0,2.312329463,1.435370265,0\\n0.000832432,0.0,0.05993507,16.896695247,1.144593357,1.144593357,0\\n0.0,0.0,0.05551425,13.608921933,0.269640644,0.269640644,0\\n0.057218819,0.0,0.036411975,7.449427812,0.0,0.0,0\\n0.0,0.0,0.027697344,7.435477779,1.739896764,1.739896764,0\\n0.0,0.0,0.038808039,3.805959806,2.272349272,2.272349272,0\\n0.0,0.0,0.05304784,4.813762626,5.155285494,5.155285494,0\\n0.0,0.0,0.011114584,10.597756243,0.0,0.0,0\\n0.0,0.0,0.02939798,7.972817519,0.0,0.0,0\\n0.0,0.0,0.0,5.126150428,7.112821327,7.112821327,0\\n0.0,0.0,0.052313587,0.0,18.927203065,17.73135868,0\\n0.0,0.0,0.13699873,3.036351539,1.797919313,1.797919313,0\\n0.0,0.0,0.056479978,8.149012446,2.357954545,2.357954545,0\\n0.0,0.0,0.07459903,13.635152613,5.732015094,5.732015094,0\\n0.0,0.0,0.102286217,9.865659541,3.991215017,3.991215017,0\\n0.0,0.0,0.071012047,2.49238361,6.490779573,6.03685943,0\\n0.0,0.0,0.087257806,4.91155038,2.840773658,2.840773658,0\\n0.0,0.0,0.0,1.187012385,1.807232793,1.807232793,0\\n0.0,0.0,0.0,8.855312603,0.0,0.0,0\\n2.452787678,0.0,0.041989267,4.658248331,3.879910696,3.879910696,0\\n0.0,0.0,0.0,0.0,0.0,0.0,0\\n0.002290583,0.0,0.0,6.528926251,0.0,0.0,0\\n0.0,0.0,0.031099518,12.13282504,0.0,0.0,0\\n0.000888889,0.0,0.048,5.550222222,0.0,0.0,0\\n0.0,0.0,0.0,2.704001299,2.038146254,0.849606363,0\\n0.0,0.0,0.0,0.484892788,1.314814815,1.314814815,0\\n0.129449838,0.0,0.0,3.006010171,1.178455848,1.178455848,0\\n0.0,0.0,0.0,2.278061846,3.270189108,3.270189108,0\\n0.0,0.0,0.048163557,3.585693763,4.931366932,4.931366932,0\\n0.0,0.0,0.055425143,0.721749478,0.737235915,0.0,0\\n0.0,0.0,0.156095181,4.259996037,4.505419125,4.505419125,0\\n0.0,0.0,0.113855066,9.469978468,5.73372206,5.73372206,0\\n0.0,0.0,0.0,5.532449419,7.887174834,7.887174834,0\\n0.0,0.0,0.057061847,10.84387737,0.0,0.0,0\\n0.0,0.0,0.061120543,2.291680815,2.954499151,2.095755518,0\\n0.0,0.0,0.084417626,6.410571154,4.413835877,4.413835877,0\\n0.072235674,0.0,0.0,3.773204197,1.920500404,1.920500404,0\\n0.0,0.0,0.031768325,6.44172463,5.603486713,5.603486713,0\\n0.0,0.079648273,0.129985982,3.013253473,1.752262011,1.752262011,0\\n0.0,0.0,0.045504038,17.164367088,0.0,0.0,0\\n0.0,0.0,0.081091683,0.0,0.0,0.0,0\\n0.256359764,0.0,0.103200303,2.087344653,0.331116168,0.0189626,0\\n0.0,0.0,0.148828556,3.656376567,4.276107978,4.276107978,0\\n0.0,0.0,0.08415181,0.0,0.0,0.0,0\\n0.0,0.035811365,0.045303534,8.256461147,0.0,0.0,0\\n0.0,0.0,0.0332088,0.0,0.0,0.0,0\\n0.0,0.0,0.079121859,8.37577311,7.56728144,7.56728144,0\\n0.0,0.0,0.044754744,6.08575009,0.998925886,0.957303974,0\\n0.0,0.21020082,0.054721701,2.054235286,1.480091724,1.480091724,0\\n0.0,0.0,0.03037755,6.311297555,0.0,0.0,0\\n0.0,0.0,0.089739311,8.347980866,8.240442022,8.240442022,0\\n0.0,0.0,0.005909306,0.0,0.0,0.0,0\\n0.0,0.0,0.022482014,9.928507194,0.0,0.0,0\\n0.620192308,0.0,0.0,5.380608974,4.139423077,4.139423077,0\\n0.0,0.020169769,0.113294024,0.0,2.887281029,2.887281029,0\\n0.0,0.022174372,0.025675589,0.0,0.0,0.0,0\\n0.0,0.0,0.042758636,5.356195672,4.325658429,4.325658429,0\\n0.0,0.0,0.008279392,0.0,14.04862261,7.565858799,0\\n4.469270958,0.0,0.02741884,0.0,0.0,0.0,0\\n0.0,0.0,0.082773053,3.451480154,3.807950898,3.313264772,0\\n0.003738178,0.0,0.116818063,0.0,3.104556839,3.104556839,0\\n0.0,0.0,0.066538421,1.333403605,1.42563508,1.42563508,0\\n0.016800478,0.0,0.029723923,3.016978176,2.22412484,2.22412484,0\\n0.0,0.0,0.016950589,9.655055513,0.0,0.0,0\\n0.002855457,0.004283185,0.036169119,10.154480212,0.0,0.0,0\\n0.0,0.0,0.0,4.442616207,1.551764881,1.551764881,0\\n0.0,0.0,0.0,8.667226891,3.921848739,3.921848739,0\\n0.0,0.0,0.0,8.113564866,5.822234048,5.822234048,0\\n0.0,0.0,0.0,6.242393461,0.0,0.0,0\\n0.0,0.0,0.100540723,0.0,14.857215275,6.850287259,0\\n0.001554726,0.047419154,0.178793532,0.0,1.773165423,1.773165423,0\\n0.0,0.0,0.051516044,0.000919929,0.025758022,0.022998234,0\\n4.469270958,0.0,0.02741884,0.0,0.0,0.0,0\\n0.0,0.031103271,0.064336904,0.0,0.0,0.0,0\\n0.0,0.0,0.096296296,0.0,0.0,0.0,0\\n0.0,0.0,0.0,2.493227554,0.86880805,0.86880805,0\\n0.0,0.0,0.146379397,0.0,0.091487123,0.091487123,0\\n0.082892416,0.0,0.0,8.386243386,5.733686067,5.733686067,0\\n0.028748341,0.0,0.223352499,0.0,0.0,0.0,0\\n0.004464286,0.080357143,0.0,0.064732143,0.0,0.0,0\\n0.0,0.0,0.095243947,0.0,0.0,0.0,0\\n0.0,0.0,0.0,0.0,0.0,0.0,0\\n0.002855457,0.004283185,0.036169119,10.154480212,0.0,0.0,0\\n0.0,0.0,0.0,11.901625849,0.436989778,0.436989778,0\\n0.0,0.0,0.036559879,0.0,7.009674726,7.009674726,0\\n0.0,0.0,0.0,2.423072216,3.600614606,1.095957467,0\\n0.0,0.0,0.048370171,0.0,0.0,0.0,0\\n0.046402056,0.0,0.0,0.0,0.0,0.0,0\\n0.0,0.0,0.125109894,0.0,0.0,0.0,0\\n0.0,0.0,0.0,12.964780955,0.997054853,0.026076819,0\\n0.024496995,0.0,0.082473217,3.695779984,0.013065064,0.004082833,0\\n0.126262626,0.0,0.037231287,0.178062678,0.0,0.0,0\\n0.0,0.0,0.241161267,4.158589495,1.07887935,1.07887935,0\\n0.0,0.0,0.007407407,0.540740741,3.417283951,3.417283951,0\\n0.0,0.0,0.029920213,7.286125887,5.362736407,5.362736407,0\\n0.001013274,0.061809707,0.171243287,4.348971527,4.550613031,4.550613031,0\\n0.0,0.0,0.0,12.124170851,0.0,0.0,0\\n0.0,0.0,0.173299101,8.090500642,0.118741977,0.118741977,0\\n0.0,0.0,0.245642263,2.018771789,0.0,0.0,0\\n0.0,0.0,0.0,8.474266319,5.609766802,5.609766802,0\\n0.0,0.076864807,0.0,0.0,0.0,0.0,0\\n0.0,0.0,0.126162676,3.460815357,0.0,0.0,0\\n0.0,0.0,0.235437937,10.429447853,0.0,0.0,0\\n0.0,0.0,0.44314177,0.0,0.0,0.0,0\\n0.039284559,0.0,0.154827379,8.228959652,6.133012895,6.133012895,0\\n0.0,0.0,0.0,5.829625995,2.764938958,2.764938958,0\\n0.0,0.0,0.064492754,0.0,0.0,0.0,0\\n0.0,0.0,0.140763817,1.193031037,0.0,0.0,0\\n0.0,0.0,0.11638845,4.095916838,0.0,0.0,0\\n0.0,0.0,0.076660132,9.58125974,6.173025687,6.173025687,0\\n0.0,0.0,0.036223135,2.589283319,0.0,0.0,0\\n0.0,0.0,0.071274733,4.400440044,0.0,0.0,0\\n0.0,0.0,0.106343768,6.990894315,4.090005498,4.090005498,0\\n0.0,0.0,0.052923387,0.0,0.0,0.0,0\\n0.0,0.0,0.0,0.0,0.0,0.0,0\\n0.0,0.0,0.090711176,7.88857369,5.175484892,5.175484892,0\\n0.0,0.0,0.024805103,0.0,0.0,0.0,0\\n0.0,0.0,0.090909091,0.0,0.0,0.0,0\\n0.002906977,0.0,0.030813953,6.029651163,0.0,0.0,0\\n0.0,0.0,0.127748355,3.420959718,0.0,0.0,0\\n0.0,0.0,0.3986195,0.0,0.0,0.0,0\\n0.006931208,0.0,0.040720846,0.0,0.0,0.0,0\\n0.001619433,0.0,0.077732794,9.861538462,8.660728745,8.660728745,0\\n0.0,0.0,0.058479532,4.980506823,0.072124756,0.0,0\\n0.0,0.0,0.167883747,9.668452534,1.034365711,1.034365711,0\\n0.0,0.0,0.041262818,10.734478157,5.981352718,5.981352718,0\\n0.979401078,16.958948664,0.046882325,2.48769339,0.0,0.0,1\\n0.058665773,15.566543748,0.196111297,0.0,0.0,0.0,1\\n1.829063147,14.074792961,0.031702899,0.0,0.0,0.0,1\\n2.804717308,0.152271939,0.004856053,0.0,0.0,0.0,1\\n2.510348847,0.0,0.068322482,0.0,0.0,0.0,1\\n0.0,0.0,0.116759377,0.0,0.0,0.0,1\\n6.507196996,0.0,0.105695014,0.0,0.0,0.0,1\\n4.677915738,0.0,0.140082776,0.0,0.0,0.0,1\\n3.118380316,0.0,0.169056542,0.0,0.0,0.0,1\\n4.06671025,0.0,0.076743789,0.0,0.0,0.0,1\\n0.0,0.0,0.045207957,0.0,0.0,0.0,1\\n3.195100354,0.0,0.126918536,0.0,0.0,0.0,1\\n0.355610904,7.673539043,0.0,0.275356303,0.0,0.0,1\\n0.663501119,4.680165379,0.034754821,0.0,0.0,0.0,1\\n0.501514993,5.802685195,0.036242294,0.0,0.0,0.0,1\\n1.448672089,3.566102811,0.02332879,0.0,0.0,0.0,1\\n0.858062038,0.0,0.088831269,0.0,0.0,0.0,1\\n2.046468542,4.588248639,0.059550817,0.0,0.0,0.0,1\\n5.3241237,0.0,0.03081788,0.0,0.0,0.0,1\\n3.059849386,21.512485137,0.031708284,0.0,0.0,0.0,1\\n1.87017211,19.164520938,0.030491937,0.0,0.0,0.0,1\\n1.181676162,6.996385642,0.0,0.0,0.0,0.0,1\\n1.657903494,0.0,0.045923461,0.0,0.0,0.0,1\\n1.375206612,14.950413223,0.037190083,0.0,0.0,0.0,1\\n2.107477925,32.308912804,0.0,0.0,0.0,0.0,1\\n0.480936756,0.0,0.0352082,0.0,0.0,0.0,1\\n1.405737574,0.084906762,0.039800045,0.0,0.0,0.0,1\\n1.429483853,0.0,0.048700651,0.0,0.0,0.0,1\\n1.623553703,13.843546691,0.015582999,0.0,0.0,0.0,1\\n4.966005609,0.0,0.049428047,0.0,0.0,0.0,1\\n1.365418968,12.872923639,0.023612508,0.0,0.0,0.0,1\\n1.475956065,10.607126113,0.0,0.0,0.0,0.0,1\\n2.580283794,13.434466019,0.045743092,0.0,0.0,0.0,1\\n1.208582988,13.390433758,0.058892815,0.0,0.0,0.0,1\\n0.308702684,9.513506425,0.026772445,0.0,0.0,0.0,1\\n2.111849548,0.273614253,0.0,0.0,0.0,0.0,1\\n0.312468394,0.187906888,0.0,0.0,0.0,0.0,1\\n1.699590092,3.907748997,0.0,0.0,0.0,0.0,1\\n1.261645963,0.046760305,0.044995765,0.0,0.0,0.0,1\\n4.183953033,0.0,0.055353648,0.0,0.0,0.0,1\\n0.307761177,16.612575308,0.0,0.0,0.0,0.0,1\\n7.688952498,0.0,0.058611054,0.0,0.0,0.0,1\\n0.0,0.063628651,0.0,0.0,0.0,0.0,1\\n0.0,0.039908211,0.473910007,0.0,0.0,0.0,1\\n0.0,0.024797844,0.086253369,0.0,0.0,0.0,1\\n0.092525727,0.178281278,0.069958476,0.0,0.0,0.0,1\\n0.028179839,11.469194313,0.135775586,0.0,0.0,0.0,1\\n0.491803279,0.0,0.0,0.0,0.0,0.0,1\\n0.191131498,0.0,0.0,0.0,0.0,0.0,1\\n1.085376162,8.202874049,0.050718512,0.0,0.0,0.0,1\\n0.138848864,7.372088758,0.081213487,0.0,0.0,0.0,1\\n0.078528726,8.650825818,0.138058567,0.525635829,0.0,0.0,1\\n0.070499893,9.101044382,0.098371944,0.0,0.0,0.0,1\\n0.018296095,0.0,0.0,0.0,0.0,0.0,1\\n0.072990481,0.0,0.0304127,0.0,0.0,0.0,1\\n0.039355119,0.0,0.05292585,0.0,0.0,0.0,1\\n0.028068487,0.0,0.0,0.0,0.0,0.0,1\\n1.207367796,0.007130125,0.20439691,0.0,0.0,0.0,1\\n0.0,0.0,0.119199659,0.0,0.0,0.0,1\\n0.660317686,0.0,0.0,0.0,0.0,0.0,1\\n0.0,0.155041727,0.036367813,0.0,0.0,0.0,1\\n0.058665773,15.566543748,0.196111297,0.0,0.0,0.0,1\\n0.058696928,0.052827235,0.097828214,0.0,0.0,0.0,1\\n0.516451479,0.00666389,0.0,0.0,0.0,0.0,1\\n0.112978525,0.0,0.115779645,0.0,0.0,0.0,1\\n1.399440542,2.311739089,0.031787406,0.0,0.0,0.0,1\\n0.051243533,0.0,0.016145223,0.0,0.0,0.0,1\\n1.619217082,0.0,0.019572954,0.0,0.0,0.0,1\\n1.242105263,0.0,0.114127424,0.0,0.0,0.0,1\\n1.862687235,8.791415663,0.104302345,0.0,0.0,0.0,1\\n0.171260997,5.309090909,0.056304985,0.0,0.0,0.0,1\\n0.842998586,11.237623762,0.045968883,0.0,0.0,0.0,1\\n2.599648343,0.0,0.066843948,0.0,0.0,0.0,1\\n0.023988486,0.0,0.004569235,0.0,0.0,0.0,1\\n0.120609675,0.0,0.047713718,0.0,0.0,0.0,1\\n0.42369338,0.0,0.712195122,0.0,0.0,0.0,1\\n0.773406766,7.593233674,0.0,0.0,0.0,0.0,1\\n0.0,0.0,0.143328579,0.0,0.0,0.0,1\\n0.942271339,9.738548786,0.030827396,0.0,0.0,0.0,1\\n0.065261372,0.024146708,0.274097762,0.0,0.0,0.0,1\\n8.468309859,0.0,0.278755869,0.0,0.0,0.0,1\\n0.462344029,0.325868984,0.0,0.0,0.0,0.0,1\\n0.258885898,4.702521562,0.227297698,0.0,0.0,0.0,1\\n0.291149711,0.0,0.055417701,0.0,0.0,0.0,1\\n0.902278636,0.0,0.063025113,0.0,0.0,0.0,1\\n0.000558659,0.0,0.039106145,0.0,0.0,0.0,1\\n1.954776665,12.935145446,0.0,0.0,0.0,0.0,1\\n2.836879433,0.0,0.082348306,0.0,0.0,0.0,1\\n1.765465465,0.0,0.06996997,0.077177177,0.0,0.0,1\\n3.856391115,0.001529707,0.10402007,0.0,0.0,0.0,1\\n3.52862254,0.0,0.053667263,0.0,0.0,0.0,1\\n1.630342605,11.98906038,0.052295341,0.0,0.0,0.0,1\\n6.814814815,0.0,0.086140439,0.0,0.0,0.0,1\\n7.385644191,0.0,0.041943653,0.0,0.0,0.0,1\\n1.684732624,1.178557351,0.141242938,0.0,0.0,0.0,1\\n1.587927248,0.0,0.149476066,0.0,0.0,0.0,1\\n9.431089476,0.0,0.065570855,0.0,0.0,0.0,1\\n3.25017819,0.0,0.141255751,0.0,0.0,0.0,1\\n0.752833109,10.047759306,0.019969048,0.0,0.0,0.0,1\\n0.0,0.017687075,0.111564626,0.0,0.0,0.0,1\\n0.0,0.0,0.043366702,0.0,0.0,0.0,1\\n0.0,0.0,1.029748284,0.0,0.0,0.0,1\\n0.0,0.0,0.021648145,0.0,0.0,0.0,1\\n0.0,0.0,0.045692317,0.0,0.0,0.0,1\\n6.485411788,0.0,0.085382514,0.0,0.0,0.0,1\\n0.0,0.0,0.06491441,0.0,0.0,0.0,1\\n4.264975221,0.0,0.114468864,0.0,0.0,0.0,1\\n1.429133481,0.0,0.014355135,0.0,0.0,0.0,1\\n0.853902001,13.744247745,0.0,0.0,0.0,0.0,1\\n'"
            ],
            "application/vnd.google.colaboratory.intrinsic+json": {
              "type": "string"
            }
          },
          "metadata": {},
          "execution_count": 60
        }
      ]
    },
    {
      "cell_type": "code",
      "source": [
        "# save generated features to a csv file\n",
        "with open(\"image_features.csv\", \"w\") as file:\n",
        "  for line in export:\n",
        "    file.write(line)\n",
        "file.closed"
      ],
      "metadata": {
        "colab": {
          "base_uri": "https://localhost:8080/"
        },
        "id": "ptmzeH5unAI8",
        "outputId": "3271c2d2-8b21-4bb9-a4d9-564e77ac6c24"
      },
      "execution_count": 61,
      "outputs": [
        {
          "output_type": "execute_result",
          "data": {
            "text/plain": [
              "True"
            ]
          },
          "metadata": {},
          "execution_count": 61
        }
      ]
    },
    {
      "cell_type": "code",
      "source": [
        "dataset = pd.read_csv(\"image_features.csv\")\n",
        "\n",
        "dataset.head(4)"
      ],
      "metadata": {
        "colab": {
          "base_uri": "https://localhost:8080/",
          "height": 175
        },
        "id": "oOeHzol9nALx",
        "outputId": "120b87d9-3945-4593-e16b-78c141f856b7"
      },
      "execution_count": 62,
      "outputs": [
        {
          "output_type": "execute_result",
          "data": {
            "text/plain": [
              "   mouth     pants     shoes    tshirt    shorts  sneakers  class\n",
              "0    0.0  0.000000  0.043821  6.886102  3.495204  3.495204      0\n",
              "1    0.0  0.000000  0.053467  5.004901  3.183889  3.183889      0\n",
              "2    0.0  0.000000  0.000000  5.264620  5.029683  5.029683      0\n",
              "3    0.0  0.480168  0.023149  0.000000  0.000000  0.000000      0"
            ],
            "text/html": [
              "\n",
              "  <div id=\"df-43a101c7-3b84-4e01-bd91-3a7c34197563\">\n",
              "    <div class=\"colab-df-container\">\n",
              "      <div>\n",
              "<style scoped>\n",
              "    .dataframe tbody tr th:only-of-type {\n",
              "        vertical-align: middle;\n",
              "    }\n",
              "\n",
              "    .dataframe tbody tr th {\n",
              "        vertical-align: top;\n",
              "    }\n",
              "\n",
              "    .dataframe thead th {\n",
              "        text-align: right;\n",
              "    }\n",
              "</style>\n",
              "<table border=\"1\" class=\"dataframe\">\n",
              "  <thead>\n",
              "    <tr style=\"text-align: right;\">\n",
              "      <th></th>\n",
              "      <th>mouth</th>\n",
              "      <th>pants</th>\n",
              "      <th>shoes</th>\n",
              "      <th>tshirt</th>\n",
              "      <th>shorts</th>\n",
              "      <th>sneakers</th>\n",
              "      <th>class</th>\n",
              "    </tr>\n",
              "  </thead>\n",
              "  <tbody>\n",
              "    <tr>\n",
              "      <th>0</th>\n",
              "      <td>0.0</td>\n",
              "      <td>0.000000</td>\n",
              "      <td>0.043821</td>\n",
              "      <td>6.886102</td>\n",
              "      <td>3.495204</td>\n",
              "      <td>3.495204</td>\n",
              "      <td>0</td>\n",
              "    </tr>\n",
              "    <tr>\n",
              "      <th>1</th>\n",
              "      <td>0.0</td>\n",
              "      <td>0.000000</td>\n",
              "      <td>0.053467</td>\n",
              "      <td>5.004901</td>\n",
              "      <td>3.183889</td>\n",
              "      <td>3.183889</td>\n",
              "      <td>0</td>\n",
              "    </tr>\n",
              "    <tr>\n",
              "      <th>2</th>\n",
              "      <td>0.0</td>\n",
              "      <td>0.000000</td>\n",
              "      <td>0.000000</td>\n",
              "      <td>5.264620</td>\n",
              "      <td>5.029683</td>\n",
              "      <td>5.029683</td>\n",
              "      <td>0</td>\n",
              "    </tr>\n",
              "    <tr>\n",
              "      <th>3</th>\n",
              "      <td>0.0</td>\n",
              "      <td>0.480168</td>\n",
              "      <td>0.023149</td>\n",
              "      <td>0.000000</td>\n",
              "      <td>0.000000</td>\n",
              "      <td>0.000000</td>\n",
              "      <td>0</td>\n",
              "    </tr>\n",
              "  </tbody>\n",
              "</table>\n",
              "</div>\n",
              "      <button class=\"colab-df-convert\" onclick=\"convertToInteractive('df-43a101c7-3b84-4e01-bd91-3a7c34197563')\"\n",
              "              title=\"Convert this dataframe to an interactive table.\"\n",
              "              style=\"display:none;\">\n",
              "        \n",
              "  <svg xmlns=\"http://www.w3.org/2000/svg\" height=\"24px\"viewBox=\"0 0 24 24\"\n",
              "       width=\"24px\">\n",
              "    <path d=\"M0 0h24v24H0V0z\" fill=\"none\"/>\n",
              "    <path d=\"M18.56 5.44l.94 2.06.94-2.06 2.06-.94-2.06-.94-.94-2.06-.94 2.06-2.06.94zm-11 1L8.5 8.5l.94-2.06 2.06-.94-2.06-.94L8.5 2.5l-.94 2.06-2.06.94zm10 10l.94 2.06.94-2.06 2.06-.94-2.06-.94-.94-2.06-.94 2.06-2.06.94z\"/><path d=\"M17.41 7.96l-1.37-1.37c-.4-.4-.92-.59-1.43-.59-.52 0-1.04.2-1.43.59L10.3 9.45l-7.72 7.72c-.78.78-.78 2.05 0 2.83L4 21.41c.39.39.9.59 1.41.59.51 0 1.02-.2 1.41-.59l7.78-7.78 2.81-2.81c.8-.78.8-2.07 0-2.86zM5.41 20L4 18.59l7.72-7.72 1.47 1.35L5.41 20z\"/>\n",
              "  </svg>\n",
              "      </button>\n",
              "      \n",
              "  <style>\n",
              "    .colab-df-container {\n",
              "      display:flex;\n",
              "      flex-wrap:wrap;\n",
              "      gap: 12px;\n",
              "    }\n",
              "\n",
              "    .colab-df-convert {\n",
              "      background-color: #E8F0FE;\n",
              "      border: none;\n",
              "      border-radius: 50%;\n",
              "      cursor: pointer;\n",
              "      display: none;\n",
              "      fill: #1967D2;\n",
              "      height: 32px;\n",
              "      padding: 0 0 0 0;\n",
              "      width: 32px;\n",
              "    }\n",
              "\n",
              "    .colab-df-convert:hover {\n",
              "      background-color: #E2EBFA;\n",
              "      box-shadow: 0px 1px 2px rgba(60, 64, 67, 0.3), 0px 1px 3px 1px rgba(60, 64, 67, 0.15);\n",
              "      fill: #174EA6;\n",
              "    }\n",
              "\n",
              "    [theme=dark] .colab-df-convert {\n",
              "      background-color: #3B4455;\n",
              "      fill: #D2E3FC;\n",
              "    }\n",
              "\n",
              "    [theme=dark] .colab-df-convert:hover {\n",
              "      background-color: #434B5C;\n",
              "      box-shadow: 0px 1px 3px 1px rgba(0, 0, 0, 0.15);\n",
              "      filter: drop-shadow(0px 1px 2px rgba(0, 0, 0, 0.3));\n",
              "      fill: #FFFFFF;\n",
              "    }\n",
              "  </style>\n",
              "\n",
              "      <script>\n",
              "        const buttonEl =\n",
              "          document.querySelector('#df-43a101c7-3b84-4e01-bd91-3a7c34197563 button.colab-df-convert');\n",
              "        buttonEl.style.display =\n",
              "          google.colab.kernel.accessAllowed ? 'block' : 'none';\n",
              "\n",
              "        async function convertToInteractive(key) {\n",
              "          const element = document.querySelector('#df-43a101c7-3b84-4e01-bd91-3a7c34197563');\n",
              "          const dataTable =\n",
              "            await google.colab.kernel.invokeFunction('convertToInteractive',\n",
              "                                                     [key], {});\n",
              "          if (!dataTable) return;\n",
              "\n",
              "          const docLinkHtml = 'Like what you see? Visit the ' +\n",
              "            '<a target=\"_blank\" href=https://colab.research.google.com/notebooks/data_table.ipynb>data table notebook</a>'\n",
              "            + ' to learn more about interactive tables.';\n",
              "          element.innerHTML = '';\n",
              "          dataTable['output_type'] = 'display_data';\n",
              "          await google.colab.output.renderOutput(dataTable, element);\n",
              "          const docLink = document.createElement('div');\n",
              "          docLink.innerHTML = docLinkHtml;\n",
              "          element.appendChild(docLink);\n",
              "        }\n",
              "      </script>\n",
              "    </div>\n",
              "  </div>\n",
              "  "
            ]
          },
          "metadata": {},
          "execution_count": 62
        }
      ]
    },
    {
      "cell_type": "markdown",
      "source": [
        "### Train and Test Dataset split"
      ],
      "metadata": {
        "id": "sZjSDuzInAOi"
      }
    },
    {
      "cell_type": "code",
      "source": [
        "x = dataset.iloc[:, 0:6].values\n",
        "\n",
        "y = dataset[\"class\"].values"
      ],
      "metadata": {
        "id": "VgzJUuUEnICf"
      },
      "execution_count": 63,
      "outputs": []
    },
    {
      "cell_type": "code",
      "source": [
        "from sklearn.model_selection import train_test_split\n",
        "\n",
        "x_train, x_test, y_train, y_test = train_test_split(x, y, test_size = 0.2, random_state = 1)"
      ],
      "metadata": {
        "id": "uGgN49_anATn"
      },
      "execution_count": 67,
      "outputs": []
    },
    {
      "cell_type": "code",
      "source": [
        "x_train.shape, y_train.shape, x_test.shape, y_test.shape"
      ],
      "metadata": {
        "colab": {
          "base_uri": "https://localhost:8080/"
        },
        "id": "Ec37L9YSnAWD",
        "outputId": "ceb74ce4-08b1-4faf-cddd-2d901f501e90"
      },
      "execution_count": 68,
      "outputs": [
        {
          "output_type": "execute_result",
          "data": {
            "text/plain": [
              "((215, 6), (215,), (54, 6), (54,))"
            ]
          },
          "metadata": {},
          "execution_count": 68
        }
      ]
    },
    {
      "cell_type": "markdown",
      "source": [
        "### Building NN and Evaluation"
      ],
      "metadata": {
        "id": "gWcIqemUnAY-"
      }
    },
    {
      "cell_type": "code",
      "source": [
        "model2 = keras.models.Sequential([\n",
        "        keras.layers.Dense(input_shape = (6,), units = 4, activation = \"relu\"),\n",
        "        keras.layers.Dense(units = 4, activation = \"relu\"),\n",
        "        keras.layers.Dense(units = 4, activation = \"relu\"),\n",
        "        keras.layers.Dense(units = 1, activation = \"sigmoid\")\n",
        "])\n",
        "\n",
        "model2.summary()"
      ],
      "metadata": {
        "colab": {
          "base_uri": "https://localhost:8080/"
        },
        "id": "LiaKtA5jnAbm",
        "outputId": "98e8c0de-888f-4d56-efeb-7eb2c0b5da86"
      },
      "execution_count": 70,
      "outputs": [
        {
          "output_type": "stream",
          "name": "stdout",
          "text": [
            "Model: \"sequential_2\"\n",
            "_________________________________________________________________\n",
            " Layer (type)                Output Shape              Param #   \n",
            "=================================================================\n",
            " dense_8 (Dense)             (None, 4)                 28        \n",
            "                                                                 \n",
            " dense_9 (Dense)             (None, 4)                 20        \n",
            "                                                                 \n",
            " dense_10 (Dense)            (None, 4)                 20        \n",
            "                                                                 \n",
            " dense_11 (Dense)            (None, 1)                 5         \n",
            "                                                                 \n",
            "=================================================================\n",
            "Total params: 73\n",
            "Trainable params: 73\n",
            "Non-trainable params: 0\n",
            "_________________________________________________________________\n"
          ]
        }
      ]
    },
    {
      "cell_type": "code",
      "source": [
        "model2.compile(optimizer = \"Adam\", loss = \"binary_crossentropy\", metrics = [\"accuracy\"])\n",
        "\n",
        "history = model2.fit(x_train, y_train, epochs = 50, validation_data=(x_test, y_test))"
      ],
      "metadata": {
        "colab": {
          "base_uri": "https://localhost:8080/"
        },
        "id": "91vy_mPPnAeF",
        "outputId": "e26580a7-a027-427d-99a5-de29329c3ffd"
      },
      "execution_count": 72,
      "outputs": [
        {
          "output_type": "stream",
          "name": "stdout",
          "text": [
            "Epoch 1/50\n",
            "7/7 [==============================] - 1s 46ms/step - loss: 0.6929 - accuracy: 0.6372 - val_loss: 0.6931 - val_accuracy: 0.5185\n",
            "Epoch 2/50\n",
            "7/7 [==============================] - 0s 13ms/step - loss: 0.6918 - accuracy: 0.6140 - val_loss: 0.6927 - val_accuracy: 0.5185\n",
            "Epoch 3/50\n",
            "7/7 [==============================] - 0s 9ms/step - loss: 0.6907 - accuracy: 0.6140 - val_loss: 0.6925 - val_accuracy: 0.5185\n",
            "Epoch 4/50\n",
            "7/7 [==============================] - 0s 9ms/step - loss: 0.6899 - accuracy: 0.6140 - val_loss: 0.6923 - val_accuracy: 0.5185\n",
            "Epoch 5/50\n",
            "7/7 [==============================] - 0s 9ms/step - loss: 0.6892 - accuracy: 0.6140 - val_loss: 0.6921 - val_accuracy: 0.5185\n",
            "Epoch 6/50\n",
            "7/7 [==============================] - 0s 10ms/step - loss: 0.6883 - accuracy: 0.6140 - val_loss: 0.6919 - val_accuracy: 0.5185\n",
            "Epoch 7/50\n",
            "7/7 [==============================] - 0s 10ms/step - loss: 0.6876 - accuracy: 0.6140 - val_loss: 0.6913 - val_accuracy: 0.5185\n",
            "Epoch 8/50\n",
            "7/7 [==============================] - 0s 9ms/step - loss: 0.6867 - accuracy: 0.6140 - val_loss: 0.6908 - val_accuracy: 0.5185\n",
            "Epoch 9/50\n",
            "7/7 [==============================] - 0s 12ms/step - loss: 0.6859 - accuracy: 0.6140 - val_loss: 0.6899 - val_accuracy: 0.5185\n",
            "Epoch 10/50\n",
            "7/7 [==============================] - 0s 12ms/step - loss: 0.6850 - accuracy: 0.6140 - val_loss: 0.6891 - val_accuracy: 0.5185\n",
            "Epoch 11/50\n",
            "7/7 [==============================] - 0s 9ms/step - loss: 0.6841 - accuracy: 0.6140 - val_loss: 0.6881 - val_accuracy: 0.5185\n",
            "Epoch 12/50\n",
            "7/7 [==============================] - 0s 9ms/step - loss: 0.6832 - accuracy: 0.6140 - val_loss: 0.6868 - val_accuracy: 0.5185\n",
            "Epoch 13/50\n",
            "7/7 [==============================] - 0s 10ms/step - loss: 0.6818 - accuracy: 0.6140 - val_loss: 0.6851 - val_accuracy: 0.5185\n",
            "Epoch 14/50\n",
            "7/7 [==============================] - 0s 9ms/step - loss: 0.6803 - accuracy: 0.6140 - val_loss: 0.6826 - val_accuracy: 0.5185\n",
            "Epoch 15/50\n",
            "7/7 [==============================] - 0s 10ms/step - loss: 0.6774 - accuracy: 0.6140 - val_loss: 0.6778 - val_accuracy: 0.5185\n",
            "Epoch 16/50\n",
            "7/7 [==============================] - 0s 11ms/step - loss: 0.6717 - accuracy: 0.6140 - val_loss: 0.6701 - val_accuracy: 0.5185\n",
            "Epoch 17/50\n",
            "7/7 [==============================] - 0s 10ms/step - loss: 0.6598 - accuracy: 0.6140 - val_loss: 0.6578 - val_accuracy: 0.5185\n",
            "Epoch 18/50\n",
            "7/7 [==============================] - 0s 10ms/step - loss: 0.6425 - accuracy: 0.6140 - val_loss: 0.6418 - val_accuracy: 0.5185\n",
            "Epoch 19/50\n",
            "7/7 [==============================] - 0s 9ms/step - loss: 0.6238 - accuracy: 0.6140 - val_loss: 0.6237 - val_accuracy: 0.5185\n",
            "Epoch 20/50\n",
            "7/7 [==============================] - 0s 11ms/step - loss: 0.6023 - accuracy: 0.6140 - val_loss: 0.6065 - val_accuracy: 0.5185\n",
            "Epoch 21/50\n",
            "7/7 [==============================] - 0s 12ms/step - loss: 0.5811 - accuracy: 0.6140 - val_loss: 0.5866 - val_accuracy: 0.5185\n",
            "Epoch 22/50\n",
            "7/7 [==============================] - 0s 12ms/step - loss: 0.5540 - accuracy: 0.6140 - val_loss: 0.5648 - val_accuracy: 0.5185\n",
            "Epoch 23/50\n",
            "7/7 [==============================] - 0s 11ms/step - loss: 0.5293 - accuracy: 0.6140 - val_loss: 0.5450 - val_accuracy: 0.5185\n",
            "Epoch 24/50\n",
            "7/7 [==============================] - 0s 10ms/step - loss: 0.5079 - accuracy: 0.6140 - val_loss: 0.5275 - val_accuracy: 0.5185\n",
            "Epoch 25/50\n",
            "7/7 [==============================] - 0s 9ms/step - loss: 0.4884 - accuracy: 0.6140 - val_loss: 0.5128 - val_accuracy: 0.5185\n",
            "Epoch 26/50\n",
            "7/7 [==============================] - 0s 10ms/step - loss: 0.4728 - accuracy: 0.6140 - val_loss: 0.5007 - val_accuracy: 0.5185\n",
            "Epoch 27/50\n",
            "7/7 [==============================] - 0s 11ms/step - loss: 0.4597 - accuracy: 0.6140 - val_loss: 0.4901 - val_accuracy: 0.5185\n",
            "Epoch 28/50\n",
            "7/7 [==============================] - 0s 10ms/step - loss: 0.4487 - accuracy: 0.6140 - val_loss: 0.4812 - val_accuracy: 0.5185\n",
            "Epoch 29/50\n",
            "7/7 [==============================] - 0s 11ms/step - loss: 0.4399 - accuracy: 0.6140 - val_loss: 0.4734 - val_accuracy: 0.5185\n",
            "Epoch 30/50\n",
            "7/7 [==============================] - 0s 10ms/step - loss: 0.4324 - accuracy: 0.6140 - val_loss: 0.4665 - val_accuracy: 0.5185\n",
            "Epoch 31/50\n",
            "7/7 [==============================] - 0s 10ms/step - loss: 0.4257 - accuracy: 0.6140 - val_loss: 0.4606 - val_accuracy: 0.5185\n",
            "Epoch 32/50\n",
            "7/7 [==============================] - 0s 10ms/step - loss: 0.4199 - accuracy: 0.6140 - val_loss: 0.4554 - val_accuracy: 0.5185\n",
            "Epoch 33/50\n",
            "7/7 [==============================] - 0s 10ms/step - loss: 0.4150 - accuracy: 0.6140 - val_loss: 0.4505 - val_accuracy: 0.5185\n",
            "Epoch 34/50\n",
            "7/7 [==============================] - 0s 11ms/step - loss: 0.4107 - accuracy: 0.6140 - val_loss: 0.4459 - val_accuracy: 0.5185\n",
            "Epoch 35/50\n",
            "7/7 [==============================] - 0s 10ms/step - loss: 0.4065 - accuracy: 0.6140 - val_loss: 0.4413 - val_accuracy: 0.5185\n",
            "Epoch 36/50\n",
            "7/7 [==============================] - 0s 10ms/step - loss: 0.4012 - accuracy: 0.6372 - val_loss: 0.4348 - val_accuracy: 0.6296\n",
            "Epoch 37/50\n",
            "7/7 [==============================] - 0s 10ms/step - loss: 0.3933 - accuracy: 0.7488 - val_loss: 0.4271 - val_accuracy: 0.6296\n",
            "Epoch 38/50\n",
            "7/7 [==============================] - 0s 20ms/step - loss: 0.3833 - accuracy: 0.8047 - val_loss: 0.4105 - val_accuracy: 0.9074\n",
            "Epoch 39/50\n",
            "7/7 [==============================] - 0s 22ms/step - loss: 0.3700 - accuracy: 0.8744 - val_loss: 0.3907 - val_accuracy: 0.9074\n",
            "Epoch 40/50\n",
            "7/7 [==============================] - 0s 20ms/step - loss: 0.3564 - accuracy: 0.8837 - val_loss: 0.3714 - val_accuracy: 0.9074\n",
            "Epoch 41/50\n",
            "7/7 [==============================] - 0s 20ms/step - loss: 0.3436 - accuracy: 0.8837 - val_loss: 0.3528 - val_accuracy: 0.9074\n",
            "Epoch 42/50\n",
            "7/7 [==============================] - 0s 22ms/step - loss: 0.3312 - accuracy: 0.8884 - val_loss: 0.3356 - val_accuracy: 0.9074\n",
            "Epoch 43/50\n",
            "7/7 [==============================] - 0s 11ms/step - loss: 0.3200 - accuracy: 0.8884 - val_loss: 0.3193 - val_accuracy: 0.9259\n",
            "Epoch 44/50\n",
            "7/7 [==============================] - 0s 18ms/step - loss: 0.3094 - accuracy: 0.8930 - val_loss: 0.3039 - val_accuracy: 0.9259\n",
            "Epoch 45/50\n",
            "7/7 [==============================] - 0s 15ms/step - loss: 0.2996 - accuracy: 0.8930 - val_loss: 0.2893 - val_accuracy: 0.9259\n",
            "Epoch 46/50\n",
            "7/7 [==============================] - 0s 24ms/step - loss: 0.2909 - accuracy: 0.8884 - val_loss: 0.2755 - val_accuracy: 0.9259\n",
            "Epoch 47/50\n",
            "7/7 [==============================] - 0s 10ms/step - loss: 0.2820 - accuracy: 0.8884 - val_loss: 0.2637 - val_accuracy: 0.9259\n",
            "Epoch 48/50\n",
            "7/7 [==============================] - 0s 22ms/step - loss: 0.2746 - accuracy: 0.8884 - val_loss: 0.2531 - val_accuracy: 0.9444\n",
            "Epoch 49/50\n",
            "7/7 [==============================] - 0s 16ms/step - loss: 0.2677 - accuracy: 0.8977 - val_loss: 0.2439 - val_accuracy: 0.9444\n",
            "Epoch 50/50\n",
            "7/7 [==============================] - 0s 10ms/step - loss: 0.2617 - accuracy: 0.8977 - val_loss: 0.2360 - val_accuracy: 0.9444\n"
          ]
        }
      ]
    },
    {
      "cell_type": "code",
      "source": [
        "plt.plot(history.history[\"loss\"])\n",
        "plt.plot(history.history[\"val_loss\"])\n",
        "plt.show();"
      ],
      "metadata": {
        "colab": {
          "base_uri": "https://localhost:8080/",
          "height": 265
        },
        "id": "Q5qvyb2HnAgo",
        "outputId": "821c4557-d953-4050-d848-07dad68be88a"
      },
      "execution_count": 73,
      "outputs": [
        {
          "output_type": "display_data",
          "data": {
            "text/plain": [
              "<Figure size 432x288 with 1 Axes>"
            ],
            "image/png": "[encoded data removed]"
          },
          "metadata": {
            "needs_background": "light"
          }
        }
      ]
    },
    {
      "cell_type": "code",
      "source": [
        "plt.plot(history.history[\"accuracy\"])\n",
        "plt.plot(history.history[\"val_accuracy\"])\n",
        "plt.show();"
      ],
      "metadata": {
        "colab": {
          "base_uri": "https://localhost:8080/",
          "height": 265
        },
        "id": "KRESuEHYnAjY",
        "outputId": "a74b5603-6964-4083-ea0c-a4635f2c7d3f"
      },
      "execution_count": 74,
      "outputs": [
        {
          "output_type": "display_data",
          "data": {
            "text/plain": [
              "<Figure size 432x288 with 1 Axes>"
            ],
            "image/png": "[encoded data removed]"
          },
          "metadata": {
            "needs_background": "light"
          }
        }
      ]
    },
    {
      "cell_type": "code",
      "source": [
        "predictions = model2.predict(x_test)\n",
        "predictions = (predictions > 0.5)"
      ],
      "metadata": {
        "id": "-jQ8JgcAnAmB"
      },
      "execution_count": null,
      "outputs": []
    },
    {
      "cell_type": "code",
      "source": [
        "from sklearn.metrics import f1_score, recall_score, precision_score, accuracy_score, confusion_matrix\n",
        "\n",
        "y_pred = predictions.reshape(-1)\n",
        "\n",
        "print(f\"accuracy: {accuracy_score(y_test, y_pred)}\")\n",
        "print(f\"f1_score: {f1_score(y_test, y_pred)}\")\n",
        "print(f\"recall_score: {recall_score(y_test, y_pred)}\")\n",
        "print(f\"precision_score: {precision_score(y_test, y_pred)}\")\\\n",
        "\n",
        "sns.heatmap(confusion_matrix(y_test, y_pred), annot = True);"
      ],
      "metadata": {
        "colab": {
          "base_uri": "https://localhost:8080/",
          "height": 334
        },
        "id": "ORu4SpXa_PEd",
        "outputId": "437233f0-1141-4020-f8b9-dd51ffa81d60"
      },
      "execution_count": 89,
      "outputs": [
        {
          "output_type": "stream",
          "name": "stdout",
          "text": [
            "accuracy: 0.9444444444444444\n",
            "f1_score: 0.9411764705882353\n",
            "recall_score: 0.9230769230769231\n",
            "precision_score: 0.96\n"
          ]
        },
        {
          "output_type": "display_data",
          "data": {
            "text/plain": [
              "<Figure size 432x288 with 2 Axes>"
            ],
            "image/png": "[encoded data removed]"
          },
          "metadata": {
            "needs_background": "light"
          }
        }
      ]
    },
    {
      "cell_type": "code",
      "source": [
        "from sklearn.metrics import classification_report\n",
        "\n",
        "print(classification_report(y_test, y_pred))"
      ],
      "metadata": {
        "colab": {
          "base_uri": "https://localhost:8080/"
        },
        "id": "vgH1BAPD_meF",
        "outputId": "c6f58b8c-9aaa-4cc8-9bb1-3cacac6ac98d"
      },
      "execution_count": 91,
      "outputs": [
        {
          "output_type": "stream",
          "name": "stdout",
          "text": [
            "              precision    recall  f1-score   support\n",
            "\n",
            "           0       0.93      0.96      0.95        28\n",
            "           1       0.96      0.92      0.94        26\n",
            "\n",
            "    accuracy                           0.94        54\n",
            "   macro avg       0.95      0.94      0.94        54\n",
            "weighted avg       0.94      0.94      0.94        54\n",
            "\n"
          ]
        }
      ]
    },
    {
      "cell_type": "markdown",
      "source": [
        "### Saving and Loading the model to clf a single image"
      ],
      "metadata": {
        "id": "Vt81lH94nAo2"
      }
    },
    {
      "cell_type": "code",
      "source": [
        "model_json = model2.to_json()\n",
        "with open(\"model2.json\", \"w\") as json_file:\n",
        "  json_file.write(model_json)"
      ],
      "metadata": {
        "id": "c10t3b17-1Fv"
      },
      "execution_count": 92,
      "outputs": []
    },
    {
      "cell_type": "code",
      "source": [
        "from keras.models import save_model\n",
        "model2_saved = save_model(model2, \"/content/model2_weights.hdf5\")"
      ],
      "metadata": {
        "id": "oJFTiSx7-1Ia"
      },
      "execution_count": 93,
      "outputs": []
    },
    {
      "cell_type": "code",
      "source": [
        "# loads model structure and weights\n",
        "\n",
        "with open(\"model2.json\", \"r\") as json_file:\n",
        "  json_saved_model = json_file.read()\n",
        "\n",
        "model2_loaded = keras.models.model_from_json(json_saved_model)\n",
        "model2_loaded.load_weights(\"model2_weights.hdf5\")\n",
        "model2_loaded.compile(loss = \"binary_crossentropy\", optimizer = \"Adam\", metrics = [\"accuracy\"])   # compilation params must be same as previosuly saved model\n",
        "\n",
        "model2_loaded.summary()"
      ],
      "metadata": {
        "colab": {
          "base_uri": "https://localhost:8080/"
        },
        "id": "tizIKdFK-1K0",
        "outputId": "78e28d3e-f9b8-4fd1-fbeb-6e5a8765b78a"
      },
      "execution_count": 97,
      "outputs": [
        {
          "output_type": "stream",
          "name": "stdout",
          "text": [
            "Model: \"sequential_2\"\n",
            "_________________________________________________________________\n",
            " Layer (type)                Output Shape              Param #   \n",
            "=================================================================\n",
            " dense_8 (Dense)             (None, 4)                 28        \n",
            "                                                                 \n",
            " dense_9 (Dense)             (None, 4)                 20        \n",
            "                                                                 \n",
            " dense_10 (Dense)            (None, 4)                 20        \n",
            "                                                                 \n",
            " dense_11 (Dense)            (None, 1)                 5         \n",
            "                                                                 \n",
            "=================================================================\n",
            "Total params: 73\n",
            "Trainable params: 73\n",
            "Non-trainable params: 0\n",
            "_________________________________________________________________\n"
          ]
        }
      ]
    },
    {
      "cell_type": "code",
      "source": [
        "test_image = x_test[33]\n",
        "test_label = y_test[33]\n",
        "\n",
        "test_image.shape"
      ],
      "metadata": {
        "colab": {
          "base_uri": "https://localhost:8080/"
        },
        "id": "Sg9qnW2p-1NS",
        "outputId": "6bec2786-da31-4fa2-aae9-e16535e22248"
      },
      "execution_count": 101,
      "outputs": [
        {
          "output_type": "execute_result",
          "data": {
            "text/plain": [
              "(6,)"
            ]
          },
          "metadata": {},
          "execution_count": 101
        }
      ]
    },
    {
      "cell_type": "code",
      "source": [
        "# reshape image to batch format needed by nn\n",
        "test_image = test_image.reshape(1, -1)"
      ],
      "metadata": {
        "id": "OiGp3N1E-1Q8"
      },
      "execution_count": 102,
      "outputs": []
    },
    {
      "cell_type": "code",
      "source": [
        "if(model2_loaded.predict(test_image)[0][0] < 0.5):\n",
        "  print(\"Prediction: Bart\")\n",
        "  if(test_label == 0):\n",
        "    print(\"Actual: Bart\")\n",
        "  else:\n",
        "    print(\"Actual: Homer\")\n",
        "  \n",
        "else:\n",
        "  print(\"Prediction: Homer\")\n",
        "  if(test_label == 0):\n",
        "    print(\"Actual: Bart\")\n",
        "  else:\n",
        "    print(\"Actual: Homer\")"
      ],
      "metadata": {
        "colab": {
          "base_uri": "https://localhost:8080/"
        },
        "id": "lywA6pbc-1S2",
        "outputId": "f43f5bd9-92f3-44bd-d23f-c809b2dc4dd6"
      },
      "execution_count": 105,
      "outputs": [
        {
          "output_type": "stream",
          "name": "stdout",
          "text": [
            "Prediction: Homer\n",
            "Actual: Homer\n"
          ]
        }
      ]
    },
    {
      "cell_type": "code",
      "source": [
        ""
      ],
      "metadata": {
        "id": "0vZ2Rcaj-1Vv"
      },
      "execution_count": 105,
      "outputs": []
    },
    {
      "cell_type": "code",
      "source": [
        ""
      ],
      "metadata": {
        "id": "EKMZqx1s-1Xb"
      },
      "execution_count": null,
      "outputs": []
    },
    {
      "cell_type": "code",
      "source": [
        ""
      ],
      "metadata": {
        "id": "L65RqHCH-1Z6"
      },
      "execution_count": null,
      "outputs": []
    },
    {
      "cell_type": "code",
      "source": [
        ""
      ],
      "metadata": {
        "id": "XNjwVaSo-1co"
      },
      "execution_count": null,
      "outputs": []
    },
    {
      "cell_type": "code",
      "source": [
        ""
      ],
      "metadata": {
        "id": "JdpCBRD2-1fE"
      },
      "execution_count": null,
      "outputs": []
    },
    {
      "cell_type": "code",
      "source": [
        ""
      ],
      "metadata": {
        "id": "4quR93WE-1ht"
      },
      "execution_count": null,
      "outputs": []
    },
    {
      "cell_type": "code",
      "source": [
        ""
      ],
      "metadata": {
        "id": "Cye46qb1-1kh"
      },
      "execution_count": null,
      "outputs": []
    },
    {
      "cell_type": "code",
      "source": [
        ""
      ],
      "metadata": {
        "id": "fJpq4EfN-1n9"
      },
      "execution_count": null,
      "outputs": []
    },
    {
      "cell_type": "code",
      "source": [
        ""
      ],
      "metadata": {
        "id": "8F8u6FTc-1zM"
      },
      "execution_count": null,
      "outputs": []
    },
    {
      "cell_type": "code",
      "source": [
        ""
      ],
      "metadata": {
        "id": "dH_N2swP-12j"
      },
      "execution_count": null,
      "outputs": []
    },
    {
      "cell_type": "code",
      "source": [
        ""
      ],
      "metadata": {
        "id": "1MibIjzcnAsO"
      },
      "execution_count": 30,
      "outputs": []
    }
  ]
}